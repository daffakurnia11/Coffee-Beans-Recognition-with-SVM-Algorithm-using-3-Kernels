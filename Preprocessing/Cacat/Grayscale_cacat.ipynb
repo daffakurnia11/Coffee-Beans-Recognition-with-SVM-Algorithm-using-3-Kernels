{
 "cells": [
  {
   "cell_type": "markdown",
   "metadata": {},
   "source": [
    "# Importing required libraries"
   ]
  },
  {
   "cell_type": "code",
   "execution_count": 143,
   "metadata": {},
   "outputs": [],
   "source": [
    "import cv2\n",
    "import glob\n",
    "import matplotlib.pyplot as plt\n",
    "import os,glob\n",
    "import os\n",
    "from os import listdir,makedirs\n",
    "from os.path import isfile,join\n",
    "import skimage\n",
    "from skimage import data\n",
    "import numpy as np\n",
    "import matplotlib.pyplot as plt\n",
    "%matplotlib inline\n",
    "from PIL import Image\n",
    "\n",
    "dir_path = \"C:/Users/LnData User/Documents/SEMESTER 7/FP SIFON/Coffee Beans Classification/Dataset/Cacad/\""
   ]
  },
  {
   "cell_type": "markdown",
   "metadata": {},
   "source": [
    "# Load the image"
   ]
  },
  {
   "cell_type": "code",
   "execution_count": 144,
   "metadata": {},
   "outputs": [],
   "source": [
    "# convert image into grayscale\n",
    "image = Image.open(f'{dir_path}Image/Cacad1.jpg')\n",
    "greyscale_image = image.convert('L')\n",
    "greyscale_image.save(f'{dir_path}Grayscale/Cacad1_grayscale.jpg')"
   ]
  },
  {
   "cell_type": "code",
   "execution_count": 145,
   "metadata": {},
   "outputs": [],
   "source": [
    "# convert image into grayscale\n",
    "image = Image.open(f'{dir_path}Image/Cacad2.jpg')\n",
    "greyscale_image = image.convert('L')\n",
    "greyscale_image.save(f'{dir_path}Grayscale/Cacad2_grayscale.jpg')"
   ]
  },
  {
   "cell_type": "code",
   "execution_count": 146,
   "metadata": {},
   "outputs": [],
   "source": [
    "# convert image into grayscale\n",
    "image = Image.open(f'{dir_path}Image/Cacad3.jpg')\n",
    "greyscale_image = image.convert('L')\n",
    "greyscale_image.save(f'{dir_path}Grayscale/Cacad3_grayscale.jpg')"
   ]
  },
  {
   "cell_type": "code",
   "execution_count": 147,
   "metadata": {},
   "outputs": [],
   "source": [
    "# convert image into grayscale\n",
    "image = Image.open(f'{dir_path}Image/Cacad4.jpg')\n",
    "greyscale_image = image.convert('L')\n",
    "greyscale_image.save(f'{dir_path}Grayscale/Cacad4_grayscale.jpg')"
   ]
  },
  {
   "cell_type": "code",
   "execution_count": 148,
   "metadata": {},
   "outputs": [],
   "source": [
    "# convert image into grayscale\n",
    "image = Image.open(f'{dir_path}Image/Cacad5.jpg')\n",
    "greyscale_image = image.convert('L')\n",
    "greyscale_image.save(f'{dir_path}Grayscale/Cacad5_grayscale.jpg')"
   ]
  },
  {
   "cell_type": "code",
   "execution_count": 149,
   "metadata": {},
   "outputs": [],
   "source": [
    "# convert image into grayscale\n",
    "image = Image.open(f'{dir_path}Image/Cacad6.jpg')\n",
    "greyscale_image = image.convert('L')\n",
    "greyscale_image.save(f'{dir_path}Grayscale/Cacad6_grayscale.jpg')"
   ]
  },
  {
   "cell_type": "code",
   "execution_count": 150,
   "metadata": {},
   "outputs": [],
   "source": [
    "# convert image into grayscale\n",
    "image = Image.open(f'{dir_path}Image/Cacad7.jpg')\n",
    "greyscale_image = image.convert('L')\n",
    "greyscale_image.save(f'{dir_path}Grayscale/Cacad7_grayscale.jpg')"
   ]
  },
  {
   "cell_type": "code",
   "execution_count": 151,
   "metadata": {},
   "outputs": [],
   "source": [
    "# convert image into grayscale\n",
    "image = Image.open(f'{dir_path}Image/Cacad8.jpg')\n",
    "greyscale_image = image.convert('L')\n",
    "greyscale_image.save(f'{dir_path}Grayscale/Cacad8_grayscale.jpg')"
   ]
  },
  {
   "cell_type": "code",
   "execution_count": 152,
   "metadata": {},
   "outputs": [],
   "source": [
    "# convert image into grayscale\n",
    "image = Image.open(f'{dir_path}Image/Cacad9.jpg')\n",
    "greyscale_image = image.convert('L')\n",
    "greyscale_image.save(f'{dir_path}Grayscale/Cacad9_grayscale.jpg')"
   ]
  },
  {
   "cell_type": "code",
   "execution_count": 153,
   "metadata": {},
   "outputs": [],
   "source": [
    "# convert image into grayscale\n",
    "image = Image.open(f'{dir_path}Image/Cacad10.jpg')\n",
    "greyscale_image = image.convert('L')\n",
    "greyscale_image.save(f'{dir_path}Grayscale/Cacad10_grayscale.jpg')"
   ]
  },
  {
   "cell_type": "code",
   "execution_count": 154,
   "metadata": {},
   "outputs": [],
   "source": [
    "# convert image into grayscale\n",
    "image = Image.open(f'{dir_path}Image/Cacad11.jpg')\n",
    "greyscale_image = image.convert('L')\n",
    "greyscale_image.save(f'{dir_path}Grayscale/Cacad11_grayscale.jpg')"
   ]
  },
  {
   "cell_type": "code",
   "execution_count": 155,
   "metadata": {},
   "outputs": [],
   "source": [
    "# convert image into grayscale\n",
    "image = Image.open(f'{dir_path}Image/Cacad12.jpg')\n",
    "greyscale_image = image.convert('L')\n",
    "greyscale_image.save(f'{dir_path}Grayscale/Cacad12_grayscale.jpg')"
   ]
  },
  {
   "cell_type": "code",
   "execution_count": 156,
   "metadata": {},
   "outputs": [],
   "source": [
    "# convert image into grayscale\n",
    "image = Image.open(f'{dir_path}Image/Cacad13.jpg')\n",
    "greyscale_image = image.convert('L')\n",
    "greyscale_image.save(f'{dir_path}Grayscale/Cacad13_grayscale.jpg')"
   ]
  },
  {
   "cell_type": "code",
   "execution_count": 157,
   "metadata": {},
   "outputs": [],
   "source": [
    "# convert image into grayscale\n",
    "image = Image.open(f'{dir_path}Image/Cacad14.jpg')\n",
    "greyscale_image = image.convert('L')\n",
    "greyscale_image.save(f'{dir_path}Grayscale/Cacad14_grayscale.jpg')"
   ]
  },
  {
   "cell_type": "code",
   "execution_count": 158,
   "metadata": {},
   "outputs": [],
   "source": [
    "# convert image into grayscale\n",
    "image = Image.open(f'{dir_path}Image/Cacad15.jpg')\n",
    "greyscale_image = image.convert('L')\n",
    "greyscale_image.save(f'{dir_path}Grayscale/Cacad15_grayscale.jpg')"
   ]
  },
  {
   "cell_type": "code",
   "execution_count": 159,
   "metadata": {},
   "outputs": [],
   "source": [
    "# convert image into grayscale\n",
    "image = Image.open(f'{dir_path}Image/Cacad16.jpg')\n",
    "greyscale_image = image.convert('L')\n",
    "greyscale_image.save(f'{dir_path}Grayscale/Cacad16_grayscale.jpg')"
   ]
  },
  {
   "cell_type": "code",
   "execution_count": 160,
   "metadata": {},
   "outputs": [],
   "source": [
    "# convert image into grayscale\n",
    "image = Image.open(f'{dir_path}Image/Cacad17.jpg')\n",
    "greyscale_image = image.convert('L')\n",
    "greyscale_image.save(f'{dir_path}Grayscale/Cacad17_grayscale.jpg')"
   ]
  },
  {
   "cell_type": "code",
   "execution_count": 161,
   "metadata": {},
   "outputs": [],
   "source": [
    "# convert image into grayscale\n",
    "image = Image.open(f'{dir_path}Image/Cacad18.jpg')\n",
    "greyscale_image = image.convert('L')\n",
    "greyscale_image.save(f'{dir_path}Grayscale/Cacad18_grayscale.jpg')"
   ]
  },
  {
   "cell_type": "code",
   "execution_count": 162,
   "metadata": {},
   "outputs": [],
   "source": [
    "# convert image into grayscale\n",
    "image = Image.open(f'{dir_path}Image/Cacad19.jpg')\n",
    "greyscale_image = image.convert('L')\n",
    "greyscale_image.save(f'{dir_path}Grayscale/Cacad19_grayscale.jpg')"
   ]
  },
  {
   "cell_type": "code",
   "execution_count": 163,
   "metadata": {},
   "outputs": [],
   "source": [
    "# convert image into grayscale\n",
    "image = Image.open(f'{dir_path}Image/Cacad20.jpg')\n",
    "greyscale_image = image.convert('L')\n",
    "greyscale_image.save(f'{dir_path}Grayscale/Cacad20_grayscale.jpg')"
   ]
  },
  {
   "cell_type": "code",
   "execution_count": 164,
   "metadata": {},
   "outputs": [],
   "source": [
    "# convert image into grayscale\n",
    "image = Image.open(f'{dir_path}Image/Cacad21.jpg')\n",
    "greyscale_image = image.convert('L')\n",
    "greyscale_image.save(f'{dir_path}Grayscale/Cacad21_grayscale.jpg')"
   ]
  },
  {
   "cell_type": "code",
   "execution_count": 165,
   "metadata": {},
   "outputs": [],
   "source": [
    "# convert image into grayscale\n",
    "image = Image.open(f'{dir_path}Image/Cacad22.jpg')\n",
    "greyscale_image = image.convert('L')\n",
    "greyscale_image.save(f'{dir_path}Grayscale/Cacad22_grayscale.jpg')"
   ]
  },
  {
   "cell_type": "code",
   "execution_count": 166,
   "metadata": {},
   "outputs": [],
   "source": [
    "# convert image into grayscale\n",
    "image = Image.open(f'{dir_path}Image/Cacad23.jpg')\n",
    "greyscale_image = image.convert('L')\n",
    "greyscale_image.save(f'{dir_path}Grayscale/Cacad23_grayscale.jpg')"
   ]
  },
  {
   "cell_type": "code",
   "execution_count": 167,
   "metadata": {},
   "outputs": [],
   "source": [
    "# convert image into grayscale\n",
    "image = Image.open(f'{dir_path}Image/Cacad24.jpg')\n",
    "greyscale_image = image.convert('L')\n",
    "greyscale_image.save(f'{dir_path}Grayscale/Cacad24_grayscale.jpg')"
   ]
  },
  {
   "cell_type": "code",
   "execution_count": 168,
   "metadata": {},
   "outputs": [],
   "source": [
    "# convert image into grayscale\n",
    "image = Image.open(f'{dir_path}Image/Cacad25.jpg')\n",
    "greyscale_image = image.convert('L')\n",
    "greyscale_image.save(f'{dir_path}Grayscale/Cacad25_grayscale.jpg')"
   ]
  },
  {
   "cell_type": "code",
   "execution_count": 169,
   "metadata": {},
   "outputs": [],
   "source": [
    "# convert image into grayscale\n",
    "image = Image.open(f'{dir_path}Image/Cacad26.jpg')\n",
    "greyscale_image = image.convert('L')\n",
    "greyscale_image.save(f'{dir_path}Grayscale/Cacad26_grayscale.jpg')"
   ]
  },
  {
   "cell_type": "code",
   "execution_count": 170,
   "metadata": {},
   "outputs": [],
   "source": [
    "# convert image into grayscale\n",
    "image = Image.open(f'{dir_path}Image/Cacad27.jpg')\n",
    "greyscale_image = image.convert('L')\n",
    "greyscale_image.save(f'{dir_path}Grayscale/Cacad27_grayscale.jpg')"
   ]
  },
  {
   "cell_type": "code",
   "execution_count": 171,
   "metadata": {},
   "outputs": [],
   "source": [
    "# convert image into grayscale\n",
    "image = Image.open(f'{dir_path}Image/Cacad28.jpg')\n",
    "greyscale_image = image.convert('L')\n",
    "greyscale_image.save(f'{dir_path}Grayscale/Cacad28_grayscale.jpg')"
   ]
  },
  {
   "cell_type": "code",
   "execution_count": 172,
   "metadata": {},
   "outputs": [],
   "source": [
    "# convert image into grayscale\n",
    "image = Image.open(f'{dir_path}Image/Cacad29.jpg')\n",
    "greyscale_image = image.convert('L')\n",
    "greyscale_image.save(f'{dir_path}Grayscale/Cacad29_grayscale.jpg')"
   ]
  },
  {
   "cell_type": "code",
   "execution_count": 173,
   "metadata": {},
   "outputs": [],
   "source": [
    "# convert image into grayscale\n",
    "image = Image.open(f'{dir_path}Image/Cacad30.jpg')\n",
    "greyscale_image = image.convert('L')\n",
    "greyscale_image.save(f'{dir_path}Grayscale/Cacad30_grayscale.jpg')"
   ]
  },
  {
   "cell_type": "code",
   "execution_count": 174,
   "metadata": {},
   "outputs": [],
   "source": [
    "# convert image into grayscale\n",
    "image = Image.open(f'{dir_path}Image/Cacad31.jpg')\n",
    "greyscale_image = image.convert('L')\n",
    "greyscale_image.save(f'{dir_path}Grayscale/Cacad31_grayscale.jpg')"
   ]
  },
  {
   "cell_type": "code",
   "execution_count": 175,
   "metadata": {},
   "outputs": [],
   "source": [
    "# convert image into grayscale\n",
    "image = Image.open(f'{dir_path}Image/Cacad32.jpg')\n",
    "greyscale_image = image.convert('L')\n",
    "greyscale_image.save(f'{dir_path}Grayscale/Cacad32_grayscale.jpg')"
   ]
  },
  {
   "cell_type": "code",
   "execution_count": 176,
   "metadata": {},
   "outputs": [],
   "source": [
    "# convert image into grayscale\n",
    "image = Image.open(f'{dir_path}Image/Cacad33.jpg')\n",
    "greyscale_image = image.convert('L')\n",
    "greyscale_image.save(f'{dir_path}Grayscale/Cacad33_grayscale.jpg')"
   ]
  },
  {
   "cell_type": "code",
   "execution_count": 177,
   "metadata": {},
   "outputs": [],
   "source": [
    "# convert image into grayscale\n",
    "image = Image.open(f'{dir_path}Image/Cacad34.jpg')\n",
    "greyscale_image = image.convert('L')\n",
    "greyscale_image.save(f'{dir_path}Grayscale/Cacad34_grayscale.jpg')"
   ]
  },
  {
   "cell_type": "code",
   "execution_count": 178,
   "metadata": {},
   "outputs": [],
   "source": [
    "# convert image into grayscale\n",
    "image = Image.open(f'{dir_path}Image/Cacad35.jpg')\n",
    "greyscale_image = image.convert('L')\n",
    "greyscale_image.save(f'{dir_path}Grayscale/Cacad35_grayscale.jpg')"
   ]
  },
  {
   "cell_type": "code",
   "execution_count": 179,
   "metadata": {},
   "outputs": [],
   "source": [
    "# convert image into grayscale\n",
    "image = Image.open(f'{dir_path}Image/Cacad36.jpg')\n",
    "greyscale_image = image.convert('L')\n",
    "greyscale_image.save(f'{dir_path}Grayscale/Cacad36_grayscale.jpg')"
   ]
  },
  {
   "cell_type": "code",
   "execution_count": 180,
   "metadata": {},
   "outputs": [],
   "source": [
    "# convert image into grayscale\n",
    "image = Image.open(f'{dir_path}Image/Cacad37.jpg')\n",
    "greyscale_image = image.convert('L')\n",
    "greyscale_image.save(f'{dir_path}Grayscale/Cacad37_grayscale.jpg')"
   ]
  },
  {
   "cell_type": "code",
   "execution_count": 181,
   "metadata": {},
   "outputs": [],
   "source": [
    "# convert image into grayscale\n",
    "image = Image.open(f'{dir_path}Image/Cacad38.jpg')\n",
    "greyscale_image = image.convert('L')\n",
    "greyscale_image.save(f'{dir_path}Grayscale/Cacad38_grayscale.jpg')"
   ]
  },
  {
   "cell_type": "code",
   "execution_count": 182,
   "metadata": {},
   "outputs": [],
   "source": [
    "# convert image into grayscale\n",
    "image = Image.open(f'{dir_path}Image/Cacad39.jpg')\n",
    "greyscale_image = image.convert('L')\n",
    "greyscale_image.save(f'{dir_path}Grayscale/Cacad39_grayscale.jpg')"
   ]
  },
  {
   "cell_type": "code",
   "execution_count": 183,
   "metadata": {},
   "outputs": [],
   "source": [
    "# convert image into grayscale\n",
    "image = Image.open(f'{dir_path}Image/Cacad40.jpg')\n",
    "greyscale_image = image.convert('L')\n",
    "greyscale_image.save(f'{dir_path}Grayscale/Cacad40_grayscale.jpg')"
   ]
  },
  {
   "cell_type": "code",
   "execution_count": 184,
   "metadata": {},
   "outputs": [],
   "source": [
    "# convert image into grayscale\n",
    "image = Image.open(f'{dir_path}Image/Cacad41.jpg')\n",
    "greyscale_image = image.convert('L')\n",
    "greyscale_image.save(f'{dir_path}Grayscale/Cacad41_grayscale.jpg')"
   ]
  },
  {
   "cell_type": "code",
   "execution_count": 185,
   "metadata": {},
   "outputs": [],
   "source": [
    "# convert image into grayscale\n",
    "image = Image.open(f'{dir_path}Image/Cacad42.jpg')\n",
    "greyscale_image = image.convert('L')\n",
    "greyscale_image.save(f'{dir_path}Grayscale/Cacad42_grayscale.jpg')"
   ]
  },
  {
   "cell_type": "code",
   "execution_count": 186,
   "metadata": {},
   "outputs": [],
   "source": [
    "# convert image into grayscale\n",
    "image = Image.open(f'{dir_path}Image/Cacad43.jpg')\n",
    "greyscale_image = image.convert('L')\n",
    "greyscale_image.save(f'{dir_path}Grayscale/Cacad43_grayscale.jpg')"
   ]
  },
  {
   "cell_type": "code",
   "execution_count": 187,
   "metadata": {},
   "outputs": [],
   "source": [
    "# convert image into grayscale\n",
    "image = Image.open(f'{dir_path}Image/Cacad44.jpg')\n",
    "greyscale_image = image.convert('L')\n",
    "greyscale_image.save(f'{dir_path}Grayscale/Cacad44_grayscale.jpg')"
   ]
  },
  {
   "cell_type": "code",
   "execution_count": 188,
   "metadata": {},
   "outputs": [],
   "source": [
    "# convert image into grayscale\n",
    "image = Image.open(f'{dir_path}Image/Cacad45.jpg')\n",
    "greyscale_image = image.convert('L')\n",
    "greyscale_image.save(f'{dir_path}Grayscale/Cacad45_grayscale.jpg')"
   ]
  },
  {
   "cell_type": "code",
   "execution_count": 189,
   "metadata": {},
   "outputs": [],
   "source": [
    "# convert image into grayscale\n",
    "image = Image.open(f'{dir_path}Image/Cacad46.jpg')\n",
    "greyscale_image = image.convert('L')\n",
    "greyscale_image.save(f'{dir_path}Grayscale/Cacad46_grayscale.jpg')"
   ]
  },
  {
   "cell_type": "code",
   "execution_count": 190,
   "metadata": {},
   "outputs": [],
   "source": [
    "# convert image into grayscale\n",
    "image = Image.open(f'{dir_path}Image/Cacad47.jpg')\n",
    "greyscale_image = image.convert('L')\n",
    "greyscale_image.save(f'{dir_path}Grayscale/Cacad47_grayscale.jpg')"
   ]
  },
  {
   "cell_type": "code",
   "execution_count": 191,
   "metadata": {},
   "outputs": [],
   "source": [
    "# convert image into grayscale\n",
    "image = Image.open(f'{dir_path}Image/Cacad48.jpg')\n",
    "greyscale_image = image.convert('L')\n",
    "greyscale_image.save(f'{dir_path}Grayscale/Cacad48_grayscale.jpg')"
   ]
  },
  {
   "cell_type": "code",
   "execution_count": 192,
   "metadata": {},
   "outputs": [],
   "source": [
    "# convert image into grayscale\n",
    "image = Image.open(f'{dir_path}Image/Cacad49.jpg')\n",
    "greyscale_image = image.convert('L')\n",
    "greyscale_image.save(f'{dir_path}Grayscale/Cacad49_grayscale.jpg')"
   ]
  },
  {
   "cell_type": "code",
   "execution_count": 193,
   "metadata": {},
   "outputs": [],
   "source": [
    "# convert image into grayscale\n",
    "image = Image.open(f'{dir_path}Image/Cacad50.jpg')\n",
    "greyscale_image = image.convert('L')\n",
    "greyscale_image.save(f'{dir_path}Grayscale/Cacad50_grayscale.jpg')"
   ]
  },
  {
   "cell_type": "code",
   "execution_count": 194,
   "metadata": {},
   "outputs": [],
   "source": [
    "# convert image into grayscale\n",
    "image = Image.open(f'{dir_path}Image/Cacad51.jpg')\n",
    "greyscale_image = image.convert('L')\n",
    "greyscale_image.save(f'{dir_path}Grayscale/Cacad51_grayscale.jpg')"
   ]
  },
  {
   "cell_type": "code",
   "execution_count": 195,
   "metadata": {},
   "outputs": [],
   "source": [
    "# convert image into grayscale\n",
    "image = Image.open(f'{dir_path}Image/Cacad52.jpg')\n",
    "greyscale_image = image.convert('L')\n",
    "greyscale_image.save(f'{dir_path}Grayscale/Cacad52_grayscale.jpg')"
   ]
  },
  {
   "cell_type": "code",
   "execution_count": 196,
   "metadata": {},
   "outputs": [],
   "source": [
    "# convert image into grayscale\n",
    "image = Image.open(f'{dir_path}Image/Cacad53.jpg')\n",
    "greyscale_image = image.convert('L')\n",
    "greyscale_image.save(f'{dir_path}Grayscale/Cacad53_grayscale.jpg')"
   ]
  },
  {
   "cell_type": "code",
   "execution_count": 197,
   "metadata": {},
   "outputs": [],
   "source": [
    "# convert image into grayscale\n",
    "image = Image.open(f'{dir_path}Image/Cacad54.jpg')\n",
    "greyscale_image = image.convert('L')\n",
    "greyscale_image.save(f'{dir_path}Grayscale/Cacad54_grayscale.jpg')"
   ]
  },
  {
   "cell_type": "code",
   "execution_count": 198,
   "metadata": {},
   "outputs": [],
   "source": [
    "# convert image into grayscale\n",
    "image = Image.open(f'{dir_path}Image/Cacad55.jpg')\n",
    "greyscale_image = image.convert('L')\n",
    "greyscale_image.save(f'{dir_path}Grayscale/Cacad55_grayscale.jpg')"
   ]
  },
  {
   "cell_type": "code",
   "execution_count": 199,
   "metadata": {},
   "outputs": [],
   "source": [
    "# convert image into grayscale\n",
    "image = Image.open(f'{dir_path}Image/Cacad56.jpg')\n",
    "greyscale_image = image.convert('L')\n",
    "greyscale_image.save(f'{dir_path}Grayscale/Cacad56_grayscale.jpg')"
   ]
  },
  {
   "cell_type": "code",
   "execution_count": 200,
   "metadata": {},
   "outputs": [],
   "source": [
    "# convert image into grayscale\n",
    "image = Image.open(f'{dir_path}Image/Cacad57.jpg')\n",
    "greyscale_image = image.convert('L')\n",
    "greyscale_image.save(f'{dir_path}Grayscale/Cacad57_grayscale.jpg')"
   ]
  },
  {
   "cell_type": "code",
   "execution_count": 201,
   "metadata": {},
   "outputs": [],
   "source": [
    "# convert image into grayscale\n",
    "image = Image.open(f'{dir_path}Image/Cacad58.jpg')\n",
    "greyscale_image = image.convert('L')\n",
    "greyscale_image.save(f'{dir_path}Grayscale/Cacad58_grayscale.jpg')"
   ]
  },
  {
   "cell_type": "code",
   "execution_count": 202,
   "metadata": {},
   "outputs": [],
   "source": [
    "# convert image into grayscale\n",
    "image = Image.open(f'{dir_path}Image/Cacad59.jpg')\n",
    "greyscale_image = image.convert('L')\n",
    "greyscale_image.save(f'{dir_path}Grayscale/Cacad59_grayscale.jpg')"
   ]
  },
  {
   "cell_type": "code",
   "execution_count": 203,
   "metadata": {},
   "outputs": [],
   "source": [
    "# convert image into grayscale\n",
    "image = Image.open(f'{dir_path}Image/Cacad60.jpg')\n",
    "greyscale_image = image.convert('L')\n",
    "greyscale_image.save(f'{dir_path}Grayscale/Cacad60_grayscale.jpg')"
   ]
  },
  {
   "cell_type": "code",
   "execution_count": 204,
   "metadata": {},
   "outputs": [],
   "source": [
    "# convert image into grayscale\n",
    "image = Image.open(f'{dir_path}Image/Cacad61.jpg')\n",
    "greyscale_image = image.convert('L')\n",
    "greyscale_image.save(f'{dir_path}Grayscale/Cacad61_grayscale.jpg')"
   ]
  },
  {
   "cell_type": "code",
   "execution_count": 205,
   "metadata": {},
   "outputs": [],
   "source": [
    "# convert image into grayscale\n",
    "image = Image.open(f'{dir_path}Image/Cacad62.jpg')\n",
    "greyscale_image = image.convert('L')\n",
    "greyscale_image.save(f'{dir_path}Grayscale/Cacad62_grayscale.jpg')"
   ]
  },
  {
   "cell_type": "code",
   "execution_count": 206,
   "metadata": {},
   "outputs": [],
   "source": [
    "# convert image into grayscale\n",
    "image = Image.open(f'{dir_path}Image/Cacad63.jpg')\n",
    "greyscale_image = image.convert('L')\n",
    "greyscale_image.save(f'{dir_path}Grayscale/Cacad63_grayscale.jpg')"
   ]
  },
  {
   "cell_type": "code",
   "execution_count": 207,
   "metadata": {},
   "outputs": [],
   "source": [
    "# convert image into grayscale\n",
    "image = Image.open(f'{dir_path}Image/Cacad64.jpg')\n",
    "greyscale_image = image.convert('L')\n",
    "greyscale_image.save(f'{dir_path}Grayscale/Cacad64_grayscale.jpg')"
   ]
  },
  {
   "cell_type": "code",
   "execution_count": 208,
   "metadata": {},
   "outputs": [],
   "source": [
    "# convert image into grayscale\n",
    "image = Image.open(f'{dir_path}Image/Cacad65.jpg')\n",
    "greyscale_image = image.convert('L')\n",
    "greyscale_image.save(f'{dir_path}Grayscale/Cacad65_grayscale.jpg')"
   ]
  },
  {
   "cell_type": "code",
   "execution_count": 209,
   "metadata": {},
   "outputs": [],
   "source": [
    "# convert image into grayscale\n",
    "image = Image.open(f'{dir_path}Image/Cacad66.jpg')\n",
    "greyscale_image = image.convert('L')\n",
    "greyscale_image.save(f'{dir_path}Grayscale/Cacad66_grayscale.jpg')"
   ]
  },
  {
   "cell_type": "code",
   "execution_count": 210,
   "metadata": {},
   "outputs": [],
   "source": [
    "# convert image into grayscale\n",
    "image = Image.open(f'{dir_path}Image/Cacad67.jpg')\n",
    "greyscale_image = image.convert('L')\n",
    "greyscale_image.save(f'{dir_path}Grayscale/Cacad67_grayscale.jpg')"
   ]
  },
  {
   "cell_type": "code",
   "execution_count": 211,
   "metadata": {},
   "outputs": [],
   "source": [
    "# convert image into grayscale\n",
    "image = Image.open(f'{dir_path}Image/Cacad68.jpg')\n",
    "greyscale_image = image.convert('L')\n",
    "greyscale_image.save(f'{dir_path}Grayscale/Cacad68_grayscale.jpg')"
   ]
  },
  {
   "cell_type": "code",
   "execution_count": 212,
   "metadata": {},
   "outputs": [],
   "source": [
    "# convert image into grayscale\n",
    "image = Image.open(f'{dir_path}Image/Cacad69.jpg')\n",
    "greyscale_image = image.convert('L')\n",
    "greyscale_image.save(f'{dir_path}Grayscale/Cacad69_grayscale.jpg')"
   ]
  },
  {
   "cell_type": "code",
   "execution_count": 213,
   "metadata": {},
   "outputs": [],
   "source": [
    "# convert image into grayscale\n",
    "image = Image.open(f'{dir_path}Image/Cacad70.jpg')\n",
    "greyscale_image = image.convert('L')\n",
    "greyscale_image.save(f'{dir_path}Grayscale/Cacad70_grayscale.jpg')"
   ]
  },
  {
   "cell_type": "code",
   "execution_count": 214,
   "metadata": {},
   "outputs": [],
   "source": [
    "# convert image into grayscale\n",
    "image = Image.open(f'{dir_path}Image/Cacad71.jpg')\n",
    "greyscale_image = image.convert('L')\n",
    "greyscale_image.save(f'{dir_path}Grayscale/Cacad71_grayscale.jpg')"
   ]
  },
  {
   "cell_type": "code",
   "execution_count": 215,
   "metadata": {},
   "outputs": [],
   "source": [
    "# convert image into grayscale\n",
    "image = Image.open(f'{dir_path}Image/Cacad72.jpg')\n",
    "greyscale_image = image.convert('L')\n",
    "greyscale_image.save(f'{dir_path}Grayscale/Cacad72_grayscale.jpg')"
   ]
  },
  {
   "cell_type": "code",
   "execution_count": 216,
   "metadata": {},
   "outputs": [],
   "source": [
    "# convert image into grayscale\n",
    "image = Image.open(f'{dir_path}Image/Cacad73.jpg')\n",
    "greyscale_image = image.convert('L')\n",
    "greyscale_image.save(f'{dir_path}Grayscale/Cacad73_grayscale.jpg')"
   ]
  },
  {
   "cell_type": "code",
   "execution_count": 217,
   "metadata": {},
   "outputs": [],
   "source": [
    "# convert image into grayscale\n",
    "image = Image.open(f'{dir_path}Image/Cacad74.jpg')\n",
    "greyscale_image = image.convert('L')\n",
    "greyscale_image.save(f'{dir_path}Grayscale/Cacad74_grayscale.jpg')"
   ]
  },
  {
   "cell_type": "code",
   "execution_count": 218,
   "metadata": {},
   "outputs": [],
   "source": [
    "# convert image into grayscale\n",
    "image = Image.open(f'{dir_path}Image/Cacad75.jpg')\n",
    "greyscale_image = image.convert('L')\n",
    "greyscale_image.save(f'{dir_path}Grayscale/Cacad75_grayscale.jpg')"
   ]
  },
  {
   "cell_type": "code",
   "execution_count": 219,
   "metadata": {},
   "outputs": [],
   "source": [
    "# convert image into grayscale\n",
    "image = Image.open(f'{dir_path}Image/Cacad76.jpg')\n",
    "greyscale_image = image.convert('L')\n",
    "greyscale_image.save(f'{dir_path}Grayscale/Cacad76_grayscale.jpg')"
   ]
  },
  {
   "cell_type": "code",
   "execution_count": 220,
   "metadata": {},
   "outputs": [],
   "source": [
    "# convert image into grayscale\n",
    "image = Image.open(f'{dir_path}Image/Cacad77.jpg')\n",
    "greyscale_image = image.convert('L')\n",
    "greyscale_image.save(f'{dir_path}Grayscale/Cacad77_grayscale.jpg')"
   ]
  },
  {
   "cell_type": "code",
   "execution_count": 221,
   "metadata": {},
   "outputs": [],
   "source": [
    "# convert image into grayscale\n",
    "image = Image.open(f'{dir_path}Image/Cacad78.jpg')\n",
    "greyscale_image = image.convert('L')\n",
    "greyscale_image.save(f'{dir_path}Grayscale/Cacad78_grayscale.jpg')"
   ]
  },
  {
   "cell_type": "code",
   "execution_count": 222,
   "metadata": {},
   "outputs": [],
   "source": [
    "# convert image into grayscale\n",
    "image = Image.open(f'{dir_path}Image/Cacad79.jpg')\n",
    "greyscale_image = image.convert('L')\n",
    "greyscale_image.save(f'{dir_path}Grayscale/Cacad79_grayscale.jpg')"
   ]
  },
  {
   "cell_type": "code",
   "execution_count": 223,
   "metadata": {},
   "outputs": [],
   "source": [
    "# convert image into grayscale\n",
    "image = Image.open(f'{dir_path}Image/Cacad80.jpg')\n",
    "greyscale_image = image.convert('L')\n",
    "greyscale_image.save(f'{dir_path}Grayscale/Cacad80_grayscale.jpg')"
   ]
  },
  {
   "cell_type": "code",
   "execution_count": 224,
   "metadata": {},
   "outputs": [],
   "source": [
    "# convert image into grayscale\n",
    "image = Image.open(f'{dir_path}Image/Cacad81.jpg')\n",
    "greyscale_image = image.convert('L')\n",
    "greyscale_image.save(f'{dir_path}Grayscale/Cacad81_grayscale.jpg')"
   ]
  },
  {
   "cell_type": "code",
   "execution_count": 225,
   "metadata": {},
   "outputs": [],
   "source": [
    "# convert image into grayscale\n",
    "image = Image.open(f'{dir_path}Image/Cacad82.jpg')\n",
    "greyscale_image = image.convert('L')\n",
    "greyscale_image.save(f'{dir_path}Grayscale/Cacad82_grayscale.jpg')"
   ]
  },
  {
   "cell_type": "code",
   "execution_count": 226,
   "metadata": {},
   "outputs": [],
   "source": [
    "# convert image into grayscale\n",
    "image = Image.open(f'{dir_path}Image/Cacad83.jpg')\n",
    "greyscale_image = image.convert('L')\n",
    "greyscale_image.save(f'{dir_path}Grayscale/Cacad83_grayscale.jpg')"
   ]
  },
  {
   "cell_type": "code",
   "execution_count": 227,
   "metadata": {},
   "outputs": [],
   "source": [
    "# convert image into grayscale\n",
    "image = Image.open(f'{dir_path}Image/Cacad84.jpg')\n",
    "greyscale_image = image.convert('L')\n",
    "greyscale_image.save(f'{dir_path}Grayscale/Cacad84_grayscale.jpg')"
   ]
  },
  {
   "cell_type": "code",
   "execution_count": 228,
   "metadata": {},
   "outputs": [],
   "source": [
    "# convert image into grayscale\n",
    "image = Image.open(f'{dir_path}Image/Cacad85.jpg')\n",
    "greyscale_image = image.convert('L')\n",
    "greyscale_image.save(f'{dir_path}Grayscale/Cacad85_grayscale.jpg')"
   ]
  },
  {
   "cell_type": "code",
   "execution_count": 229,
   "metadata": {},
   "outputs": [],
   "source": [
    "# convert image into grayscale\n",
    "image = Image.open(f'{dir_path}Image/Cacad86.jpg')\n",
    "greyscale_image = image.convert('L')\n",
    "greyscale_image.save(f'{dir_path}Grayscale/Cacad86_grayscale.jpg')"
   ]
  },
  {
   "cell_type": "code",
   "execution_count": 230,
   "metadata": {},
   "outputs": [],
   "source": [
    "# convert image into grayscale\n",
    "image = Image.open(f'{dir_path}Image/Cacad87.jpg')\n",
    "greyscale_image = image.convert('L')\n",
    "greyscale_image.save(f'{dir_path}Grayscale/Cacad87_grayscale.jpg')"
   ]
  },
  {
   "cell_type": "code",
   "execution_count": 231,
   "metadata": {},
   "outputs": [],
   "source": [
    "# convert image into grayscale\n",
    "image = Image.open(f'{dir_path}Image/Cacad88.jpg')\n",
    "greyscale_image = image.convert('L')\n",
    "greyscale_image.save(f'{dir_path}Grayscale/Cacad88_grayscale.jpg')"
   ]
  },
  {
   "cell_type": "code",
   "execution_count": 232,
   "metadata": {},
   "outputs": [],
   "source": [
    "# convert image into grayscale\n",
    "image = Image.open(f'{dir_path}Image/Cacad89.jpg')\n",
    "greyscale_image = image.convert('L')\n",
    "greyscale_image.save(f'{dir_path}Grayscale/Cacad89_grayscale.jpg')"
   ]
  },
  {
   "cell_type": "code",
   "execution_count": 233,
   "metadata": {},
   "outputs": [],
   "source": [
    "# convert image into grayscale\n",
    "image = Image.open(f'{dir_path}Image/Cacad90.jpg')\n",
    "greyscale_image = image.convert('L')\n",
    "greyscale_image.save(f'{dir_path}Grayscale/Cacad90_grayscale.jpg')"
   ]
  },
  {
   "cell_type": "code",
   "execution_count": 234,
   "metadata": {},
   "outputs": [],
   "source": [
    "# convert image into grayscale\n",
    "image = Image.open(f'{dir_path}Image/Cacad91.jpg')\n",
    "greyscale_image = image.convert('L')\n",
    "greyscale_image.save(f'{dir_path}Grayscale/Cacad91_grayscale.jpg')"
   ]
  },
  {
   "cell_type": "code",
   "execution_count": 235,
   "metadata": {},
   "outputs": [],
   "source": [
    "# convert image into grayscale\n",
    "image = Image.open(f'{dir_path}Image/Cacad92.jpg')\n",
    "greyscale_image = image.convert('L')\n",
    "greyscale_image.save(f'{dir_path}Grayscale/Cacad92_grayscale.jpg')"
   ]
  },
  {
   "cell_type": "code",
   "execution_count": 236,
   "metadata": {},
   "outputs": [],
   "source": [
    "# convert image into grayscale\n",
    "image = Image.open(f'{dir_path}Image/Cacad93.jpg')\n",
    "greyscale_image = image.convert('L')\n",
    "greyscale_image.save(f'{dir_path}Grayscale/Cacad93_grayscale.jpg')"
   ]
  },
  {
   "cell_type": "code",
   "execution_count": 237,
   "metadata": {},
   "outputs": [],
   "source": [
    "# convert image into grayscale\n",
    "image = Image.open(f'{dir_path}Image/Cacad94.jpg')\n",
    "greyscale_image = image.convert('L')\n",
    "greyscale_image.save(f'{dir_path}Grayscale/Cacad94_grayscale.jpg')"
   ]
  },
  {
   "cell_type": "code",
   "execution_count": 238,
   "metadata": {},
   "outputs": [],
   "source": [
    "# convert image into grayscale\n",
    "image = Image.open(f'{dir_path}Image/Cacad95.jpg')\n",
    "greyscale_image = image.convert('L')\n",
    "greyscale_image.save(f'{dir_path}Grayscale/Cacad95_grayscale.jpg')"
   ]
  },
  {
   "cell_type": "code",
   "execution_count": 239,
   "metadata": {},
   "outputs": [],
   "source": [
    "# convert image into grayscale\n",
    "image = Image.open(f'{dir_path}Image/Cacad96.jpg')\n",
    "greyscale_image = image.convert('L')\n",
    "greyscale_image.save(f'{dir_path}Grayscale/Cacad96_grayscale.jpg')"
   ]
  },
  {
   "cell_type": "code",
   "execution_count": 240,
   "metadata": {},
   "outputs": [],
   "source": [
    "# convert image into grayscale\n",
    "image = Image.open(f'{dir_path}Image/Cacad97.jpg')\n",
    "greyscale_image = image.convert('L')\n",
    "greyscale_image.save(f'{dir_path}Grayscale/Cacad97_grayscale.jpg')"
   ]
  },
  {
   "cell_type": "code",
   "execution_count": 241,
   "metadata": {},
   "outputs": [],
   "source": [
    "# convert image into grayscale\n",
    "image = Image.open(f'{dir_path}Image/Cacad98.jpg')\n",
    "greyscale_image = image.convert('L')\n",
    "greyscale_image.save(f'{dir_path}Grayscale/Cacad98_grayscale.jpg')"
   ]
  },
  {
   "cell_type": "code",
   "execution_count": 242,
   "metadata": {},
   "outputs": [],
   "source": [
    "# convert image into grayscale\n",
    "image = Image.open(f'{dir_path}Image/Cacad99.jpg')\n",
    "greyscale_image = image.convert('L')\n",
    "greyscale_image.save(f'{dir_path}Grayscale/Cacad99_grayscale.jpg')"
   ]
  },
  {
   "cell_type": "code",
   "execution_count": 243,
   "metadata": {},
   "outputs": [],
   "source": [
    "# convert image into grayscale\n",
    "image = Image.open(f'{dir_path}Image/Cacad100.jpg')\n",
    "greyscale_image = image.convert('L')\n",
    "greyscale_image.save(f'{dir_path}Grayscale/Cacad100_grayscale.jpg')"
   ]
  }
 ],
 "metadata": {
  "kernelspec": {
   "display_name": "Python 3.10.6 64-bit",
   "language": "python",
   "name": "python3"
  },
  "language_info": {
   "codemirror_mode": {
    "name": "ipython",
    "version": 3
   },
   "file_extension": ".py",
   "mimetype": "text/x-python",
   "name": "python",
   "nbconvert_exporter": "python",
   "pygments_lexer": "ipython3",
   "version": "3.10.6"
  },
  "vscode": {
   "interpreter": {
    "hash": "369f2c481f4da34e4445cda3fffd2e751bd1c4d706f27375911949ba6bb62e1c"
   }
  }
 },
 "nbformat": 4,
 "nbformat_minor": 4
}
