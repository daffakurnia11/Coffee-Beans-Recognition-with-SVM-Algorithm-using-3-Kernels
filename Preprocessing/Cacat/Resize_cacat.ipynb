{
 "cells": [
  {
   "cell_type": "markdown",
   "metadata": {},
   "source": [
    "# Importing required libraries"
   ]
  },
  {
   "cell_type": "code",
   "execution_count": 1,
   "metadata": {},
   "outputs": [],
   "source": [
    "import cv2\n",
    "import glob\n",
    "import matplotlib.pyplot as plt\n",
    "import os,glob\n",
    "import os\n",
    "from os import listdir,makedirs\n",
    "from os.path import isfile,join\n",
    "import skimage\n",
    "from skimage import data\n",
    "import numpy as np\n",
    "import matplotlib.pyplot as plt\n",
    "%matplotlib inline\n",
    "from PIL import Image\n",
    "\n",
    "dir_path = \"C:/Users/LnData User/Documents/SEMESTER 7/FP SIFON/Coffee Beans Classification/Dataset/Cacad/\""
   ]
  },
  {
   "cell_type": "markdown",
   "metadata": {},
   "source": [
    "# load and resize 100 images of defective coffee beans"
   ]
  },
  {
   "cell_type": "code",
   "execution_count": 2,
   "metadata": {},
   "outputs": [],
   "source": [
    "# load image Cacat1.png from directory\n",
    "image = Image.open(f'{dir_path}Transparent/Cacad_transparent1.png')\n",
    "# create new size of image (image resize process) 100 x 100 pixel\n",
    "new_image = image.resize((100, 100))\n",
    "#save resize output in directory\n",
    "new_image.save(f'{dir_path}Resize/Cacad1_resize.png')"
   ]
  },
  {
   "cell_type": "code",
   "execution_count": 3,
   "metadata": {},
   "outputs": [],
   "source": [
    "image = Image.open(f'{dir_path}Transparent/Cacad_transparent2.png')\n",
    "# create new size of image (image resize process) 100 x 100 pixel\n",
    "new_image = image.resize((100, 100))\n",
    "#save resize output in directory\n",
    "new_image.save(f'{dir_path}Resize/Cacad2_resize.png')"
   ]
  },
  {
   "cell_type": "code",
   "execution_count": 4,
   "metadata": {},
   "outputs": [],
   "source": [
    "image = Image.open(f'{dir_path}Transparent/Cacad_transparent3.png')\n",
    "# create new size of image (image resize process) 100 x 100 pixel\n",
    "new_image = image.resize((100, 100))\n",
    "#save resize output in directory\n",
    "new_image.save(f'{dir_path}Resize/Cacad3_resize.png')"
   ]
  },
  {
   "cell_type": "code",
   "execution_count": 5,
   "metadata": {},
   "outputs": [],
   "source": [
    "image = Image.open(f'{dir_path}Transparent/Cacad_transparent4.png')\n",
    "# create new size of image (image resize process) 100 x 100 pixel\n",
    "new_image = image.resize((100, 100))\n",
    "#save resize output in directory\n",
    "new_image.save(f'{dir_path}Resize/Cacad4_resize.png')"
   ]
  },
  {
   "cell_type": "code",
   "execution_count": 6,
   "metadata": {},
   "outputs": [],
   "source": [
    "image = Image.open(f'{dir_path}Transparent/Cacad_transparent5.png')\n",
    "# create new size of image (image resize process) 100 x 100 pixel\n",
    "new_image = image.resize((100, 100))\n",
    "#save resize output in directory\n",
    "new_image.save(f'{dir_path}Resize/Cacad5_resize.png')"
   ]
  },
  {
   "cell_type": "code",
   "execution_count": 7,
   "metadata": {},
   "outputs": [],
   "source": [
    "image = Image.open(f'{dir_path}Transparent/Cacad_transparent6.png')\n",
    "# create new size of image (image resize process) 100 x 100 pixel\n",
    "new_image = image.resize((100, 100))\n",
    "#save resize output in directory\n",
    "new_image.save(f'{dir_path}Resize/Cacad6_resize.png')"
   ]
  },
  {
   "cell_type": "code",
   "execution_count": 8,
   "metadata": {},
   "outputs": [],
   "source": [
    "image = Image.open(f'{dir_path}Transparent/Cacad_transparent7.png')\n",
    "# create new size of image (image resize process) 100 x 100 pixel\n",
    "new_image = image.resize((100, 100))\n",
    "#save resize output in directory\n",
    "new_image.save(f'{dir_path}Resize/Cacad7_resize.png')"
   ]
  },
  {
   "cell_type": "code",
   "execution_count": 9,
   "metadata": {},
   "outputs": [],
   "source": [
    "image = Image.open(f'{dir_path}Transparent/Cacad_transparent8.png')\n",
    "# create new size of image (image resize process) 100 x 100 pixel\n",
    "new_image = image.resize((100, 100))\n",
    "#save resize output in directory\n",
    "new_image.save(f'{dir_path}Resize/Cacad8_resize.png')"
   ]
  },
  {
   "cell_type": "code",
   "execution_count": 10,
   "metadata": {},
   "outputs": [],
   "source": [
    "image = Image.open(f'{dir_path}Transparent/Cacad_transparent9.png')\n",
    "# create new size of image (image resize process) 100 x 100 pixel\n",
    "new_image = image.resize((100, 100))\n",
    "#save resize output in directory\n",
    "new_image.save(f'{dir_path}Resize/Cacad9_resize.png')"
   ]
  },
  {
   "cell_type": "code",
   "execution_count": 11,
   "metadata": {},
   "outputs": [],
   "source": [
    "image = Image.open(f'{dir_path}Transparent/Cacad_transparent10.png')\n",
    "# create new size of image (image resize process) 100 x 100 pixel\n",
    "new_image = image.resize((100, 100))\n",
    "#save resize output in directory\n",
    "new_image.save(f'{dir_path}Resize/Cacad10_resize.png')"
   ]
  },
  {
   "cell_type": "code",
   "execution_count": 12,
   "metadata": {},
   "outputs": [],
   "source": [
    "image = Image.open(f'{dir_path}Transparent/Cacad_transparent11.png')\n",
    "# create new size of image (image resize process) 100 x 100 pixel\n",
    "new_image = image.resize((100, 100))\n",
    "#save resize output in directory\n",
    "new_image.save(f'{dir_path}Resize/Cacad11_resize.png')"
   ]
  },
  {
   "cell_type": "code",
   "execution_count": 13,
   "metadata": {},
   "outputs": [],
   "source": [
    "image = Image.open(f'{dir_path}Transparent/Cacad_transparent12.png')\n",
    "# create new size of image (image resize process) 100 x 100 pixel\n",
    "new_image = image.resize((100, 100))\n",
    "#save resize output in directory\n",
    "new_image.save(f'{dir_path}Resize/Cacad12_resize.png')"
   ]
  },
  {
   "cell_type": "code",
   "execution_count": 14,
   "metadata": {},
   "outputs": [],
   "source": [
    "image = Image.open(f'{dir_path}Transparent/Cacad_transparent13.png')\n",
    "# create new size of image (image resize process) 100 x 100 pixel\n",
    "new_image = image.resize((100, 100))\n",
    "#save resize output in directory\n",
    "new_image.save(f'{dir_path}Resize/Cacad13_resize.png')"
   ]
  },
  {
   "cell_type": "code",
   "execution_count": 15,
   "metadata": {},
   "outputs": [],
   "source": [
    "image = Image.open(f'{dir_path}Transparent/Cacad_transparent14.png')\n",
    "# create new size of image (image resize process) 100 x 100 pixel\n",
    "new_image = image.resize((100, 100))\n",
    "#save resize output in directory\n",
    "new_image.save(f'{dir_path}Resize/Cacad14_resize.png')"
   ]
  },
  {
   "cell_type": "code",
   "execution_count": 16,
   "metadata": {},
   "outputs": [],
   "source": [
    "image = Image.open(f'{dir_path}Transparent/Cacad_transparent15.png')\n",
    "# create new size of image (image resize process) 100 x 100 pixel\n",
    "new_image = image.resize((100, 100))\n",
    "#save resize output in directory\n",
    "new_image.save(f'{dir_path}Resize/Cacad15_resize.png')"
   ]
  },
  {
   "cell_type": "code",
   "execution_count": 17,
   "metadata": {},
   "outputs": [],
   "source": [
    "image = Image.open(f'{dir_path}Transparent/Cacad_transparent16.png')\n",
    "# create new size of image (image resize process) 100 x 100 pixel\n",
    "new_image = image.resize((100, 100))\n",
    "#save resize output in directory\n",
    "new_image.save(f'{dir_path}Resize/Cacad16_resize.png')"
   ]
  },
  {
   "cell_type": "code",
   "execution_count": 18,
   "metadata": {},
   "outputs": [],
   "source": [
    "image = Image.open(f'{dir_path}Transparent/Cacad_transparent17.png')\n",
    "# create new size of image (image resize process) 100 x 100 pixel\n",
    "new_image = image.resize((100, 100))\n",
    "#save resize output in directory\n",
    "new_image.save(f'{dir_path}Resize/Cacad17_resize.png')"
   ]
  },
  {
   "cell_type": "code",
   "execution_count": 19,
   "metadata": {},
   "outputs": [],
   "source": [
    "image = Image.open(f'{dir_path}Transparent/Cacad_transparent18.png')\n",
    "# create new size of image (image resize process) 100 x 100 pixel\n",
    "new_image = image.resize((100, 100))\n",
    "#save resize output in directory\n",
    "new_image.save(f'{dir_path}Resize/Cacad18_resize.png')"
   ]
  },
  {
   "cell_type": "code",
   "execution_count": 20,
   "metadata": {},
   "outputs": [],
   "source": [
    "image = Image.open(f'{dir_path}Transparent/Cacad_transparent19.png')\n",
    "# create new size of image (image resize process) 100 x 100 pixel\n",
    "new_image = image.resize((100, 100))\n",
    "#save resize output in directory\n",
    "new_image.save(f'{dir_path}Resize/Cacad19_resize.png')"
   ]
  },
  {
   "cell_type": "code",
   "execution_count": 21,
   "metadata": {},
   "outputs": [],
   "source": [
    "image = Image.open(f'{dir_path}Transparent/Cacad_transparent20.png')\n",
    "# create new size of image (image resize process) 100 x 100 pixel\n",
    "new_image = image.resize((100, 100))\n",
    "#save resize output in directory\n",
    "new_image.save(f'{dir_path}Resize/Cacad20_resize.png')"
   ]
  },
  {
   "cell_type": "code",
   "execution_count": 22,
   "metadata": {},
   "outputs": [],
   "source": [
    "image = Image.open(f'{dir_path}Transparent/Cacad_transparent21.png')\n",
    "# create new size of image (image resize process) 100 x 100 pixel\n",
    "new_image = image.resize((100, 100))\n",
    "#save resize output in directory\n",
    "new_image.save(f'{dir_path}Resize/Cacad21_resize.png')"
   ]
  },
  {
   "cell_type": "code",
   "execution_count": 23,
   "metadata": {},
   "outputs": [],
   "source": [
    "image = Image.open(f'{dir_path}Transparent/Cacad_transparent22.png')\n",
    "# create new size of image (image resize process) 100 x 100 pixel\n",
    "new_image = image.resize((100, 100))\n",
    "#save resize output in directory\n",
    "new_image.save(f'{dir_path}Resize/Cacad22_resize.png')"
   ]
  },
  {
   "cell_type": "code",
   "execution_count": 24,
   "metadata": {},
   "outputs": [],
   "source": [
    "image = Image.open(f'{dir_path}Transparent/Cacad_transparent23.png')\n",
    "# create new size of image (image resize process) 100 x 100 pixel\n",
    "new_image = image.resize((100, 100))\n",
    "#save resize output in directory\n",
    "new_image.save(f'{dir_path}Resize/Cacad23_resize.png')"
   ]
  },
  {
   "cell_type": "code",
   "execution_count": 25,
   "metadata": {},
   "outputs": [],
   "source": [
    "image = Image.open(f'{dir_path}Transparent/Cacad_transparent24.png')\n",
    "# create new size of image (image resize process) 100 x 100 pixel\n",
    "new_image = image.resize((100, 100))\n",
    "#save resize output in directory\n",
    "new_image.save(f'{dir_path}Resize/Cacad24_resize.png')"
   ]
  },
  {
   "cell_type": "code",
   "execution_count": 26,
   "metadata": {},
   "outputs": [],
   "source": [
    "image = Image.open(f'{dir_path}Transparent/Cacad_transparent25.png')\n",
    "# create new size of image (image resize process) 100 x 100 pixel\n",
    "new_image = image.resize((100, 100))\n",
    "#save resize output in directory\n",
    "new_image.save(f'{dir_path}Resize/Cacad25_resize.png')"
   ]
  },
  {
   "cell_type": "code",
   "execution_count": 27,
   "metadata": {},
   "outputs": [],
   "source": [
    "image = Image.open(f'{dir_path}Transparent/Cacad_transparent26.png')\n",
    "# create new size of image (image resize process) 100 x 100 pixel\n",
    "new_image = image.resize((100, 100))\n",
    "#save resize output in directory\n",
    "new_image.save(f'{dir_path}Resize/Cacad26_resize.png')"
   ]
  },
  {
   "cell_type": "code",
   "execution_count": 28,
   "metadata": {},
   "outputs": [],
   "source": [
    "image = Image.open(f'{dir_path}Transparent/Cacad_transparent27.png')\n",
    "# create new size of image (image resize process) 100 x 100 pixel\n",
    "new_image = image.resize((100, 100))\n",
    "#save resize output in directory\n",
    "new_image.save(f'{dir_path}Resize/Cacad27_resize.png')"
   ]
  },
  {
   "cell_type": "code",
   "execution_count": 29,
   "metadata": {},
   "outputs": [],
   "source": [
    "image = Image.open(f'{dir_path}Transparent/Cacad_transparent28.png')\n",
    "# create new size of image (image resize process) 100 x 100 pixel\n",
    "new_image = image.resize((100, 100))\n",
    "#save resize output in directory\n",
    "new_image.save(f'{dir_path}Resize/Cacad28_resize.png')"
   ]
  },
  {
   "cell_type": "code",
   "execution_count": 30,
   "metadata": {},
   "outputs": [],
   "source": [
    "image = Image.open(f'{dir_path}Transparent/Cacad_transparent29.png')\n",
    "# create new size of image (image resize process) 100 x 100 pixel\n",
    "new_image = image.resize((100, 100))\n",
    "#save resize output in directory\n",
    "new_image.save(f'{dir_path}Resize/Cacad29_resize.png')"
   ]
  },
  {
   "cell_type": "code",
   "execution_count": 31,
   "metadata": {},
   "outputs": [],
   "source": [
    "image = Image.open(f'{dir_path}Transparent/Cacad_transparent30.png')\n",
    "# create new size of image (image resize process) 100 x 100 pixel\n",
    "new_image = image.resize((100, 100))\n",
    "#save resize output in directory\n",
    "new_image.save(f'{dir_path}Resize/Cacad30_resize.png')"
   ]
  },
  {
   "cell_type": "code",
   "execution_count": 32,
   "metadata": {},
   "outputs": [],
   "source": [
    "image = Image.open(f'{dir_path}Transparent/Cacad_transparent31.png')\n",
    "# create new size of image (image resize process) 100 x 100 pixel\n",
    "new_image = image.resize((100, 100))\n",
    "#save resize output in directory\n",
    "new_image.save(f'{dir_path}Resize/Cacad31_resize.png')"
   ]
  },
  {
   "cell_type": "code",
   "execution_count": 33,
   "metadata": {},
   "outputs": [],
   "source": [
    "image = Image.open(f'{dir_path}Transparent/Cacad_transparent32.png')\n",
    "# create new size of image (image resize process) 100 x 100 pixel\n",
    "new_image = image.resize((100, 100))\n",
    "#save resize output in directory\n",
    "new_image.save(f'{dir_path}Resize/Cacad32_resize.png')"
   ]
  },
  {
   "cell_type": "code",
   "execution_count": 34,
   "metadata": {},
   "outputs": [],
   "source": [
    "image = Image.open(f'{dir_path}Transparent/Cacad_transparent33.png')\n",
    "# create new size of image (image resize process) 100 x 100 pixel\n",
    "new_image = image.resize((100, 100))\n",
    "#save resize output in directory\n",
    "new_image.save(f'{dir_path}Resize/Cacad33_resize.png')"
   ]
  },
  {
   "cell_type": "code",
   "execution_count": 35,
   "metadata": {},
   "outputs": [],
   "source": [
    "image = Image.open(f'{dir_path}Transparent/Cacad_transparent34.png')\n",
    "# create new size of image (image resize process) 100 x 100 pixel\n",
    "new_image = image.resize((100, 100))\n",
    "#save resize output in directory\n",
    "new_image.save(f'{dir_path}Resize/Cacad34_resize.png')"
   ]
  },
  {
   "cell_type": "code",
   "execution_count": 36,
   "metadata": {},
   "outputs": [],
   "source": [
    "image = Image.open(f'{dir_path}Transparent/Cacad_transparent35.png')\n",
    "# create new size of image (image resize process) 100 x 100 pixel\n",
    "new_image = image.resize((100, 100))\n",
    "#save resize output in directory\n",
    "new_image.save(f'{dir_path}Resize/Cacad35_resize.png')"
   ]
  },
  {
   "cell_type": "code",
   "execution_count": 37,
   "metadata": {},
   "outputs": [],
   "source": [
    "image = Image.open(f'{dir_path}Transparent/Cacad_transparent36.png')\n",
    "# create new size of image (image resize process) 100 x 100 pixel\n",
    "new_image = image.resize((100, 100))\n",
    "#save resize output in directory\n",
    "new_image.save(f'{dir_path}Resize/Cacad36_resize.png')"
   ]
  },
  {
   "cell_type": "code",
   "execution_count": 38,
   "metadata": {},
   "outputs": [],
   "source": [
    "image = Image.open(f'{dir_path}Transparent/Cacad_transparent37.png')\n",
    "# create new size of image (image resize process) 100 x 100 pixel\n",
    "new_image = image.resize((100, 100))\n",
    "#save resize output in directory\n",
    "new_image.save(f'{dir_path}Resize/Cacad37_resize.png')"
   ]
  },
  {
   "cell_type": "code",
   "execution_count": 39,
   "metadata": {},
   "outputs": [],
   "source": [
    "image = Image.open(f'{dir_path}Transparent/Cacad_transparent38.png')\n",
    "# create new size of image (image resize process) 100 x 100 pixel\n",
    "new_image = image.resize((100, 100))\n",
    "#save resize output in directory\n",
    "new_image.save(f'{dir_path}Resize/Cacad38_resize.png')"
   ]
  },
  {
   "cell_type": "code",
   "execution_count": 40,
   "metadata": {},
   "outputs": [],
   "source": [
    "image = Image.open(f'{dir_path}Transparent/Cacad_transparent39.png')\n",
    "# create new size of image (image resize process) 100 x 100 pixel\n",
    "new_image = image.resize((100, 100))\n",
    "#save resize output in directory\n",
    "new_image.save(f'{dir_path}Resize/Cacad39_resize.png')"
   ]
  },
  {
   "cell_type": "code",
   "execution_count": 41,
   "metadata": {},
   "outputs": [],
   "source": [
    "image = Image.open(f'{dir_path}Transparent/Cacad_transparent40.png')\n",
    "# create new size of image (image resize process) 100 x 100 pixel\n",
    "new_image = image.resize((100, 100))\n",
    "#save resize output in directory\n",
    "new_image.save(f'{dir_path}Resize/Cacad40_resize.png')"
   ]
  },
  {
   "cell_type": "code",
   "execution_count": 42,
   "metadata": {},
   "outputs": [],
   "source": [
    "image = Image.open(f'{dir_path}Transparent/Cacad_transparent41.png')\n",
    "# create new size of image (image resize process) 100 x 100 pixel\n",
    "new_image = image.resize((100, 100))\n",
    "#save resize output in directory\n",
    "new_image.save(f'{dir_path}Resize/Cacad41_resize.png')"
   ]
  },
  {
   "cell_type": "code",
   "execution_count": 43,
   "metadata": {},
   "outputs": [],
   "source": [
    "image = Image.open(f'{dir_path}Transparent/Cacad_transparent42.png')\n",
    "# create new size of image (image resize process) 100 x 100 pixel\n",
    "new_image = image.resize((100, 100))\n",
    "#save resize output in directory\n",
    "new_image.save(f'{dir_path}Resize/Cacad42_resize.png')"
   ]
  },
  {
   "cell_type": "code",
   "execution_count": 44,
   "metadata": {},
   "outputs": [],
   "source": [
    "image = Image.open(f'{dir_path}Transparent/Cacad_transparent43.png')\n",
    "# create new size of image (image resize process) 100 x 100 pixel\n",
    "new_image = image.resize((100, 100))\n",
    "#save resize output in directory\n",
    "new_image.save(f'{dir_path}Resize/Cacad43_resize.png')"
   ]
  },
  {
   "cell_type": "code",
   "execution_count": 45,
   "metadata": {},
   "outputs": [],
   "source": [
    "image = Image.open(f'{dir_path}Transparent/Cacad_transparent44.png')\n",
    "# create new size of image (image resize process) 100 x 100 pixel\n",
    "new_image = image.resize((100, 100))\n",
    "#save resize output in directory\n",
    "new_image.save(f'{dir_path}Resize/Cacad44_resize.png')"
   ]
  },
  {
   "cell_type": "code",
   "execution_count": 46,
   "metadata": {},
   "outputs": [],
   "source": [
    "image = Image.open(f'{dir_path}Transparent/Cacad_transparent45.png')\n",
    "# create new size of image (image resize process) 100 x 100 pixel\n",
    "new_image = image.resize((100, 100))\n",
    "#save resize output in directory\n",
    "new_image.save(f'{dir_path}Resize/Cacad45_resize.png')"
   ]
  },
  {
   "cell_type": "code",
   "execution_count": 47,
   "metadata": {},
   "outputs": [],
   "source": [
    "image = Image.open(f'{dir_path}Transparent/Cacad_transparent46.png')\n",
    "# create new size of image (image resize process) 100 x 100 pixel\n",
    "new_image = image.resize((100, 100))\n",
    "#save resize output in directory\n",
    "new_image.save(f'{dir_path}Resize/Cacad46_resize.png')"
   ]
  },
  {
   "cell_type": "code",
   "execution_count": 48,
   "metadata": {},
   "outputs": [],
   "source": [
    "image = Image.open(f'{dir_path}Transparent/Cacad_transparent47.png')\n",
    "# create new size of image (image resize process) 100 x 100 pixel\n",
    "new_image = image.resize((100, 100))\n",
    "#save resize output in directory\n",
    "new_image.save(f'{dir_path}Resize/Cacad47_resize.png')"
   ]
  },
  {
   "cell_type": "code",
   "execution_count": 49,
   "metadata": {},
   "outputs": [],
   "source": [
    "image = Image.open(f'{dir_path}Transparent/Cacad_transparent48.png')\n",
    "# create new size of image (image resize process) 100 x 100 pixel\n",
    "new_image = image.resize((100, 100))\n",
    "#save resize output in directory\n",
    "new_image.save(f'{dir_path}Resize/Cacad48_resize.png')"
   ]
  },
  {
   "cell_type": "code",
   "execution_count": 50,
   "metadata": {},
   "outputs": [],
   "source": [
    "image = Image.open(f'{dir_path}Transparent/Cacad_transparent49.png')\n",
    "# create new size of image (image resize process) 100 x 100 pixel\n",
    "new_image = image.resize((100, 100))\n",
    "#save resize output in directory\n",
    "new_image.save(f'{dir_path}Resize/Cacad49_resize.png')"
   ]
  },
  {
   "cell_type": "code",
   "execution_count": 51,
   "metadata": {},
   "outputs": [],
   "source": [
    "image = Image.open(f'{dir_path}Transparent/Cacad_transparent50.png')\n",
    "# create new size of image (image resize process) 100 x 100 pixel\n",
    "new_image = image.resize((100, 100))\n",
    "#save resize output in directory\n",
    "new_image.save(f'{dir_path}Resize/Cacad50_resize.png')"
   ]
  },
  {
   "cell_type": "code",
   "execution_count": 52,
   "metadata": {},
   "outputs": [],
   "source": [
    "image = Image.open(f'{dir_path}Transparent/Cacad_transparent51.png')\n",
    "# create new size of image (image resize process) 100 x 100 pixel\n",
    "new_image = image.resize((100, 100))\n",
    "#save resize output in directory\n",
    "new_image.save(f'{dir_path}Resize/Cacad51_resize.png')"
   ]
  },
  {
   "cell_type": "code",
   "execution_count": 53,
   "metadata": {},
   "outputs": [],
   "source": [
    "image = Image.open(f'{dir_path}Transparent/Cacad_transparent52.png')\n",
    "# create new size of image (image resize process) 100 x 100 pixel\n",
    "new_image = image.resize((100, 100))\n",
    "#save resize output in directory\n",
    "new_image.save(f'{dir_path}Resize/Cacad52_resize.png')"
   ]
  },
  {
   "cell_type": "code",
   "execution_count": 54,
   "metadata": {},
   "outputs": [],
   "source": [
    "image = Image.open(f'{dir_path}Transparent/Cacad_transparent53.png')\n",
    "# create new size of image (image resize process) 100 x 100 pixel\n",
    "new_image = image.resize((100, 100))\n",
    "#save resize output in directory\n",
    "new_image.save(f'{dir_path}Resize/Cacad53_resize.png')"
   ]
  },
  {
   "cell_type": "code",
   "execution_count": 55,
   "metadata": {},
   "outputs": [],
   "source": [
    "image = Image.open(f'{dir_path}Transparent/Cacad_transparent54.png')\n",
    "# create new size of image (image resize process) 100 x 100 pixel\n",
    "new_image = image.resize((100, 100))\n",
    "#save resize output in directory\n",
    "new_image.save(f'{dir_path}Resize/Cacad54_resize.png')"
   ]
  },
  {
   "cell_type": "code",
   "execution_count": 56,
   "metadata": {},
   "outputs": [],
   "source": [
    "image = Image.open(f'{dir_path}Transparent/Cacad_transparent55.png')\n",
    "# create new size of image (image resize process) 100 x 100 pixel\n",
    "new_image = image.resize((100, 100))\n",
    "#save resize output in directory\n",
    "new_image.save(f'{dir_path}Resize/Cacad55_resize.png')"
   ]
  },
  {
   "cell_type": "code",
   "execution_count": 57,
   "metadata": {},
   "outputs": [],
   "source": [
    "image = Image.open(f'{dir_path}Transparent/Cacad_transparent56.png')\n",
    "# create new size of image (image resize process) 100 x 100 pixel\n",
    "new_image = image.resize((100, 100))\n",
    "#save resize output in directory\n",
    "new_image.save(f'{dir_path}Resize/Cacad56_resize.png')"
   ]
  },
  {
   "cell_type": "code",
   "execution_count": 58,
   "metadata": {},
   "outputs": [],
   "source": [
    "image = Image.open(f'{dir_path}Transparent/Cacad_transparent57.png')\n",
    "# create new size of image (image resize process) 100 x 100 pixel\n",
    "new_image = image.resize((100, 100))\n",
    "#save resize output in directory\n",
    "new_image.save(f'{dir_path}Resize/Cacad57_resize.png')"
   ]
  },
  {
   "cell_type": "code",
   "execution_count": 59,
   "metadata": {},
   "outputs": [],
   "source": [
    "image = Image.open(f'{dir_path}Transparent/Cacad_transparent58.png')\n",
    "# create new size of image (image resize process) 100 x 100 pixel\n",
    "new_image = image.resize((100, 100))\n",
    "#save resize output in directory\n",
    "new_image.save(f'{dir_path}Resize/Cacad58_resize.png')"
   ]
  },
  {
   "cell_type": "code",
   "execution_count": 60,
   "metadata": {},
   "outputs": [],
   "source": [
    "image = Image.open(f'{dir_path}Transparent/Cacad_transparent59.png')\n",
    "# create new size of image (image resize process) 100 x 100 pixel\n",
    "new_image = image.resize((100, 100))\n",
    "#save resize output in directory\n",
    "new_image.save(f'{dir_path}Resize/Cacad59_resize.png')"
   ]
  },
  {
   "cell_type": "code",
   "execution_count": 61,
   "metadata": {},
   "outputs": [],
   "source": [
    "image = Image.open(f'{dir_path}Transparent/Cacad_transparent60.png')\n",
    "# create new size of image (image resize process) 100 x 100 pixel\n",
    "new_image = image.resize((100, 100))\n",
    "#save resize output in directory\n",
    "new_image.save(f'{dir_path}Resize/Cacad60_resize.png')"
   ]
  },
  {
   "cell_type": "code",
   "execution_count": 62,
   "metadata": {},
   "outputs": [],
   "source": [
    "image = Image.open(f'{dir_path}Transparent/Cacad_transparent61.png')\n",
    "# create new size of image (image resize process) 100 x 100 pixel\n",
    "new_image = image.resize((100, 100))\n",
    "#save resize output in directory\n",
    "new_image.save(f'{dir_path}Resize/Cacad61_resize.png')"
   ]
  },
  {
   "cell_type": "code",
   "execution_count": 63,
   "metadata": {},
   "outputs": [],
   "source": [
    "image = Image.open(f'{dir_path}Transparent/Cacad_transparent62.png')\n",
    "# create new size of image (image resize process) 100 x 100 pixel\n",
    "new_image = image.resize((100, 100))\n",
    "#save resize output in directory\n",
    "new_image.save(f'{dir_path}Resize/Cacad62_resize.png')"
   ]
  },
  {
   "cell_type": "code",
   "execution_count": 64,
   "metadata": {},
   "outputs": [],
   "source": [
    "image = Image.open(f'{dir_path}Transparent/Cacad_transparent63.png')\n",
    "# create new size of image (image resize process) 100 x 100 pixel\n",
    "new_image = image.resize((100, 100))\n",
    "#save resize output in directory\n",
    "new_image.save(f'{dir_path}Resize/Cacad63_resize.png')"
   ]
  },
  {
   "cell_type": "code",
   "execution_count": 65,
   "metadata": {},
   "outputs": [],
   "source": [
    "image = Image.open(f'{dir_path}Transparent/Cacad_transparent64.png')\n",
    "# create new size of image (image resize process) 100 x 100 pixel\n",
    "new_image = image.resize((100, 100))\n",
    "#save resize output in directory\n",
    "new_image.save(f'{dir_path}Resize/Cacad64_resize.png')"
   ]
  },
  {
   "cell_type": "code",
   "execution_count": 66,
   "metadata": {},
   "outputs": [],
   "source": [
    "image = Image.open(f'{dir_path}Transparent/Cacad_transparent65.png')\n",
    "# create new size of image (image resize process) 100 x 100 pixel\n",
    "new_image = image.resize((100, 100))\n",
    "#save resize output in directory\n",
    "new_image.save(f'{dir_path}Resize/Cacad65_resize.png')"
   ]
  },
  {
   "cell_type": "code",
   "execution_count": 67,
   "metadata": {},
   "outputs": [],
   "source": [
    "image = Image.open(f'{dir_path}Transparent/Cacad_transparent66.png')\n",
    "# create new size of image (image resize process) 100 x 100 pixel\n",
    "new_image = image.resize((100, 100))\n",
    "#save resize output in directory\n",
    "new_image.save(f'{dir_path}Resize/Cacad66_resize.png')"
   ]
  },
  {
   "cell_type": "code",
   "execution_count": 68,
   "metadata": {},
   "outputs": [],
   "source": [
    "image = Image.open(f'{dir_path}Transparent/Cacad_transparent67.png')\n",
    "# create new size of image (image resize process) 100 x 100 pixel\n",
    "new_image = image.resize((100, 100))\n",
    "#save resize output in directory\n",
    "new_image.save(f'{dir_path}Resize/Cacad67_resize.png')"
   ]
  },
  {
   "cell_type": "code",
   "execution_count": 69,
   "metadata": {},
   "outputs": [],
   "source": [
    "image = Image.open(f'{dir_path}Transparent/Cacad_transparent68.png')\n",
    "# create new size of image (image resize process) 100 x 100 pixel\n",
    "new_image = image.resize((100, 100))\n",
    "#save resize output in directory\n",
    "new_image.save(f'{dir_path}Resize/Cacad68_resize.png')"
   ]
  },
  {
   "cell_type": "code",
   "execution_count": 70,
   "metadata": {},
   "outputs": [],
   "source": [
    "image = Image.open(f'{dir_path}Transparent/Cacad_transparent69.png')\n",
    "# create new size of image (image resize process) 100 x 100 pixel\n",
    "new_image = image.resize((100, 100))\n",
    "#save resize output in directory\n",
    "new_image.save(f'{dir_path}Resize/Cacad69_resize.png')"
   ]
  },
  {
   "cell_type": "code",
   "execution_count": 71,
   "metadata": {},
   "outputs": [],
   "source": [
    "image = Image.open(f'{dir_path}Transparent/Cacad_transparent70.png')\n",
    "# create new size of image (image resize process) 100 x 100 pixel\n",
    "new_image = image.resize((100, 100))\n",
    "#save resize output in directory\n",
    "new_image.save(f'{dir_path}Resize/Cacad70_resize.png')"
   ]
  },
  {
   "cell_type": "code",
   "execution_count": 72,
   "metadata": {},
   "outputs": [],
   "source": [
    "image = Image.open(f'{dir_path}Transparent/Cacad_transparent71.png')\n",
    "# create new size of image (image resize process) 100 x 100 pixel\n",
    "new_image = image.resize((100, 100))\n",
    "#save resize output in directory\n",
    "new_image.save(f'{dir_path}Resize/Cacad71_resize.png')"
   ]
  },
  {
   "cell_type": "code",
   "execution_count": 73,
   "metadata": {},
   "outputs": [],
   "source": [
    "image = Image.open(f'{dir_path}Transparent/Cacad_transparent72.png')\n",
    "# create new size of image (image resize process) 100 x 100 pixel\n",
    "new_image = image.resize((100, 100))\n",
    "#save resize output in directory\n",
    "new_image.save(f'{dir_path}Resize/Cacad72_resize.png')"
   ]
  },
  {
   "cell_type": "code",
   "execution_count": 74,
   "metadata": {},
   "outputs": [],
   "source": [
    "image = Image.open(f'{dir_path}Transparent/Cacad_transparent73.png')\n",
    "# create new size of image (image resize process) 100 x 100 pixel\n",
    "new_image = image.resize((100, 100))\n",
    "#save resize output in directory\n",
    "new_image.save(f'{dir_path}Resize/Cacad73_resize.png')"
   ]
  },
  {
   "cell_type": "code",
   "execution_count": 75,
   "metadata": {},
   "outputs": [],
   "source": [
    "image = Image.open(f'{dir_path}Transparent/Cacad_transparent74.png')\n",
    "# create new size of image (image resize process) 100 x 100 pixel\n",
    "new_image = image.resize((100, 100))\n",
    "#save resize output in directory\n",
    "new_image.save(f'{dir_path}Resize/Cacad74_resize.png')"
   ]
  },
  {
   "cell_type": "code",
   "execution_count": 76,
   "metadata": {},
   "outputs": [],
   "source": [
    "image = Image.open(f'{dir_path}Transparent/Cacad_transparent75.png')\n",
    "# create new size of image (image resize process) 100 x 100 pixel\n",
    "new_image = image.resize((100, 100))\n",
    "#save resize output in directory\n",
    "new_image.save(f'{dir_path}Resize/Cacad75_resize.png')"
   ]
  },
  {
   "cell_type": "code",
   "execution_count": 77,
   "metadata": {},
   "outputs": [],
   "source": [
    "image = Image.open(f'{dir_path}Transparent/Cacad_transparent76.png')\n",
    "# create new size of image (image resize process) 100 x 100 pixel\n",
    "new_image = image.resize((100, 100))\n",
    "#save resize output in directory\n",
    "new_image.save(f'{dir_path}Resize/Cacad76_resize.png')"
   ]
  },
  {
   "cell_type": "code",
   "execution_count": 78,
   "metadata": {},
   "outputs": [],
   "source": [
    "image = Image.open(f'{dir_path}Transparent/Cacad_transparent77.png')\n",
    "# create new size of image (image resize process) 100 x 100 pixel\n",
    "new_image = image.resize((100, 100))\n",
    "#save resize output in directory\n",
    "new_image.save(f'{dir_path}Resize/Cacad77_resize.png')"
   ]
  },
  {
   "cell_type": "code",
   "execution_count": 79,
   "metadata": {},
   "outputs": [],
   "source": [
    "image = Image.open(f'{dir_path}Transparent/Cacad_transparent78.png')\n",
    "# create new size of image (image resize process) 100 x 100 pixel\n",
    "new_image = image.resize((100, 100))\n",
    "#save resize output in directory\n",
    "new_image.save(f'{dir_path}Resize/Cacad78_resize.png')"
   ]
  },
  {
   "cell_type": "code",
   "execution_count": 80,
   "metadata": {},
   "outputs": [],
   "source": [
    "image = Image.open(f'{dir_path}Transparent/Cacad_transparent79.png')\n",
    "# create new size of image (image resize process) 100 x 100 pixel\n",
    "new_image = image.resize((100, 100))\n",
    "#save resize output in directory\n",
    "new_image.save(f'{dir_path}Resize/Cacad79_resize.png')"
   ]
  },
  {
   "cell_type": "code",
   "execution_count": 81,
   "metadata": {},
   "outputs": [],
   "source": [
    "image = Image.open(f'{dir_path}Transparent/Cacad_transparent80.png')\n",
    "# create new size of image (image resize process) 100 x 100 pixel\n",
    "new_image = image.resize((100, 100))\n",
    "#save resize output in directory\n",
    "new_image.save(f'{dir_path}Resize/Cacad80_resize.png')"
   ]
  },
  {
   "cell_type": "code",
   "execution_count": 82,
   "metadata": {},
   "outputs": [],
   "source": [
    "image = Image.open(f'{dir_path}Transparent/Cacad_transparent81.png')\n",
    "# create new size of image (image resize process) 100 x 100 pixel\n",
    "new_image = image.resize((100, 100))\n",
    "#save resize output in directory\n",
    "new_image.save(f'{dir_path}Resize/Cacad81_resize.png')"
   ]
  },
  {
   "cell_type": "code",
   "execution_count": 83,
   "metadata": {},
   "outputs": [],
   "source": [
    "image = Image.open(f'{dir_path}Transparent/Cacad_transparent82.png')\n",
    "# create new size of image (image resize process) 100 x 100 pixel\n",
    "new_image = image.resize((100, 100))\n",
    "#save resize output in directory\n",
    "new_image.save(f'{dir_path}Resize/Cacad82_resize.png')"
   ]
  },
  {
   "cell_type": "code",
   "execution_count": 84,
   "metadata": {},
   "outputs": [],
   "source": [
    "image = Image.open(f'{dir_path}Transparent/Cacad_transparent83.png')\n",
    "# create new size of image (image resize process) 100 x 100 pixel\n",
    "new_image = image.resize((100, 100))\n",
    "#save resize output in directory\n",
    "new_image.save(f'{dir_path}Resize/Cacad83_resize.png')"
   ]
  },
  {
   "cell_type": "code",
   "execution_count": 85,
   "metadata": {},
   "outputs": [],
   "source": [
    "image = Image.open(f'{dir_path}Transparent/Cacad_transparent84.png')\n",
    "# create new size of image (image resize process) 100 x 100 pixel\n",
    "new_image = image.resize((100, 100))\n",
    "#save resize output in directory\n",
    "new_image.save(f'{dir_path}Resize/Cacad84_resize.png')"
   ]
  },
  {
   "cell_type": "code",
   "execution_count": 86,
   "metadata": {},
   "outputs": [],
   "source": [
    "image = Image.open(f'{dir_path}Transparent/Cacad_transparent85.png')\n",
    "# create new size of image (image resize process) 100 x 100 pixel\n",
    "new_image = image.resize((100, 100))\n",
    "#save resize output in directory\n",
    "new_image.save(f'{dir_path}Resize/Cacad85_resize.png')"
   ]
  },
  {
   "cell_type": "code",
   "execution_count": 87,
   "metadata": {},
   "outputs": [],
   "source": [
    "image = Image.open(f'{dir_path}Transparent/Cacad_transparent86.png')\n",
    "# create new size of image (image resize process) 100 x 100 pixel\n",
    "new_image = image.resize((100, 100))\n",
    "#save resize output in directory\n",
    "new_image.save(f'{dir_path}Resize/Cacad86_resize.png')"
   ]
  },
  {
   "cell_type": "code",
   "execution_count": 88,
   "metadata": {},
   "outputs": [],
   "source": [
    "image = Image.open(f'{dir_path}Transparent/Cacad_transparent87.png')\n",
    "# create new size of image (image resize process) 100 x 100 pixel\n",
    "new_image = image.resize((100, 100))\n",
    "#save resize output in directory\n",
    "new_image.save(f'{dir_path}Resize/Cacad87_resize.png')"
   ]
  },
  {
   "cell_type": "code",
   "execution_count": 89,
   "metadata": {},
   "outputs": [],
   "source": [
    "image = Image.open(f'{dir_path}Transparent/Cacad_transparent88.png')\n",
    "# create new size of image (image resize process) 100 x 100 pixel\n",
    "new_image = image.resize((100, 100))\n",
    "#save resize output in directory\n",
    "new_image.save(f'{dir_path}Resize/Cacad88_resize.png')"
   ]
  },
  {
   "cell_type": "code",
   "execution_count": 90,
   "metadata": {},
   "outputs": [],
   "source": [
    "image = Image.open(f'{dir_path}Transparent/Cacad_transparent89.png')\n",
    "# create new size of image (image resize process) 100 x 100 pixel\n",
    "new_image = image.resize((100, 100))\n",
    "#save resize output in directory\n",
    "new_image.save(f'{dir_path}Resize/Cacad89_resize.png')"
   ]
  },
  {
   "cell_type": "code",
   "execution_count": 91,
   "metadata": {},
   "outputs": [],
   "source": [
    "image = Image.open(f'{dir_path}Transparent/Cacad_transparent90.png')\n",
    "# create new size of image (image resize process) 100 x 100 pixel\n",
    "new_image = image.resize((100, 100))\n",
    "#save resize output in directory\n",
    "new_image.save(f'{dir_path}Resize/Cacad90_resize.png')"
   ]
  },
  {
   "cell_type": "code",
   "execution_count": 92,
   "metadata": {},
   "outputs": [],
   "source": [
    "image = Image.open(f'{dir_path}Transparent/Cacad_transparent91.png')\n",
    "# create new size of image (image resize process) 100 x 100 pixel\n",
    "new_image = image.resize((100, 100))\n",
    "#save resize output in directory\n",
    "new_image.save(f'{dir_path}Resize/Cacad91_resize.png')"
   ]
  },
  {
   "cell_type": "code",
   "execution_count": 93,
   "metadata": {},
   "outputs": [],
   "source": [
    "image = Image.open(f'{dir_path}Transparent/Cacad_transparent92.png')\n",
    "# create new size of image (image resize process) 100 x 100 pixel\n",
    "new_image = image.resize((100, 100))\n",
    "#save resize output in directory\n",
    "new_image.save(f'{dir_path}Resize/Cacad92_resize.png')"
   ]
  },
  {
   "cell_type": "code",
   "execution_count": 94,
   "metadata": {},
   "outputs": [],
   "source": [
    "image = Image.open(f'{dir_path}Transparent/Cacad_transparent93.png')\n",
    "# create new size of image (image resize process) 100 x 100 pixel\n",
    "new_image = image.resize((100, 100))\n",
    "#save resize output in directory\n",
    "new_image.save(f'{dir_path}Resize/Cacad93_resize.png')"
   ]
  },
  {
   "cell_type": "code",
   "execution_count": 95,
   "metadata": {},
   "outputs": [],
   "source": [
    "image = Image.open(f'{dir_path}Transparent/Cacad_transparent94.png')\n",
    "# create new size of image (image resize process) 100 x 100 pixel\n",
    "new_image = image.resize((100, 100))\n",
    "#save resize output in directory\n",
    "new_image.save(f'{dir_path}Resize/Cacad94_resize.png')"
   ]
  },
  {
   "cell_type": "code",
   "execution_count": 96,
   "metadata": {},
   "outputs": [],
   "source": [
    "image = Image.open(f'{dir_path}Transparent/Cacad_transparent95.png')\n",
    "# create new size of image (image resize process) 100 x 100 pixel\n",
    "new_image = image.resize((100, 100))\n",
    "#save resize output in directory\n",
    "new_image.save(f'{dir_path}Resize/Cacad95_resize.png')"
   ]
  },
  {
   "cell_type": "code",
   "execution_count": 97,
   "metadata": {},
   "outputs": [],
   "source": [
    "image = Image.open(f'{dir_path}Transparent/Cacad_transparent96.png')\n",
    "# create new size of image (image resize process) 100 x 100 pixel\n",
    "new_image = image.resize((100, 100))\n",
    "#save resize output in directory\n",
    "new_image.save(f'{dir_path}Resize/Cacad96_resize.png')"
   ]
  },
  {
   "cell_type": "code",
   "execution_count": 98,
   "metadata": {},
   "outputs": [],
   "source": [
    "image = Image.open(f'{dir_path}Transparent/Cacad_transparent97.png')\n",
    "# create new size of image (image resize process) 100 x 100 pixel\n",
    "new_image = image.resize((100, 100))\n",
    "#save resize output in directory\n",
    "new_image.save(f'{dir_path}Resize/Cacad97_resize.png')"
   ]
  },
  {
   "cell_type": "code",
   "execution_count": 99,
   "metadata": {},
   "outputs": [],
   "source": [
    "image = Image.open(f'{dir_path}Transparent/Cacad_transparent98.png')\n",
    "# create new size of image (image resize process) 100 x 100 pixel\n",
    "new_image = image.resize((100, 100))\n",
    "#save resize output in directory\n",
    "new_image.save(f'{dir_path}Resize/Cacad98_resize.png')"
   ]
  },
  {
   "cell_type": "code",
   "execution_count": 100,
   "metadata": {},
   "outputs": [],
   "source": [
    "image = Image.open(f'{dir_path}Transparent/Cacad_transparent99.png')\n",
    "# create new size of image (image resize process) 100 x 100 pixel\n",
    "new_image = image.resize((100, 100))\n",
    "#save resize output in directory\n",
    "new_image.save(f'{dir_path}Resize/Cacad99_resize.png')"
   ]
  },
  {
   "cell_type": "code",
   "execution_count": 101,
   "metadata": {},
   "outputs": [],
   "source": [
    "image = Image.open(f'{dir_path}Transparent/Cacad_transparent100.png')\n",
    "# create new size of image (image resize process) 100 x 100 pixel\n",
    "new_image = image.resize((100, 100))\n",
    "#save resize output in directory\n",
    "new_image.save(f'{dir_path}Resize/Cacad100_resize.png')"
   ]
  }
 ],
 "metadata": {
  "kernelspec": {
   "display_name": "Python 3.10.6 64-bit",
   "language": "python",
   "name": "python3"
  },
  "language_info": {
   "codemirror_mode": {
    "name": "ipython",
    "version": 3
   },
   "file_extension": ".py",
   "mimetype": "text/x-python",
   "name": "python",
   "nbconvert_exporter": "python",
   "pygments_lexer": "ipython3",
   "version": "3.10.6"
  },
  "vscode": {
   "interpreter": {
    "hash": "369f2c481f4da34e4445cda3fffd2e751bd1c4d706f27375911949ba6bb62e1c"
   }
  }
 },
 "nbformat": 4,
 "nbformat_minor": 4
}
