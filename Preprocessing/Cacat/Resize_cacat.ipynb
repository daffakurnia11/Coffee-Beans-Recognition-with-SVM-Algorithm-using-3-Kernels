{
 "cells": [
  {
   "cell_type": "markdown",
   "metadata": {},
   "source": [
    "# Importing required libraries"
   ]
  },
  {
   "cell_type": "code",
   "execution_count": 3,
   "metadata": {},
   "outputs": [],
   "source": [
    "import cv2\n",
    "import glob\n",
    "import matplotlib.pyplot as plt\n",
    "import os,glob\n",
    "import os\n",
    "from os import listdir,makedirs\n",
    "from os.path import isfile,join\n",
    "import skimage\n",
    "from skimage import data\n",
    "import numpy as np\n",
    "import matplotlib.pyplot as plt\n",
    "%matplotlib inline\n",
    "from PIL import Image\n",
    "\n",
    "dir_path = \"C:/Users/LnData User/Documents/SEMESTER 7/FP SIFON/Coffee Beans Classification/Dataset/Cacad/\""
   ]
  },
  {
   "cell_type": "markdown",
   "metadata": {},
   "source": [
    "# load and resize 100 images of defective coffee beans"
   ]
  },
  {
   "cell_type": "code",
   "execution_count": 4,
   "metadata": {},
   "outputs": [],
   "source": [
    "# load image Cacat1.jpg from directory\n",
    "image = Image.open(f'{dir_path}Image/Cacad1.jpg')\n",
    "# create new size of image (image resize process) 100 x 100 pixel\n",
    "new_image = image.resize((100, 100))\n",
    "#save resize output in directory\n",
    "new_image.save(f'{dir_path}Resize/Cacad1_resize.jpg')"
   ]
  },
  {
   "cell_type": "code",
   "execution_count": 5,
   "metadata": {},
   "outputs": [],
   "source": [
    "image = Image.open(f'{dir_path}Image/Cacad2.jpg')\n",
    "# create new size of image (image resize process) 100 x 100 pixel\n",
    "new_image = image.resize((100, 100))\n",
    "#save resize output in directory\n",
    "new_image.save(f'{dir_path}Resize/Cacad2_resize.jpg')"
   ]
  },
  {
   "cell_type": "code",
   "execution_count": 6,
   "metadata": {},
   "outputs": [],
   "source": [
    "image = Image.open(f'{dir_path}Image/Cacad3.jpg')\n",
    "# create new size of image (image resize process) 100 x 100 pixel\n",
    "new_image = image.resize((100, 100))\n",
    "#save resize output in directory\n",
    "new_image.save(f'{dir_path}Resize/Cacad3_resize.jpg')"
   ]
  },
  {
   "cell_type": "code",
   "execution_count": 7,
   "metadata": {},
   "outputs": [],
   "source": [
    "image = Image.open(f'{dir_path}Image/Cacad4.jpg')\n",
    "# create new size of image (image resize process) 100 x 100 pixel\n",
    "new_image = image.resize((100, 100))\n",
    "#save resize output in directory\n",
    "new_image.save(f'{dir_path}Resize/Cacad4_resize.jpg')"
   ]
  },
  {
   "cell_type": "code",
   "execution_count": 8,
   "metadata": {},
   "outputs": [],
   "source": [
    "image = Image.open(f'{dir_path}Image/Cacad5.jpg')\n",
    "# create new size of image (image resize process) 100 x 100 pixel\n",
    "new_image = image.resize((100, 100))\n",
    "#save resize output in directory\n",
    "new_image.save(f'{dir_path}Resize/Cacad5_resize.jpg')"
   ]
  },
  {
   "cell_type": "code",
   "execution_count": 9,
   "metadata": {},
   "outputs": [],
   "source": [
    "image = Image.open(f'{dir_path}Image/Cacad6.jpg')\n",
    "# create new size of image (image resize process) 100 x 100 pixel\n",
    "new_image = image.resize((100, 100))\n",
    "#save resize output in directory\n",
    "new_image.save(f'{dir_path}Resize/Cacad6_resize.jpg')"
   ]
  },
  {
   "cell_type": "code",
   "execution_count": 10,
   "metadata": {},
   "outputs": [],
   "source": [
    "image = Image.open(f'{dir_path}Image/Cacad7.jpg')\n",
    "# create new size of image (image resize process) 100 x 100 pixel\n",
    "new_image = image.resize((100, 100))\n",
    "#save resize output in directory\n",
    "new_image.save(f'{dir_path}Resize/Cacad7_resize.jpg')"
   ]
  },
  {
   "cell_type": "code",
   "execution_count": 11,
   "metadata": {},
   "outputs": [],
   "source": [
    "image = Image.open(f'{dir_path}Image/Cacad8.jpg')\n",
    "# create new size of image (image resize process) 100 x 100 pixel\n",
    "new_image = image.resize((100, 100))\n",
    "#save resize output in directory\n",
    "new_image.save(f'{dir_path}Resize/Cacad8_resize.jpg')"
   ]
  },
  {
   "cell_type": "code",
   "execution_count": 12,
   "metadata": {},
   "outputs": [],
   "source": [
    "image = Image.open(f'{dir_path}Image/Cacad9.jpg')\n",
    "# create new size of image (image resize process) 100 x 100 pixel\n",
    "new_image = image.resize((100, 100))\n",
    "#save resize output in directory\n",
    "new_image.save(f'{dir_path}Resize/Cacad9_resize.jpg')"
   ]
  },
  {
   "cell_type": "code",
   "execution_count": 13,
   "metadata": {},
   "outputs": [],
   "source": [
    "image = Image.open(f'{dir_path}Image/Cacad10.jpg')\n",
    "# create new size of image (image resize process) 100 x 100 pixel\n",
    "new_image = image.resize((100, 100))\n",
    "#save resize output in directory\n",
    "new_image.save(f'{dir_path}Resize/Cacad10_resize.jpg')"
   ]
  },
  {
   "cell_type": "code",
   "execution_count": 14,
   "metadata": {},
   "outputs": [],
   "source": [
    "image = Image.open(f'{dir_path}Image/Cacad11.jpg')\n",
    "# create new size of image (image resize process) 100 x 100 pixel\n",
    "new_image = image.resize((100, 100))\n",
    "#save resize output in directory\n",
    "new_image.save(f'{dir_path}Resize/Cacad11_resize.jpg')"
   ]
  },
  {
   "cell_type": "code",
   "execution_count": 15,
   "metadata": {},
   "outputs": [],
   "source": [
    "image = Image.open(f'{dir_path}Image/Cacad12.jpg')\n",
    "# create new size of image (image resize process) 100 x 100 pixel\n",
    "new_image = image.resize((100, 100))\n",
    "#save resize output in directory\n",
    "new_image.save(f'{dir_path}Resize/Cacad12_resize.jpg')"
   ]
  },
  {
   "cell_type": "code",
   "execution_count": 16,
   "metadata": {},
   "outputs": [],
   "source": [
    "image = Image.open(f'{dir_path}Image/Cacad13.jpg')\n",
    "# create new size of image (image resize process) 100 x 100 pixel\n",
    "new_image = image.resize((100, 100))\n",
    "#save resize output in directory\n",
    "new_image.save(f'{dir_path}Resize/Cacad13_resize.jpg')"
   ]
  },
  {
   "cell_type": "code",
   "execution_count": 17,
   "metadata": {},
   "outputs": [],
   "source": [
    "image = Image.open(f'{dir_path}Image/Cacad14.jpg')\n",
    "# create new size of image (image resize process) 100 x 100 pixel\n",
    "new_image = image.resize((100, 100))\n",
    "#save resize output in directory\n",
    "new_image.save(f'{dir_path}Resize/Cacad14_resize.jpg')"
   ]
  },
  {
   "cell_type": "code",
   "execution_count": 18,
   "metadata": {},
   "outputs": [],
   "source": [
    "image = Image.open(f'{dir_path}Image/Cacad15.jpg')\n",
    "# create new size of image (image resize process) 100 x 100 pixel\n",
    "new_image = image.resize((100, 100))\n",
    "#save resize output in directory\n",
    "new_image.save(f'{dir_path}Resize/Cacad15_resize.jpg')"
   ]
  },
  {
   "cell_type": "code",
   "execution_count": 19,
   "metadata": {},
   "outputs": [],
   "source": [
    "image = Image.open(f'{dir_path}Image/Cacad16.jpg')\n",
    "# create new size of image (image resize process) 100 x 100 pixel\n",
    "new_image = image.resize((100, 100))\n",
    "#save resize output in directory\n",
    "new_image.save(f'{dir_path}Resize/Cacad16_resize.jpg')"
   ]
  },
  {
   "cell_type": "code",
   "execution_count": 20,
   "metadata": {},
   "outputs": [],
   "source": [
    "image = Image.open(f'{dir_path}Image/Cacad17.jpg')\n",
    "# create new size of image (image resize process) 100 x 100 pixel\n",
    "new_image = image.resize((100, 100))\n",
    "#save resize output in directory\n",
    "new_image.save(f'{dir_path}Resize/Cacad17_resize.jpg')"
   ]
  },
  {
   "cell_type": "code",
   "execution_count": 21,
   "metadata": {},
   "outputs": [],
   "source": [
    "image = Image.open(f'{dir_path}Image/Cacad18.jpg')\n",
    "# create new size of image (image resize process) 100 x 100 pixel\n",
    "new_image = image.resize((100, 100))\n",
    "#save resize output in directory\n",
    "new_image.save(f'{dir_path}Resize/Cacad18_resize.jpg')"
   ]
  },
  {
   "cell_type": "code",
   "execution_count": 22,
   "metadata": {},
   "outputs": [],
   "source": [
    "image = Image.open(f'{dir_path}Image/Cacad19.jpg')\n",
    "# create new size of image (image resize process) 100 x 100 pixel\n",
    "new_image = image.resize((100, 100))\n",
    "#save resize output in directory\n",
    "new_image.save(f'{dir_path}Resize/Cacad19_resize.jpg')"
   ]
  },
  {
   "cell_type": "code",
   "execution_count": 23,
   "metadata": {},
   "outputs": [],
   "source": [
    "image = Image.open(f'{dir_path}Image/Cacad20.jpg')\n",
    "# create new size of image (image resize process) 100 x 100 pixel\n",
    "new_image = image.resize((100, 100))\n",
    "#save resize output in directory\n",
    "new_image.save(f'{dir_path}Resize/Cacad20_resize.jpg')"
   ]
  },
  {
   "cell_type": "code",
   "execution_count": 24,
   "metadata": {},
   "outputs": [],
   "source": [
    "image = Image.open(f'{dir_path}Image/Cacad21.jpg')\n",
    "# create new size of image (image resize process) 100 x 100 pixel\n",
    "new_image = image.resize((100, 100))\n",
    "#save resize output in directory\n",
    "new_image.save(f'{dir_path}Resize/Cacad21_resize.jpg')"
   ]
  },
  {
   "cell_type": "code",
   "execution_count": 25,
   "metadata": {},
   "outputs": [],
   "source": [
    "image = Image.open(f'{dir_path}Image/Cacad22.jpg')\n",
    "# create new size of image (image resize process) 100 x 100 pixel\n",
    "new_image = image.resize((100, 100))\n",
    "#save resize output in directory\n",
    "new_image.save(f'{dir_path}Resize/Cacad22_resize.jpg')"
   ]
  },
  {
   "cell_type": "code",
   "execution_count": 26,
   "metadata": {},
   "outputs": [],
   "source": [
    "image = Image.open(f'{dir_path}Image/Cacad23.jpg')\n",
    "# create new size of image (image resize process) 100 x 100 pixel\n",
    "new_image = image.resize((100, 100))\n",
    "#save resize output in directory\n",
    "new_image.save(f'{dir_path}Resize/Cacad23_resize.jpg')"
   ]
  },
  {
   "cell_type": "code",
   "execution_count": 27,
   "metadata": {},
   "outputs": [],
   "source": [
    "image = Image.open(f'{dir_path}Image/Cacad24.jpg')\n",
    "# create new size of image (image resize process) 100 x 100 pixel\n",
    "new_image = image.resize((100, 100))\n",
    "#save resize output in directory\n",
    "new_image.save(f'{dir_path}Resize/Cacad24_resize.jpg')"
   ]
  },
  {
   "cell_type": "code",
   "execution_count": 28,
   "metadata": {},
   "outputs": [],
   "source": [
    "image = Image.open(f'{dir_path}Image/Cacad25.jpg')\n",
    "# create new size of image (image resize process) 100 x 100 pixel\n",
    "new_image = image.resize((100, 100))\n",
    "#save resize output in directory\n",
    "new_image.save(f'{dir_path}Resize/Cacad25_resize.jpg')"
   ]
  },
  {
   "cell_type": "code",
   "execution_count": 29,
   "metadata": {},
   "outputs": [],
   "source": [
    "image = Image.open(f'{dir_path}Image/Cacad26.jpg')\n",
    "# create new size of image (image resize process) 100 x 100 pixel\n",
    "new_image = image.resize((100, 100))\n",
    "#save resize output in directory\n",
    "new_image.save(f'{dir_path}Resize/Cacad26_resize.jpg')"
   ]
  },
  {
   "cell_type": "code",
   "execution_count": 30,
   "metadata": {},
   "outputs": [],
   "source": [
    "image = Image.open(f'{dir_path}Image/Cacad27.jpg')\n",
    "# create new size of image (image resize process) 100 x 100 pixel\n",
    "new_image = image.resize((100, 100))\n",
    "#save resize output in directory\n",
    "new_image.save(f'{dir_path}Resize/Cacad27_resize.jpg')"
   ]
  },
  {
   "cell_type": "code",
   "execution_count": 31,
   "metadata": {},
   "outputs": [],
   "source": [
    "image = Image.open(f'{dir_path}Image/Cacad28.jpg')\n",
    "# create new size of image (image resize process) 100 x 100 pixel\n",
    "new_image = image.resize((100, 100))\n",
    "#save resize output in directory\n",
    "new_image.save(f'{dir_path}Resize/Cacad28_resize.jpg')"
   ]
  },
  {
   "cell_type": "code",
   "execution_count": 32,
   "metadata": {},
   "outputs": [],
   "source": [
    "image = Image.open(f'{dir_path}Image/Cacad29.jpg')\n",
    "# create new size of image (image resize process) 100 x 100 pixel\n",
    "new_image = image.resize((100, 100))\n",
    "#save resize output in directory\n",
    "new_image.save(f'{dir_path}Resize/Cacad29_resize.jpg')"
   ]
  },
  {
   "cell_type": "code",
   "execution_count": 33,
   "metadata": {},
   "outputs": [],
   "source": [
    "image = Image.open(f'{dir_path}Image/Cacad30.jpg')\n",
    "# create new size of image (image resize process) 100 x 100 pixel\n",
    "new_image = image.resize((100, 100))\n",
    "#save resize output in directory\n",
    "new_image.save(f'{dir_path}Resize/Cacad30_resize.jpg')"
   ]
  },
  {
   "cell_type": "code",
   "execution_count": 34,
   "metadata": {},
   "outputs": [],
   "source": [
    "image = Image.open(f'{dir_path}Image/Cacad31.jpg')\n",
    "# create new size of image (image resize process) 100 x 100 pixel\n",
    "new_image = image.resize((100, 100))\n",
    "#save resize output in directory\n",
    "new_image.save(f'{dir_path}Resize/Cacad31_resize.jpg')"
   ]
  },
  {
   "cell_type": "code",
   "execution_count": 35,
   "metadata": {},
   "outputs": [],
   "source": [
    "image = Image.open(f'{dir_path}Image/Cacad32.jpg')\n",
    "# create new size of image (image resize process) 100 x 100 pixel\n",
    "new_image = image.resize((100, 100))\n",
    "#save resize output in directory\n",
    "new_image.save(f'{dir_path}Resize/Cacad32_resize.jpg')"
   ]
  },
  {
   "cell_type": "code",
   "execution_count": 36,
   "metadata": {},
   "outputs": [],
   "source": [
    "image = Image.open(f'{dir_path}Image/Cacad33.jpg')\n",
    "# create new size of image (image resize process) 100 x 100 pixel\n",
    "new_image = image.resize((100, 100))\n",
    "#save resize output in directory\n",
    "new_image.save(f'{dir_path}Resize/Cacad33_resize.jpg')"
   ]
  },
  {
   "cell_type": "code",
   "execution_count": 37,
   "metadata": {},
   "outputs": [],
   "source": [
    "image = Image.open(f'{dir_path}Image/Cacad34.jpg')\n",
    "# create new size of image (image resize process) 100 x 100 pixel\n",
    "new_image = image.resize((100, 100))\n",
    "#save resize output in directory\n",
    "new_image.save(f'{dir_path}Resize/Cacad34_resize.jpg')"
   ]
  },
  {
   "cell_type": "code",
   "execution_count": 38,
   "metadata": {},
   "outputs": [],
   "source": [
    "image = Image.open(f'{dir_path}Image/Cacad35.jpg')\n",
    "# create new size of image (image resize process) 100 x 100 pixel\n",
    "new_image = image.resize((100, 100))\n",
    "#save resize output in directory\n",
    "new_image.save(f'{dir_path}Resize/Cacad35_resize.jpg')"
   ]
  },
  {
   "cell_type": "code",
   "execution_count": 39,
   "metadata": {},
   "outputs": [],
   "source": [
    "image = Image.open(f'{dir_path}Image/Cacad36.jpg')\n",
    "# create new size of image (image resize process) 100 x 100 pixel\n",
    "new_image = image.resize((100, 100))\n",
    "#save resize output in directory\n",
    "new_image.save(f'{dir_path}Resize/Cacad36_resize.jpg')"
   ]
  },
  {
   "cell_type": "code",
   "execution_count": 40,
   "metadata": {},
   "outputs": [],
   "source": [
    "image = Image.open(f'{dir_path}Image/Cacad37.jpg')\n",
    "# create new size of image (image resize process) 100 x 100 pixel\n",
    "new_image = image.resize((100, 100))\n",
    "#save resize output in directory\n",
    "new_image.save(f'{dir_path}Resize/Cacad37_resize.jpg')"
   ]
  },
  {
   "cell_type": "code",
   "execution_count": 41,
   "metadata": {},
   "outputs": [],
   "source": [
    "image = Image.open(f'{dir_path}Image/Cacad38.jpg')\n",
    "# create new size of image (image resize process) 100 x 100 pixel\n",
    "new_image = image.resize((100, 100))\n",
    "#save resize output in directory\n",
    "new_image.save(f'{dir_path}Resize/Cacad38_resize.jpg')"
   ]
  },
  {
   "cell_type": "code",
   "execution_count": 42,
   "metadata": {},
   "outputs": [],
   "source": [
    "image = Image.open(f'{dir_path}Image/Cacad39.jpg')\n",
    "# create new size of image (image resize process) 100 x 100 pixel\n",
    "new_image = image.resize((100, 100))\n",
    "#save resize output in directory\n",
    "new_image.save(f'{dir_path}Resize/Cacad39_resize.jpg')"
   ]
  },
  {
   "cell_type": "code",
   "execution_count": 43,
   "metadata": {},
   "outputs": [],
   "source": [
    "image = Image.open(f'{dir_path}Image/Cacad40.jpg')\n",
    "# create new size of image (image resize process) 100 x 100 pixel\n",
    "new_image = image.resize((100, 100))\n",
    "#save resize output in directory\n",
    "new_image.save(f'{dir_path}Resize/Cacad40_resize.jpg')"
   ]
  },
  {
   "cell_type": "code",
   "execution_count": 44,
   "metadata": {},
   "outputs": [],
   "source": [
    "image = Image.open(f'{dir_path}Image/Cacad41.jpg')\n",
    "# create new size of image (image resize process) 100 x 100 pixel\n",
    "new_image = image.resize((100, 100))\n",
    "#save resize output in directory\n",
    "new_image.save(f'{dir_path}Resize/Cacad41_resize.jpg')"
   ]
  },
  {
   "cell_type": "code",
   "execution_count": 45,
   "metadata": {},
   "outputs": [],
   "source": [
    "image = Image.open(f'{dir_path}Image/Cacad42.jpg')\n",
    "# create new size of image (image resize process) 100 x 100 pixel\n",
    "new_image = image.resize((100, 100))\n",
    "#save resize output in directory\n",
    "new_image.save(f'{dir_path}Resize/Cacad42_resize.jpg')"
   ]
  },
  {
   "cell_type": "code",
   "execution_count": 46,
   "metadata": {},
   "outputs": [],
   "source": [
    "image = Image.open(f'{dir_path}Image/Cacad43.jpg')\n",
    "# create new size of image (image resize process) 100 x 100 pixel\n",
    "new_image = image.resize((100, 100))\n",
    "#save resize output in directory\n",
    "new_image.save(f'{dir_path}Resize/Cacad43_resize.jpg')"
   ]
  },
  {
   "cell_type": "code",
   "execution_count": 47,
   "metadata": {},
   "outputs": [],
   "source": [
    "image = Image.open(f'{dir_path}Image/Cacad44.jpg')\n",
    "# create new size of image (image resize process) 100 x 100 pixel\n",
    "new_image = image.resize((100, 100))\n",
    "#save resize output in directory\n",
    "new_image.save(f'{dir_path}Resize/Cacad44_resize.jpg')"
   ]
  },
  {
   "cell_type": "code",
   "execution_count": 48,
   "metadata": {},
   "outputs": [],
   "source": [
    "image = Image.open(f'{dir_path}Image/Cacad45.jpg')\n",
    "# create new size of image (image resize process) 100 x 100 pixel\n",
    "new_image = image.resize((100, 100))\n",
    "#save resize output in directory\n",
    "new_image.save(f'{dir_path}Resize/Cacad45_resize.jpg')"
   ]
  },
  {
   "cell_type": "code",
   "execution_count": 49,
   "metadata": {},
   "outputs": [],
   "source": [
    "image = Image.open(f'{dir_path}Image/Cacad46.jpg')\n",
    "# create new size of image (image resize process) 100 x 100 pixel\n",
    "new_image = image.resize((100, 100))\n",
    "#save resize output in directory\n",
    "new_image.save(f'{dir_path}Resize/Cacad46_resize.jpg')"
   ]
  },
  {
   "cell_type": "code",
   "execution_count": 50,
   "metadata": {},
   "outputs": [],
   "source": [
    "image = Image.open(f'{dir_path}Image/Cacad47.jpg')\n",
    "# create new size of image (image resize process) 100 x 100 pixel\n",
    "new_image = image.resize((100, 100))\n",
    "#save resize output in directory\n",
    "new_image.save(f'{dir_path}Resize/Cacad47_resize.jpg')"
   ]
  },
  {
   "cell_type": "code",
   "execution_count": 51,
   "metadata": {},
   "outputs": [],
   "source": [
    "image = Image.open(f'{dir_path}Image/Cacad48.jpg')\n",
    "# create new size of image (image resize process) 100 x 100 pixel\n",
    "new_image = image.resize((100, 100))\n",
    "#save resize output in directory\n",
    "new_image.save(f'{dir_path}Resize/Cacad48_resize.jpg')"
   ]
  },
  {
   "cell_type": "code",
   "execution_count": 52,
   "metadata": {},
   "outputs": [],
   "source": [
    "image = Image.open(f'{dir_path}Image/Cacad49.jpg')\n",
    "# create new size of image (image resize process) 100 x 100 pixel\n",
    "new_image = image.resize((100, 100))\n",
    "#save resize output in directory\n",
    "new_image.save(f'{dir_path}Resize/Cacad49_resize.jpg')"
   ]
  },
  {
   "cell_type": "code",
   "execution_count": 53,
   "metadata": {},
   "outputs": [],
   "source": [
    "image = Image.open(f'{dir_path}Image/Cacad50.jpg')\n",
    "# create new size of image (image resize process) 100 x 100 pixel\n",
    "new_image = image.resize((100, 100))\n",
    "#save resize output in directory\n",
    "new_image.save(f'{dir_path}Resize/Cacad50_resize.jpg')"
   ]
  },
  {
   "cell_type": "code",
   "execution_count": 54,
   "metadata": {},
   "outputs": [],
   "source": [
    "image = Image.open(f'{dir_path}Image/Cacad51.jpg')\n",
    "# create new size of image (image resize process) 100 x 100 pixel\n",
    "new_image = image.resize((100, 100))\n",
    "#save resize output in directory\n",
    "new_image.save(f'{dir_path}Resize/Cacad51_resize.jpg')"
   ]
  },
  {
   "cell_type": "code",
   "execution_count": 55,
   "metadata": {},
   "outputs": [],
   "source": [
    "image = Image.open(f'{dir_path}Image/Cacad52.jpg')\n",
    "# create new size of image (image resize process) 100 x 100 pixel\n",
    "new_image = image.resize((100, 100))\n",
    "#save resize output in directory\n",
    "new_image.save(f'{dir_path}Resize/Cacad52_resize.jpg')"
   ]
  },
  {
   "cell_type": "code",
   "execution_count": 56,
   "metadata": {},
   "outputs": [],
   "source": [
    "image = Image.open(f'{dir_path}Image/Cacad53.jpg')\n",
    "# create new size of image (image resize process) 100 x 100 pixel\n",
    "new_image = image.resize((100, 100))\n",
    "#save resize output in directory\n",
    "new_image.save(f'{dir_path}Resize/Cacad53_resize.jpg')"
   ]
  },
  {
   "cell_type": "code",
   "execution_count": 57,
   "metadata": {},
   "outputs": [],
   "source": [
    "image = Image.open(f'{dir_path}Image/Cacad54.jpg')\n",
    "# create new size of image (image resize process) 100 x 100 pixel\n",
    "new_image = image.resize((100, 100))\n",
    "#save resize output in directory\n",
    "new_image.save(f'{dir_path}Resize/Cacad54_resize.jpg')"
   ]
  },
  {
   "cell_type": "code",
   "execution_count": 58,
   "metadata": {},
   "outputs": [],
   "source": [
    "image = Image.open(f'{dir_path}Image/Cacad55.jpg')\n",
    "# create new size of image (image resize process) 100 x 100 pixel\n",
    "new_image = image.resize((100, 100))\n",
    "#save resize output in directory\n",
    "new_image.save(f'{dir_path}Resize/Cacad55_resize.jpg')"
   ]
  },
  {
   "cell_type": "code",
   "execution_count": 59,
   "metadata": {},
   "outputs": [],
   "source": [
    "image = Image.open(f'{dir_path}Image/Cacad56.jpg')\n",
    "# create new size of image (image resize process) 100 x 100 pixel\n",
    "new_image = image.resize((100, 100))\n",
    "#save resize output in directory\n",
    "new_image.save(f'{dir_path}Resize/Cacad56_resize.jpg')"
   ]
  },
  {
   "cell_type": "code",
   "execution_count": 60,
   "metadata": {},
   "outputs": [],
   "source": [
    "image = Image.open(f'{dir_path}Image/Cacad57.jpg')\n",
    "# create new size of image (image resize process) 100 x 100 pixel\n",
    "new_image = image.resize((100, 100))\n",
    "#save resize output in directory\n",
    "new_image.save(f'{dir_path}Resize/Cacad57_resize.jpg')"
   ]
  },
  {
   "cell_type": "code",
   "execution_count": 61,
   "metadata": {},
   "outputs": [],
   "source": [
    "image = Image.open(f'{dir_path}Image/Cacad58.jpg')\n",
    "# create new size of image (image resize process) 100 x 100 pixel\n",
    "new_image = image.resize((100, 100))\n",
    "#save resize output in directory\n",
    "new_image.save(f'{dir_path}Resize/Cacad58_resize.jpg')"
   ]
  },
  {
   "cell_type": "code",
   "execution_count": 62,
   "metadata": {},
   "outputs": [],
   "source": [
    "image = Image.open(f'{dir_path}Image/Cacad59.jpg')\n",
    "# create new size of image (image resize process) 100 x 100 pixel\n",
    "new_image = image.resize((100, 100))\n",
    "#save resize output in directory\n",
    "new_image.save(f'{dir_path}Resize/Cacad59_resize.jpg')"
   ]
  },
  {
   "cell_type": "code",
   "execution_count": 63,
   "metadata": {},
   "outputs": [],
   "source": [
    "image = Image.open(f'{dir_path}Image/Cacad60.jpg')\n",
    "# create new size of image (image resize process) 100 x 100 pixel\n",
    "new_image = image.resize((100, 100))\n",
    "#save resize output in directory\n",
    "new_image.save(f'{dir_path}Resize/Cacad60_resize.jpg')"
   ]
  },
  {
   "cell_type": "code",
   "execution_count": 64,
   "metadata": {},
   "outputs": [],
   "source": [
    "image = Image.open(f'{dir_path}Image/Cacad61.jpg')\n",
    "# create new size of image (image resize process) 100 x 100 pixel\n",
    "new_image = image.resize((100, 100))\n",
    "#save resize output in directory\n",
    "new_image.save(f'{dir_path}Resize/Cacad61_resize.jpg')"
   ]
  },
  {
   "cell_type": "code",
   "execution_count": 65,
   "metadata": {},
   "outputs": [],
   "source": [
    "image = Image.open(f'{dir_path}Image/Cacad62.jpg')\n",
    "# create new size of image (image resize process) 100 x 100 pixel\n",
    "new_image = image.resize((100, 100))\n",
    "#save resize output in directory\n",
    "new_image.save(f'{dir_path}Resize/Cacad62_resize.jpg')"
   ]
  },
  {
   "cell_type": "code",
   "execution_count": 66,
   "metadata": {},
   "outputs": [],
   "source": [
    "image = Image.open(f'{dir_path}Image/Cacad63.jpg')\n",
    "# create new size of image (image resize process) 100 x 100 pixel\n",
    "new_image = image.resize((100, 100))\n",
    "#save resize output in directory\n",
    "new_image.save(f'{dir_path}Resize/Cacad63_resize.jpg')"
   ]
  },
  {
   "cell_type": "code",
   "execution_count": 67,
   "metadata": {},
   "outputs": [],
   "source": [
    "image = Image.open(f'{dir_path}Image/Cacad64.jpg')\n",
    "# create new size of image (image resize process) 100 x 100 pixel\n",
    "new_image = image.resize((100, 100))\n",
    "#save resize output in directory\n",
    "new_image.save(f'{dir_path}Resize/Cacad64_resize.jpg')"
   ]
  },
  {
   "cell_type": "code",
   "execution_count": 68,
   "metadata": {},
   "outputs": [],
   "source": [
    "image = Image.open(f'{dir_path}Image/Cacad65.jpg')\n",
    "# create new size of image (image resize process) 100 x 100 pixel\n",
    "new_image = image.resize((100, 100))\n",
    "#save resize output in directory\n",
    "new_image.save(f'{dir_path}Resize/Cacad65_resize.jpg')"
   ]
  },
  {
   "cell_type": "code",
   "execution_count": 69,
   "metadata": {},
   "outputs": [],
   "source": [
    "image = Image.open(f'{dir_path}Image/Cacad66.jpg')\n",
    "# create new size of image (image resize process) 100 x 100 pixel\n",
    "new_image = image.resize((100, 100))\n",
    "#save resize output in directory\n",
    "new_image.save(f'{dir_path}Resize/Cacad66_resize.jpg')"
   ]
  },
  {
   "cell_type": "code",
   "execution_count": 70,
   "metadata": {},
   "outputs": [],
   "source": [
    "image = Image.open(f'{dir_path}Image/Cacad67.jpg')\n",
    "# create new size of image (image resize process) 100 x 100 pixel\n",
    "new_image = image.resize((100, 100))\n",
    "#save resize output in directory\n",
    "new_image.save(f'{dir_path}Resize/Cacad67_resize.jpg')"
   ]
  },
  {
   "cell_type": "code",
   "execution_count": 71,
   "metadata": {},
   "outputs": [],
   "source": [
    "image = Image.open(f'{dir_path}Image/Cacad68.jpg')\n",
    "# create new size of image (image resize process) 100 x 100 pixel\n",
    "new_image = image.resize((100, 100))\n",
    "#save resize output in directory\n",
    "new_image.save(f'{dir_path}Resize/Cacad68_resize.jpg')"
   ]
  },
  {
   "cell_type": "code",
   "execution_count": 72,
   "metadata": {},
   "outputs": [],
   "source": [
    "image = Image.open(f'{dir_path}Image/Cacad69.jpg')\n",
    "# create new size of image (image resize process) 100 x 100 pixel\n",
    "new_image = image.resize((100, 100))\n",
    "#save resize output in directory\n",
    "new_image.save(f'{dir_path}Resize/Cacad69_resize.jpg')"
   ]
  },
  {
   "cell_type": "code",
   "execution_count": 73,
   "metadata": {},
   "outputs": [],
   "source": [
    "image = Image.open(f'{dir_path}Image/Cacad70.jpg')\n",
    "# create new size of image (image resize process) 100 x 100 pixel\n",
    "new_image = image.resize((100, 100))\n",
    "#save resize output in directory\n",
    "new_image.save(f'{dir_path}Resize/Cacad70_resize.jpg')"
   ]
  },
  {
   "cell_type": "code",
   "execution_count": 74,
   "metadata": {},
   "outputs": [],
   "source": [
    "image = Image.open(f'{dir_path}Image/Cacad71.jpg')\n",
    "# create new size of image (image resize process) 100 x 100 pixel\n",
    "new_image = image.resize((100, 100))\n",
    "#save resize output in directory\n",
    "new_image.save(f'{dir_path}Resize/Cacad71_resize.jpg')"
   ]
  },
  {
   "cell_type": "code",
   "execution_count": 75,
   "metadata": {},
   "outputs": [],
   "source": [
    "image = Image.open(f'{dir_path}Image/Cacad72.jpg')\n",
    "# create new size of image (image resize process) 100 x 100 pixel\n",
    "new_image = image.resize((100, 100))\n",
    "#save resize output in directory\n",
    "new_image.save(f'{dir_path}Resize/Cacad72_resize.jpg')"
   ]
  },
  {
   "cell_type": "code",
   "execution_count": 76,
   "metadata": {},
   "outputs": [],
   "source": [
    "image = Image.open(f'{dir_path}Image/Cacad73.jpg')\n",
    "# create new size of image (image resize process) 100 x 100 pixel\n",
    "new_image = image.resize((100, 100))\n",
    "#save resize output in directory\n",
    "new_image.save(f'{dir_path}Resize/Cacad73_resize.jpg')"
   ]
  },
  {
   "cell_type": "code",
   "execution_count": 77,
   "metadata": {},
   "outputs": [],
   "source": [
    "image = Image.open(f'{dir_path}Image/Cacad74.jpg')\n",
    "# create new size of image (image resize process) 100 x 100 pixel\n",
    "new_image = image.resize((100, 100))\n",
    "#save resize output in directory\n",
    "new_image.save(f'{dir_path}Resize/Cacad74_resize.jpg')"
   ]
  },
  {
   "cell_type": "code",
   "execution_count": 78,
   "metadata": {},
   "outputs": [],
   "source": [
    "image = Image.open(f'{dir_path}Image/Cacad75.jpg')\n",
    "# create new size of image (image resize process) 100 x 100 pixel\n",
    "new_image = image.resize((100, 100))\n",
    "#save resize output in directory\n",
    "new_image.save(f'{dir_path}Resize/Cacad75_resize.jpg')"
   ]
  },
  {
   "cell_type": "code",
   "execution_count": 79,
   "metadata": {},
   "outputs": [],
   "source": [
    "image = Image.open(f'{dir_path}Image/Cacad76.jpg')\n",
    "# create new size of image (image resize process) 100 x 100 pixel\n",
    "new_image = image.resize((100, 100))\n",
    "#save resize output in directory\n",
    "new_image.save(f'{dir_path}Resize/Cacad76_resize.jpg')"
   ]
  },
  {
   "cell_type": "code",
   "execution_count": 80,
   "metadata": {},
   "outputs": [],
   "source": [
    "image = Image.open(f'{dir_path}Image/Cacad77.jpg')\n",
    "# create new size of image (image resize process) 100 x 100 pixel\n",
    "new_image = image.resize((100, 100))\n",
    "#save resize output in directory\n",
    "new_image.save(f'{dir_path}Resize/Cacad77_resize.jpg')"
   ]
  },
  {
   "cell_type": "code",
   "execution_count": 81,
   "metadata": {},
   "outputs": [],
   "source": [
    "image = Image.open(f'{dir_path}Image/Cacad78.jpg')\n",
    "# create new size of image (image resize process) 100 x 100 pixel\n",
    "new_image = image.resize((100, 100))\n",
    "#save resize output in directory\n",
    "new_image.save(f'{dir_path}Resize/Cacad78_resize.jpg')"
   ]
  },
  {
   "cell_type": "code",
   "execution_count": 82,
   "metadata": {},
   "outputs": [],
   "source": [
    "image = Image.open(f'{dir_path}Image/Cacad79.jpg')\n",
    "# create new size of image (image resize process) 100 x 100 pixel\n",
    "new_image = image.resize((100, 100))\n",
    "#save resize output in directory\n",
    "new_image.save(f'{dir_path}Resize/Cacad79_resize.jpg')"
   ]
  },
  {
   "cell_type": "code",
   "execution_count": 83,
   "metadata": {},
   "outputs": [],
   "source": [
    "image = Image.open(f'{dir_path}Image/Cacad80.jpg')\n",
    "# create new size of image (image resize process) 100 x 100 pixel\n",
    "new_image = image.resize((100, 100))\n",
    "#save resize output in directory\n",
    "new_image.save(f'{dir_path}Resize/Cacad80_resize.jpg')"
   ]
  },
  {
   "cell_type": "code",
   "execution_count": 84,
   "metadata": {},
   "outputs": [],
   "source": [
    "image = Image.open(f'{dir_path}Image/Cacad81.jpg')\n",
    "# create new size of image (image resize process) 100 x 100 pixel\n",
    "new_image = image.resize((100, 100))\n",
    "#save resize output in directory\n",
    "new_image.save(f'{dir_path}Resize/Cacad81_resize.jpg')"
   ]
  },
  {
   "cell_type": "code",
   "execution_count": 85,
   "metadata": {},
   "outputs": [],
   "source": [
    "image = Image.open(f'{dir_path}Image/Cacad82.jpg')\n",
    "# create new size of image (image resize process) 100 x 100 pixel\n",
    "new_image = image.resize((100, 100))\n",
    "#save resize output in directory\n",
    "new_image.save(f'{dir_path}Resize/Cacad82_resize.jpg')"
   ]
  },
  {
   "cell_type": "code",
   "execution_count": 86,
   "metadata": {},
   "outputs": [],
   "source": [
    "image = Image.open(f'{dir_path}Image/Cacad83.jpg')\n",
    "# create new size of image (image resize process) 100 x 100 pixel\n",
    "new_image = image.resize((100, 100))\n",
    "#save resize output in directory\n",
    "new_image.save(f'{dir_path}Resize/Cacad83_resize.jpg')"
   ]
  },
  {
   "cell_type": "code",
   "execution_count": 87,
   "metadata": {},
   "outputs": [],
   "source": [
    "image = Image.open(f'{dir_path}Image/Cacad84.jpg')\n",
    "# create new size of image (image resize process) 100 x 100 pixel\n",
    "new_image = image.resize((100, 100))\n",
    "#save resize output in directory\n",
    "new_image.save(f'{dir_path}Resize/Cacad84_resize.jpg')"
   ]
  },
  {
   "cell_type": "code",
   "execution_count": 88,
   "metadata": {},
   "outputs": [],
   "source": [
    "image = Image.open(f'{dir_path}Image/Cacad85.jpg')\n",
    "# create new size of image (image resize process) 100 x 100 pixel\n",
    "new_image = image.resize((100, 100))\n",
    "#save resize output in directory\n",
    "new_image.save(f'{dir_path}Resize/Cacad85_resize.jpg')"
   ]
  },
  {
   "cell_type": "code",
   "execution_count": 89,
   "metadata": {},
   "outputs": [],
   "source": [
    "image = Image.open(f'{dir_path}Image/Cacad86.jpg')\n",
    "# create new size of image (image resize process) 100 x 100 pixel\n",
    "new_image = image.resize((100, 100))\n",
    "#save resize output in directory\n",
    "new_image.save(f'{dir_path}Resize/Cacad86_resize.jpg')"
   ]
  },
  {
   "cell_type": "code",
   "execution_count": 90,
   "metadata": {},
   "outputs": [],
   "source": [
    "image = Image.open(f'{dir_path}Image/Cacad87.jpg')\n",
    "# create new size of image (image resize process) 100 x 100 pixel\n",
    "new_image = image.resize((100, 100))\n",
    "#save resize output in directory\n",
    "new_image.save(f'{dir_path}Resize/Cacad87_resize.jpg')"
   ]
  },
  {
   "cell_type": "code",
   "execution_count": 91,
   "metadata": {},
   "outputs": [],
   "source": [
    "image = Image.open(f'{dir_path}Image/Cacad88.jpg')\n",
    "# create new size of image (image resize process) 100 x 100 pixel\n",
    "new_image = image.resize((100, 100))\n",
    "#save resize output in directory\n",
    "new_image.save(f'{dir_path}Resize/Cacad88_resize.jpg')"
   ]
  },
  {
   "cell_type": "code",
   "execution_count": 92,
   "metadata": {},
   "outputs": [],
   "source": [
    "image = Image.open(f'{dir_path}Image/Cacad89.jpg')\n",
    "# create new size of image (image resize process) 100 x 100 pixel\n",
    "new_image = image.resize((100, 100))\n",
    "#save resize output in directory\n",
    "new_image.save(f'{dir_path}Resize/Cacad89_resize.jpg')"
   ]
  },
  {
   "cell_type": "code",
   "execution_count": 93,
   "metadata": {},
   "outputs": [],
   "source": [
    "image = Image.open(f'{dir_path}Image/Cacad90.jpg')\n",
    "# create new size of image (image resize process) 100 x 100 pixel\n",
    "new_image = image.resize((100, 100))\n",
    "#save resize output in directory\n",
    "new_image.save(f'{dir_path}Resize/Cacad90_resize.jpg')"
   ]
  },
  {
   "cell_type": "code",
   "execution_count": 94,
   "metadata": {},
   "outputs": [],
   "source": [
    "image = Image.open(f'{dir_path}Image/Cacad91.jpg')\n",
    "# create new size of image (image resize process) 100 x 100 pixel\n",
    "new_image = image.resize((100, 100))\n",
    "#save resize output in directory\n",
    "new_image.save(f'{dir_path}Resize/Cacad91_resize.jpg')"
   ]
  },
  {
   "cell_type": "code",
   "execution_count": 95,
   "metadata": {},
   "outputs": [],
   "source": [
    "image = Image.open(f'{dir_path}Image/Cacad92.jpg')\n",
    "# create new size of image (image resize process) 100 x 100 pixel\n",
    "new_image = image.resize((100, 100))\n",
    "#save resize output in directory\n",
    "new_image.save(f'{dir_path}Resize/Cacad92_resize.jpg')"
   ]
  },
  {
   "cell_type": "code",
   "execution_count": 96,
   "metadata": {},
   "outputs": [],
   "source": [
    "image = Image.open(f'{dir_path}Image/Cacad93.jpg')\n",
    "# create new size of image (image resize process) 100 x 100 pixel\n",
    "new_image = image.resize((100, 100))\n",
    "#save resize output in directory\n",
    "new_image.save(f'{dir_path}Resize/Cacad93_resize.jpg')"
   ]
  },
  {
   "cell_type": "code",
   "execution_count": 97,
   "metadata": {},
   "outputs": [],
   "source": [
    "image = Image.open(f'{dir_path}Image/Cacad94.jpg')\n",
    "# create new size of image (image resize process) 100 x 100 pixel\n",
    "new_image = image.resize((100, 100))\n",
    "#save resize output in directory\n",
    "new_image.save(f'{dir_path}Resize/Cacad94_resize.jpg')"
   ]
  },
  {
   "cell_type": "code",
   "execution_count": 98,
   "metadata": {},
   "outputs": [],
   "source": [
    "image = Image.open(f'{dir_path}Image/Cacad95.jpg')\n",
    "# create new size of image (image resize process) 100 x 100 pixel\n",
    "new_image = image.resize((100, 100))\n",
    "#save resize output in directory\n",
    "new_image.save(f'{dir_path}Resize/Cacad95_resize.jpg')"
   ]
  },
  {
   "cell_type": "code",
   "execution_count": 99,
   "metadata": {},
   "outputs": [],
   "source": [
    "image = Image.open(f'{dir_path}Image/Cacad96.jpg')\n",
    "# create new size of image (image resize process) 100 x 100 pixel\n",
    "new_image = image.resize((100, 100))\n",
    "#save resize output in directory\n",
    "new_image.save(f'{dir_path}Resize/Cacad96_resize.jpg')"
   ]
  },
  {
   "cell_type": "code",
   "execution_count": 100,
   "metadata": {},
   "outputs": [],
   "source": [
    "image = Image.open(f'{dir_path}Image/Cacad97.jpg')\n",
    "# create new size of image (image resize process) 100 x 100 pixel\n",
    "new_image = image.resize((100, 100))\n",
    "#save resize output in directory\n",
    "new_image.save(f'{dir_path}Resize/Cacad97_resize.jpg')"
   ]
  },
  {
   "cell_type": "code",
   "execution_count": 101,
   "metadata": {},
   "outputs": [],
   "source": [
    "image = Image.open(f'{dir_path}Image/Cacad98.jpg')\n",
    "# create new size of image (image resize process) 100 x 100 pixel\n",
    "new_image = image.resize((100, 100))\n",
    "#save resize output in directory\n",
    "new_image.save(f'{dir_path}Resize/Cacad98_resize.jpg')"
   ]
  },
  {
   "cell_type": "code",
   "execution_count": 102,
   "metadata": {},
   "outputs": [],
   "source": [
    "image = Image.open(f'{dir_path}Image/Cacad99.jpg')\n",
    "# create new size of image (image resize process) 100 x 100 pixel\n",
    "new_image = image.resize((100, 100))\n",
    "#save resize output in directory\n",
    "new_image.save(f'{dir_path}Resize/Cacad99_resize.jpg')"
   ]
  },
  {
   "cell_type": "code",
   "execution_count": 103,
   "metadata": {},
   "outputs": [],
   "source": [
    "image = Image.open(f'{dir_path}Image/Cacad100.jpg')\n",
    "# create new size of image (image resize process) 100 x 100 pixel\n",
    "new_image = image.resize((100, 100))\n",
    "#save resize output in directory\n",
    "new_image.save(f'{dir_path}Resize/Cacad100_resize.jpg')"
   ]
  }
 ],
 "metadata": {
  "kernelspec": {
   "display_name": "Python 3.10.6 64-bit",
   "language": "python",
   "name": "python3"
  },
  "language_info": {
   "codemirror_mode": {
    "name": "ipython",
    "version": 3
   },
   "file_extension": ".py",
   "mimetype": "text/x-python",
   "name": "python",
   "nbconvert_exporter": "python",
   "pygments_lexer": "ipython3",
   "version": "3.10.6"
  },
  "vscode": {
   "interpreter": {
    "hash": "369f2c481f4da34e4445cda3fffd2e751bd1c4d706f27375911949ba6bb62e1c"
   }
  }
 },
 "nbformat": 4,
 "nbformat_minor": 4
}
