{
 "cells": [
  {
   "cell_type": "markdown",
   "metadata": {},
   "source": [
    "# Importing required libraries"
   ]
  },
  {
   "cell_type": "code",
   "execution_count": 4,
   "metadata": {},
   "outputs": [],
   "source": [
    "import cv2\n",
    "import glob\n",
    "import matplotlib.pyplot as plt\n",
    "import os,glob\n",
    "import os\n",
    "from os import listdir,makedirs\n",
    "from os.path import isfile,join\n",
    "import skimage\n",
    "from skimage import data\n",
    "import numpy as np\n",
    "import matplotlib.pyplot as plt\n",
    "%matplotlib inline\n",
    "from PIL import Image\n",
    "\n",
    "dir_path = \"C:/Users/LnData User/Documents/SEMESTER 7/FP SIFON/Coffee Beans Classification/Dataset/Tidak Cacad/\""
   ]
  },
  {
   "cell_type": "markdown",
   "metadata": {},
   "source": [
    "# load and resize 100 images of defective coffee beans"
   ]
  },
  {
   "cell_type": "code",
   "execution_count": 5,
   "metadata": {},
   "outputs": [],
   "source": [
    "image = Image.open(f'{dir_path}Image/Tidak Cacad1.jpg')\n",
    "# create new size of image (image resize process) 100 x 100 pixel\n",
    "new_image = image.resize((100, 100))\n",
    "#save resize output in directory\n",
    "new_image.save(f'{dir_path}Resize/Tidak Cacad1_resize.jpg')"
   ]
  },
  {
   "cell_type": "code",
   "execution_count": 6,
   "metadata": {},
   "outputs": [],
   "source": [
    "image = Image.open(f'{dir_path}Image/Tidak Cacad2.jpg')\n",
    "# create new size of image (image resize process) 100 x 100 pixel\n",
    "new_image = image.resize((100, 100))\n",
    "#save resize output in directory\n",
    "new_image.save(f'{dir_path}Resize/Tidak Cacad2_resize.jpg')"
   ]
  },
  {
   "cell_type": "code",
   "execution_count": 7,
   "metadata": {},
   "outputs": [],
   "source": [
    "image = Image.open(f'{dir_path}Image/Tidak Cacad3.jpg')\n",
    "# create new size of image (image resize process) 100 x 100 pixel\n",
    "new_image = image.resize((100, 100))\n",
    "#save resize output in directory\n",
    "new_image.save(f'{dir_path}Resize/Tidak Cacad3_resize.jpg')"
   ]
  },
  {
   "cell_type": "code",
   "execution_count": 8,
   "metadata": {},
   "outputs": [],
   "source": [
    "image = Image.open(f'{dir_path}Image/Tidak Cacad4.jpg')\n",
    "# create new size of image (image resize process) 100 x 100 pixel\n",
    "new_image = image.resize((100, 100))\n",
    "#save resize output in directory\n",
    "new_image.save(f'{dir_path}Resize/Tidak Cacad4_resize.jpg')"
   ]
  },
  {
   "cell_type": "code",
   "execution_count": 9,
   "metadata": {},
   "outputs": [],
   "source": [
    "image = Image.open(f'{dir_path}Image/Tidak Cacad5.jpg')\n",
    "# create new size of image (image resize process) 100 x 100 pixel\n",
    "new_image = image.resize((100, 100))\n",
    "#save resize output in directory\n",
    "new_image.save(f'{dir_path}Resize/Tidak Cacad5_resize.jpg')"
   ]
  },
  {
   "cell_type": "code",
   "execution_count": 10,
   "metadata": {},
   "outputs": [],
   "source": [
    "image = Image.open(f'{dir_path}Image/Tidak Cacad6.jpg')\n",
    "# create new size of image (image resize process) 100 x 100 pixel\n",
    "new_image = image.resize((100, 100))\n",
    "#save resize output in directory\n",
    "new_image.save(f'{dir_path}Resize/Tidak Cacad6_resize.jpg')"
   ]
  },
  {
   "cell_type": "code",
   "execution_count": 11,
   "metadata": {},
   "outputs": [],
   "source": [
    "image = Image.open(f'{dir_path}Image/Tidak Cacad7.jpg')\n",
    "# create new size of image (image resize process) 100 x 100 pixel\n",
    "new_image = image.resize((100, 100))\n",
    "#save resize output in directory\n",
    "new_image.save(f'{dir_path}Resize/Tidak Cacad7_resize.jpg')"
   ]
  },
  {
   "cell_type": "code",
   "execution_count": 12,
   "metadata": {},
   "outputs": [],
   "source": [
    "image = Image.open(f'{dir_path}Image/Tidak Cacad8.jpg')\n",
    "# create new size of image (image resize process) 100 x 100 pixel\n",
    "new_image = image.resize((100, 100))\n",
    "#save resize output in directory\n",
    "new_image.save(f'{dir_path}Resize/Tidak Cacad8_resize.jpg')"
   ]
  },
  {
   "cell_type": "code",
   "execution_count": 13,
   "metadata": {},
   "outputs": [],
   "source": [
    "image = Image.open(f'{dir_path}Image/Tidak Cacad9.jpg')\n",
    "# create new size of image (image resize process) 100 x 100 pixel\n",
    "new_image = image.resize((100, 100))\n",
    "#save resize output in directory\n",
    "new_image.save(f'{dir_path}Resize/Tidak Cacad9_resize.jpg')"
   ]
  },
  {
   "cell_type": "code",
   "execution_count": 14,
   "metadata": {},
   "outputs": [],
   "source": [
    "image = Image.open(f'{dir_path}Image/Tidak Cacad10.jpg')\n",
    "# create new size of image (image resize process) 100 x 100 pixel\n",
    "new_image = image.resize((100, 100))\n",
    "#save resize output in directory\n",
    "new_image.save(f'{dir_path}Resize/Tidak Cacad10_resize.jpg')"
   ]
  },
  {
   "cell_type": "code",
   "execution_count": 15,
   "metadata": {},
   "outputs": [],
   "source": [
    "image = Image.open(f'{dir_path}Image/Tidak Cacad11.jpg')\n",
    "# create new size of image (image resize process) 100 x 100 pixel\n",
    "new_image = image.resize((100, 100))\n",
    "#save resize output in directory\n",
    "new_image.save(f'{dir_path}Resize/Tidak Cacad11_resize.jpg')"
   ]
  },
  {
   "cell_type": "code",
   "execution_count": 16,
   "metadata": {},
   "outputs": [],
   "source": [
    "image = Image.open(f'{dir_path}Image/Tidak Cacad12.jpg')\n",
    "# create new size of image (image resize process) 100 x 100 pixel\n",
    "new_image = image.resize((100, 100))\n",
    "#save resize output in directory\n",
    "new_image.save(f'{dir_path}Resize/Tidak Cacad12_resize.jpg')"
   ]
  },
  {
   "cell_type": "code",
   "execution_count": 17,
   "metadata": {},
   "outputs": [],
   "source": [
    "image = Image.open(f'{dir_path}Image/Tidak Cacad13.jpg')\n",
    "# create new size of image (image resize process) 100 x 100 pixel\n",
    "new_image = image.resize((100, 100))\n",
    "#save resize output in directory\n",
    "new_image.save(f'{dir_path}Resize/Tidak Cacad13_resize.jpg')"
   ]
  },
  {
   "cell_type": "code",
   "execution_count": 18,
   "metadata": {},
   "outputs": [],
   "source": [
    "image = Image.open(f'{dir_path}Image/Tidak Cacad14.jpg')\n",
    "# create new size of image (image resize process) 100 x 100 pixel\n",
    "new_image = image.resize((100, 100))\n",
    "#save resize output in directory\n",
    "new_image.save(f'{dir_path}Resize/Tidak Cacad14_resize.jpg')"
   ]
  },
  {
   "cell_type": "code",
   "execution_count": 19,
   "metadata": {},
   "outputs": [],
   "source": [
    "image = Image.open(f'{dir_path}Image/Tidak Cacad15.jpg')\n",
    "# create new size of image (image resize process) 100 x 100 pixel\n",
    "new_image = image.resize((100, 100))\n",
    "#save resize output in directory\n",
    "new_image.save(f'{dir_path}Resize/Tidak Cacad15_resize.jpg')"
   ]
  },
  {
   "cell_type": "code",
   "execution_count": 20,
   "metadata": {},
   "outputs": [],
   "source": [
    "image = Image.open(f'{dir_path}Image/Tidak Cacad16.jpg')\n",
    "# create new size of image (image resize process) 100 x 100 pixel\n",
    "new_image = image.resize((100, 100))\n",
    "#save resize output in directory\n",
    "new_image.save(f'{dir_path}Resize/Tidak Cacad16_resize.jpg')"
   ]
  },
  {
   "cell_type": "code",
   "execution_count": 21,
   "metadata": {},
   "outputs": [],
   "source": [
    "image = Image.open(f'{dir_path}Image/Tidak Cacad17.jpg')\n",
    "# create new size of image (image resize process) 100 x 100 pixel\n",
    "new_image = image.resize((100, 100))\n",
    "#save resize output in directory\n",
    "new_image.save(f'{dir_path}Resize/Tidak Cacad17_resize.jpg')"
   ]
  },
  {
   "cell_type": "code",
   "execution_count": 22,
   "metadata": {},
   "outputs": [],
   "source": [
    "image = Image.open(f'{dir_path}Image/Tidak Cacad18.jpg')\n",
    "# create new size of image (image resize process) 100 x 100 pixel\n",
    "new_image = image.resize((100, 100))\n",
    "#save resize output in directory\n",
    "new_image.save(f'{dir_path}Resize/Tidak Cacad18_resize.jpg')"
   ]
  },
  {
   "cell_type": "code",
   "execution_count": 23,
   "metadata": {},
   "outputs": [],
   "source": [
    "image = Image.open(f'{dir_path}Image/Tidak Cacad19.jpg')\n",
    "# create new size of image (image resize process) 100 x 100 pixel\n",
    "new_image = image.resize((100, 100))\n",
    "#save resize output in directory\n",
    "new_image.save(f'{dir_path}Resize/Tidak Cacad19_resize.jpg')"
   ]
  },
  {
   "cell_type": "code",
   "execution_count": 24,
   "metadata": {},
   "outputs": [],
   "source": [
    "image = Image.open(f'{dir_path}Image/Tidak Cacad20.jpg')\n",
    "# create new size of image (image resize process) 100 x 100 pixel\n",
    "new_image = image.resize((100, 100))\n",
    "#save resize output in directory\n",
    "new_image.save(f'{dir_path}Resize/Tidak Cacad20_resize.jpg')"
   ]
  },
  {
   "cell_type": "code",
   "execution_count": 25,
   "metadata": {},
   "outputs": [],
   "source": [
    "image = Image.open(f'{dir_path}Image/Tidak Cacad21.jpg')\n",
    "# create new size of image (image resize process) 100 x 100 pixel\n",
    "new_image = image.resize((100, 100))\n",
    "#save resize output in directory\n",
    "new_image.save(f'{dir_path}Resize/Tidak Cacad21_resize.jpg')"
   ]
  },
  {
   "cell_type": "code",
   "execution_count": 26,
   "metadata": {},
   "outputs": [],
   "source": [
    "image = Image.open(f'{dir_path}Image/Tidak Cacad22.jpg')\n",
    "# create new size of image (image resize process) 100 x 100 pixel\n",
    "new_image = image.resize((100, 100))\n",
    "#save resize output in directory\n",
    "new_image.save(f'{dir_path}Resize/Tidak Cacad22_resize.jpg')"
   ]
  },
  {
   "cell_type": "code",
   "execution_count": 27,
   "metadata": {},
   "outputs": [],
   "source": [
    "image = Image.open(f'{dir_path}Image/Tidak Cacad23.jpg')\n",
    "# create new size of image (image resize process) 100 x 100 pixel\n",
    "new_image = image.resize((100, 100))\n",
    "#save resize output in directory\n",
    "new_image.save(f'{dir_path}Resize/Tidak Cacad23_resize.jpg')"
   ]
  },
  {
   "cell_type": "code",
   "execution_count": 28,
   "metadata": {},
   "outputs": [],
   "source": [
    "image = Image.open(f'{dir_path}Image/Tidak Cacad24.jpg')\n",
    "# create new size of image (image resize process) 100 x 100 pixel\n",
    "new_image = image.resize((100, 100))\n",
    "#save resize output in directory\n",
    "new_image.save(f'{dir_path}Resize/Tidak Cacad24_resize.jpg')"
   ]
  },
  {
   "cell_type": "code",
   "execution_count": 29,
   "metadata": {},
   "outputs": [],
   "source": [
    "image = Image.open(f'{dir_path}Image/Tidak Cacad25.jpg')\n",
    "# create new size of image (image resize process) 100 x 100 pixel\n",
    "new_image = image.resize((100, 100))\n",
    "#save resize output in directory\n",
    "new_image.save(f'{dir_path}Resize/Tidak Cacad25_resize.jpg')"
   ]
  },
  {
   "cell_type": "code",
   "execution_count": 30,
   "metadata": {},
   "outputs": [],
   "source": [
    "image = Image.open(f'{dir_path}Image/Tidak Cacad26.jpg')\n",
    "# create new size of image (image resize process) 100 x 100 pixel\n",
    "new_image = image.resize((100, 100))\n",
    "#save resize output in directory\n",
    "new_image.save(f'{dir_path}Resize/Tidak Cacad26_resize.jpg')"
   ]
  },
  {
   "cell_type": "code",
   "execution_count": 31,
   "metadata": {},
   "outputs": [],
   "source": [
    "image = Image.open(f'{dir_path}Image/Tidak Cacad27.jpg')\n",
    "# create new size of image (image resize process) 100 x 100 pixel\n",
    "new_image = image.resize((100, 100))\n",
    "#save resize output in directory\n",
    "new_image.save(f'{dir_path}Resize/Tidak Cacad27_resize.jpg')"
   ]
  },
  {
   "cell_type": "code",
   "execution_count": 32,
   "metadata": {},
   "outputs": [],
   "source": [
    "image = Image.open(f'{dir_path}Image/Tidak Cacad28.jpg')\n",
    "# create new size of image (image resize process) 100 x 100 pixel\n",
    "new_image = image.resize((100, 100))\n",
    "#save resize output in directory\n",
    "new_image.save(f'{dir_path}Resize/Tidak Cacad28_resize.jpg')"
   ]
  },
  {
   "cell_type": "code",
   "execution_count": 33,
   "metadata": {},
   "outputs": [],
   "source": [
    "image = Image.open(f'{dir_path}Image/Tidak Cacad29.jpg')\n",
    "# create new size of image (image resize process) 100 x 100 pixel\n",
    "new_image = image.resize((100, 100))\n",
    "#save resize output in directory\n",
    "new_image.save(f'{dir_path}Resize/Tidak Cacad29_resize.jpg')"
   ]
  },
  {
   "cell_type": "code",
   "execution_count": 34,
   "metadata": {},
   "outputs": [],
   "source": [
    "image = Image.open(f'{dir_path}Image/Tidak Cacad30.jpg')\n",
    "# create new size of image (image resize process) 100 x 100 pixel\n",
    "new_image = image.resize((100, 100))\n",
    "#save resize output in directory\n",
    "new_image.save(f'{dir_path}Resize/Tidak Cacad30_resize.jpg')"
   ]
  },
  {
   "cell_type": "code",
   "execution_count": 35,
   "metadata": {},
   "outputs": [],
   "source": [
    "image = Image.open(f'{dir_path}Image/Tidak Cacad31.jpg')\n",
    "# create new size of image (image resize process) 100 x 100 pixel\n",
    "new_image = image.resize((100, 100))\n",
    "#save resize output in directory\n",
    "new_image.save(f'{dir_path}Resize/Tidak Cacad31_resize.jpg')"
   ]
  },
  {
   "cell_type": "code",
   "execution_count": 36,
   "metadata": {},
   "outputs": [],
   "source": [
    "image = Image.open(f'{dir_path}Image/Tidak Cacad32.jpg')\n",
    "# create new size of image (image resize process) 100 x 100 pixel\n",
    "new_image = image.resize((100, 100))\n",
    "#save resize output in directory\n",
    "new_image.save(f'{dir_path}Resize/Tidak Cacad32_resize.jpg')"
   ]
  },
  {
   "cell_type": "code",
   "execution_count": 37,
   "metadata": {},
   "outputs": [],
   "source": [
    "image = Image.open(f'{dir_path}Image/Tidak Cacad33.jpg')\n",
    "# create new size of image (image resize process) 100 x 100 pixel\n",
    "new_image = image.resize((100, 100))\n",
    "#save resize output in directory\n",
    "new_image.save(f'{dir_path}Resize/Tidak Cacad33_resize.jpg')"
   ]
  },
  {
   "cell_type": "code",
   "execution_count": 38,
   "metadata": {},
   "outputs": [],
   "source": [
    "image = Image.open(f'{dir_path}Image/Tidak Cacad34.jpg')\n",
    "# create new size of image (image resize process) 100 x 100 pixel\n",
    "new_image = image.resize((100, 100))\n",
    "#save resize output in directory\n",
    "new_image.save(f'{dir_path}Resize/Tidak Cacad34_resize.jpg')"
   ]
  },
  {
   "cell_type": "code",
   "execution_count": 39,
   "metadata": {},
   "outputs": [],
   "source": [
    "image = Image.open(f'{dir_path}Image/Tidak Cacad35.jpg')\n",
    "# create new size of image (image resize process) 100 x 100 pixel\n",
    "new_image = image.resize((100, 100))\n",
    "#save resize output in directory\n",
    "new_image.save(f'{dir_path}Resize/Tidak Cacad35_resize.jpg')"
   ]
  },
  {
   "cell_type": "code",
   "execution_count": 40,
   "metadata": {},
   "outputs": [],
   "source": [
    "image = Image.open(f'{dir_path}Image/Tidak Cacad36.jpg')\n",
    "# create new size of image (image resize process) 100 x 100 pixel\n",
    "new_image = image.resize((100, 100))\n",
    "#save resize output in directory\n",
    "new_image.save(f'{dir_path}Resize/Tidak Cacad36_resize.jpg')"
   ]
  },
  {
   "cell_type": "code",
   "execution_count": 41,
   "metadata": {},
   "outputs": [],
   "source": [
    "image = Image.open(f'{dir_path}Image/Tidak Cacad37.jpg')\n",
    "# create new size of image (image resize process) 100 x 100 pixel\n",
    "new_image = image.resize((100, 100))\n",
    "#save resize output in directory\n",
    "new_image.save(f'{dir_path}Resize/Tidak Cacad37_resize.jpg')"
   ]
  },
  {
   "cell_type": "code",
   "execution_count": 42,
   "metadata": {},
   "outputs": [],
   "source": [
    "image = Image.open(f'{dir_path}Image/Tidak Cacad38.jpg')\n",
    "# create new size of image (image resize process) 100 x 100 pixel\n",
    "new_image = image.resize((100, 100))\n",
    "#save resize output in directory\n",
    "new_image.save(f'{dir_path}Resize/Tidak Cacad38_resize.jpg')"
   ]
  },
  {
   "cell_type": "code",
   "execution_count": 43,
   "metadata": {},
   "outputs": [],
   "source": [
    "image = Image.open(f'{dir_path}Image/Tidak Cacad39.jpg')\n",
    "# create new size of image (image resize process) 100 x 100 pixel\n",
    "new_image = image.resize((100, 100))\n",
    "#save resize output in directory\n",
    "new_image.save(f'{dir_path}Resize/Tidak Cacad39_resize.jpg')"
   ]
  },
  {
   "cell_type": "code",
   "execution_count": 44,
   "metadata": {},
   "outputs": [],
   "source": [
    "image = Image.open(f'{dir_path}Image/Tidak Cacad40.jpg')\n",
    "# create new size of image (image resize process) 100 x 100 pixel\n",
    "new_image = image.resize((100, 100))\n",
    "#save resize output in directory\n",
    "new_image.save(f'{dir_path}Resize/Tidak Cacad40_resize.jpg')"
   ]
  },
  {
   "cell_type": "code",
   "execution_count": 45,
   "metadata": {},
   "outputs": [],
   "source": [
    "image = Image.open(f'{dir_path}Image/Tidak Cacad41.jpg')\n",
    "# create new size of image (image resize process) 100 x 100 pixel\n",
    "new_image = image.resize((100, 100))\n",
    "#save resize output in directory\n",
    "new_image.save(f'{dir_path}Resize/Tidak Cacad41_resize.jpg')"
   ]
  },
  {
   "cell_type": "code",
   "execution_count": 46,
   "metadata": {},
   "outputs": [],
   "source": [
    "image = Image.open(f'{dir_path}Image/Tidak Cacad42.jpg')\n",
    "# create new size of image (image resize process) 100 x 100 pixel\n",
    "new_image = image.resize((100, 100))\n",
    "#save resize output in directory\n",
    "new_image.save(f'{dir_path}Resize/Tidak Cacad42_resize.jpg')"
   ]
  },
  {
   "cell_type": "code",
   "execution_count": 47,
   "metadata": {},
   "outputs": [],
   "source": [
    "image = Image.open(f'{dir_path}Image/Tidak Cacad43.jpg')\n",
    "# create new size of image (image resize process) 100 x 100 pixel\n",
    "new_image = image.resize((100, 100))\n",
    "#save resize output in directory\n",
    "new_image.save(f'{dir_path}Resize/Tidak Cacad43_resize.jpg')"
   ]
  },
  {
   "cell_type": "code",
   "execution_count": 48,
   "metadata": {},
   "outputs": [],
   "source": [
    "image = Image.open(f'{dir_path}Image/Tidak Cacad44.jpg')\n",
    "# create new size of image (image resize process) 100 x 100 pixel\n",
    "new_image = image.resize((100, 100))\n",
    "#save resize output in directory\n",
    "new_image.save(f'{dir_path}Resize/Tidak Cacad44_resize.jpg')"
   ]
  },
  {
   "cell_type": "code",
   "execution_count": 49,
   "metadata": {},
   "outputs": [],
   "source": [
    "image = Image.open(f'{dir_path}Image/Tidak Cacad45.jpg')\n",
    "# create new size of image (image resize process) 100 x 100 pixel\n",
    "new_image = image.resize((100, 100))\n",
    "#save resize output in directory\n",
    "new_image.save(f'{dir_path}Resize/Tidak Cacad45_resize.jpg')"
   ]
  },
  {
   "cell_type": "code",
   "execution_count": 50,
   "metadata": {},
   "outputs": [],
   "source": [
    "image = Image.open(f'{dir_path}Image/Tidak Cacad46.jpg')\n",
    "# create new size of image (image resize process) 100 x 100 pixel\n",
    "new_image = image.resize((100, 100))\n",
    "#save resize output in directory\n",
    "new_image.save(f'{dir_path}Resize/Tidak Cacad46_resize.jpg')"
   ]
  },
  {
   "cell_type": "code",
   "execution_count": 51,
   "metadata": {},
   "outputs": [],
   "source": [
    "image = Image.open(f'{dir_path}Image/Tidak Cacad47.jpg')\n",
    "# create new size of image (image resize process) 100 x 100 pixel\n",
    "new_image = image.resize((100, 100))\n",
    "#save resize output in directory\n",
    "new_image.save(f'{dir_path}Resize/Tidak Cacad47_resize.jpg')"
   ]
  },
  {
   "cell_type": "code",
   "execution_count": 52,
   "metadata": {},
   "outputs": [],
   "source": [
    "image = Image.open(f'{dir_path}Image/Tidak Cacad48.jpg')\n",
    "# create new size of image (image resize process) 100 x 100 pixel\n",
    "new_image = image.resize((100, 100))\n",
    "#save resize output in directory\n",
    "new_image.save(f'{dir_path}Resize/Tidak Cacad48_resize.jpg')"
   ]
  },
  {
   "cell_type": "code",
   "execution_count": 53,
   "metadata": {},
   "outputs": [],
   "source": [
    "image = Image.open(f'{dir_path}Image/Tidak Cacad49.jpg')\n",
    "# create new size of image (image resize process) 100 x 100 pixel\n",
    "new_image = image.resize((100, 100))\n",
    "#save resize output in directory\n",
    "new_image.save(f'{dir_path}Resize/Tidak Cacad49_resize.jpg')"
   ]
  },
  {
   "cell_type": "code",
   "execution_count": 54,
   "metadata": {},
   "outputs": [],
   "source": [
    "image = Image.open(f'{dir_path}Image/Tidak Cacad50.jpg')\n",
    "# create new size of image (image resize process) 100 x 100 pixel\n",
    "new_image = image.resize((100, 100))\n",
    "#save resize output in directory\n",
    "new_image.save(f'{dir_path}Resize/Tidak Cacad50_resize.jpg')"
   ]
  },
  {
   "cell_type": "code",
   "execution_count": 55,
   "metadata": {},
   "outputs": [],
   "source": [
    "image = Image.open(f'{dir_path}Image/Tidak Cacad51.jpg')\n",
    "# create new size of image (image resize process) 100 x 100 pixel\n",
    "new_image = image.resize((100, 100))\n",
    "#save resize output in directory\n",
    "new_image.save(f'{dir_path}Resize/Tidak Cacad51_resize.jpg')"
   ]
  },
  {
   "cell_type": "code",
   "execution_count": 56,
   "metadata": {},
   "outputs": [],
   "source": [
    "image = Image.open(f'{dir_path}Image/Tidak Cacad52.jpg')\n",
    "# create new size of image (image resize process) 100 x 100 pixel\n",
    "new_image = image.resize((100, 100))\n",
    "#save resize output in directory\n",
    "new_image.save(f'{dir_path}Resize/Tidak Cacad52_resize.jpg')"
   ]
  },
  {
   "cell_type": "code",
   "execution_count": 57,
   "metadata": {},
   "outputs": [],
   "source": [
    "image = Image.open(f'{dir_path}Image/Tidak Cacad53.jpg')\n",
    "# create new size of image (image resize process) 100 x 100 pixel\n",
    "new_image = image.resize((100, 100))\n",
    "#save resize output in directory\n",
    "new_image.save(f'{dir_path}Resize/Tidak Cacad53_resize.jpg')"
   ]
  },
  {
   "cell_type": "code",
   "execution_count": 58,
   "metadata": {},
   "outputs": [],
   "source": [
    "image = Image.open(f'{dir_path}Image/Tidak Cacad54.jpg')\n",
    "# create new size of image (image resize process) 100 x 100 pixel\n",
    "new_image = image.resize((100, 100))\n",
    "#save resize output in directory\n",
    "new_image.save(f'{dir_path}Resize/Tidak Cacad54_resize.jpg')"
   ]
  },
  {
   "cell_type": "code",
   "execution_count": 59,
   "metadata": {},
   "outputs": [],
   "source": [
    "image = Image.open(f'{dir_path}Image/Tidak Cacad55.jpg')\n",
    "# create new size of image (image resize process) 100 x 100 pixel\n",
    "new_image = image.resize((100, 100))\n",
    "#save resize output in directory\n",
    "new_image.save(f'{dir_path}Resize/Tidak Cacad55_resize.jpg')"
   ]
  },
  {
   "cell_type": "code",
   "execution_count": 60,
   "metadata": {},
   "outputs": [],
   "source": [
    "image = Image.open(f'{dir_path}Image/Tidak Cacad56.jpg')\n",
    "# create new size of image (image resize process) 100 x 100 pixel\n",
    "new_image = image.resize((100, 100))\n",
    "#save resize output in directory\n",
    "new_image.save(f'{dir_path}Resize/Tidak Cacad56_resize.jpg')"
   ]
  },
  {
   "cell_type": "code",
   "execution_count": 61,
   "metadata": {},
   "outputs": [],
   "source": [
    "image = Image.open(f'{dir_path}Image/Tidak Cacad57.jpg')\n",
    "# create new size of image (image resize process) 100 x 100 pixel\n",
    "new_image = image.resize((100, 100))\n",
    "#save resize output in directory\n",
    "new_image.save(f'{dir_path}Resize/Tidak Cacad57_resize.jpg')"
   ]
  },
  {
   "cell_type": "code",
   "execution_count": 62,
   "metadata": {},
   "outputs": [],
   "source": [
    "image = Image.open(f'{dir_path}Image/Tidak Cacad58.jpg')\n",
    "# create new size of image (image resize process) 100 x 100 pixel\n",
    "new_image = image.resize((100, 100))\n",
    "#save resize output in directory\n",
    "new_image.save(f'{dir_path}Resize/Tidak Cacad58_resize.jpg')"
   ]
  },
  {
   "cell_type": "code",
   "execution_count": 63,
   "metadata": {},
   "outputs": [],
   "source": [
    "image = Image.open(f'{dir_path}Image/Tidak Cacad59.jpg')\n",
    "# create new size of image (image resize process) 100 x 100 pixel\n",
    "new_image = image.resize((100, 100))\n",
    "#save resize output in directory\n",
    "new_image.save(f'{dir_path}Resize/Tidak Cacad59_resize.jpg')"
   ]
  },
  {
   "cell_type": "code",
   "execution_count": 64,
   "metadata": {},
   "outputs": [],
   "source": [
    "image = Image.open(f'{dir_path}Image/Tidak Cacad60.jpg')\n",
    "# create new size of image (image resize process) 100 x 100 pixel\n",
    "new_image = image.resize((100, 100))\n",
    "#save resize output in directory\n",
    "new_image.save(f'{dir_path}Resize/Tidak Cacad60_resize.jpg')"
   ]
  },
  {
   "cell_type": "code",
   "execution_count": 65,
   "metadata": {},
   "outputs": [],
   "source": [
    "image = Image.open(f'{dir_path}Image/Tidak Cacad61.jpg')\n",
    "# create new size of image (image resize process) 100 x 100 pixel\n",
    "new_image = image.resize((100, 100))\n",
    "#save resize output in directory\n",
    "new_image.save(f'{dir_path}Resize/Tidak Cacad61_resize.jpg')"
   ]
  },
  {
   "cell_type": "code",
   "execution_count": 66,
   "metadata": {},
   "outputs": [],
   "source": [
    "image = Image.open(f'{dir_path}Image/Tidak Cacad62.jpg')\n",
    "# create new size of image (image resize process) 100 x 100 pixel\n",
    "new_image = image.resize((100, 100))\n",
    "#save resize output in directory\n",
    "new_image.save(f'{dir_path}Resize/Tidak Cacad62_resize.jpg')"
   ]
  },
  {
   "cell_type": "code",
   "execution_count": 67,
   "metadata": {},
   "outputs": [],
   "source": [
    "image = Image.open(f'{dir_path}Image/Tidak Cacad63.jpg')\n",
    "# create new size of image (image resize process) 100 x 100 pixel\n",
    "new_image = image.resize((100, 100))\n",
    "#save resize output in directory\n",
    "new_image.save(f'{dir_path}Resize/Tidak Cacad63_resize.jpg')"
   ]
  },
  {
   "cell_type": "code",
   "execution_count": 68,
   "metadata": {},
   "outputs": [],
   "source": [
    "image = Image.open(f'{dir_path}Image/Tidak Cacad64.jpg')\n",
    "# create new size of image (image resize process) 100 x 100 pixel\n",
    "new_image = image.resize((100, 100))\n",
    "#save resize output in directory\n",
    "new_image.save(f'{dir_path}Resize/Tidak Cacad64_resize.jpg')"
   ]
  },
  {
   "cell_type": "code",
   "execution_count": 69,
   "metadata": {},
   "outputs": [],
   "source": [
    "image = Image.open(f'{dir_path}Image/Tidak Cacad65.jpg')\n",
    "# create new size of image (image resize process) 100 x 100 pixel\n",
    "new_image = image.resize((100, 100))\n",
    "#save resize output in directory\n",
    "new_image.save(f'{dir_path}Resize/Tidak Cacad65_resize.jpg')"
   ]
  },
  {
   "cell_type": "code",
   "execution_count": 70,
   "metadata": {},
   "outputs": [],
   "source": [
    "image = Image.open(f'{dir_path}Image/Tidak Cacad66.jpg')\n",
    "# create new size of image (image resize process) 100 x 100 pixel\n",
    "new_image = image.resize((100, 100))\n",
    "#save resize output in directory\n",
    "new_image.save(f'{dir_path}Resize/Tidak Cacad66_resize.jpg')"
   ]
  },
  {
   "cell_type": "code",
   "execution_count": 71,
   "metadata": {},
   "outputs": [],
   "source": [
    "image = Image.open(f'{dir_path}Image/Tidak Cacad67.jpg')\n",
    "# create new size of image (image resize process) 100 x 100 pixel\n",
    "new_image = image.resize((100, 100))\n",
    "#save resize output in directory\n",
    "new_image.save(f'{dir_path}Resize/Tidak Cacad67_resize.jpg')"
   ]
  },
  {
   "cell_type": "code",
   "execution_count": 72,
   "metadata": {},
   "outputs": [],
   "source": [
    "image = Image.open(f'{dir_path}Image/Tidak Cacad68.jpg')\n",
    "# create new size of image (image resize process) 100 x 100 pixel\n",
    "new_image = image.resize((100, 100))\n",
    "#save resize output in directory\n",
    "new_image.save(f'{dir_path}Resize/Tidak Cacad68_resize.jpg')"
   ]
  },
  {
   "cell_type": "code",
   "execution_count": 73,
   "metadata": {},
   "outputs": [],
   "source": [
    "image = Image.open(f'{dir_path}Image/Tidak Cacad69.jpg')\n",
    "# create new size of image (image resize process) 100 x 100 pixel\n",
    "new_image = image.resize((100, 100))\n",
    "#save resize output in directory\n",
    "new_image.save(f'{dir_path}Resize/Tidak Cacad69_resize.jpg')"
   ]
  },
  {
   "cell_type": "code",
   "execution_count": 74,
   "metadata": {},
   "outputs": [],
   "source": [
    "image = Image.open(f'{dir_path}Image/Tidak Cacad70.jpg')\n",
    "# create new size of image (image resize process) 100 x 100 pixel\n",
    "new_image = image.resize((100, 100))\n",
    "#save resize output in directory\n",
    "new_image.save(f'{dir_path}Resize/Tidak Cacad70_resize.jpg')"
   ]
  },
  {
   "cell_type": "code",
   "execution_count": 75,
   "metadata": {},
   "outputs": [],
   "source": [
    "image = Image.open(f'{dir_path}Image/Tidak Cacad71.jpg')\n",
    "# create new size of image (image resize process) 100 x 100 pixel\n",
    "new_image = image.resize((100, 100))\n",
    "#save resize output in directory\n",
    "new_image.save(f'{dir_path}Resize/Tidak Cacad71_resize.jpg')"
   ]
  },
  {
   "cell_type": "code",
   "execution_count": 76,
   "metadata": {},
   "outputs": [],
   "source": [
    "image = Image.open(f'{dir_path}Image/Tidak Cacad72.jpg')\n",
    "# create new size of image (image resize process) 100 x 100 pixel\n",
    "new_image = image.resize((100, 100))\n",
    "#save resize output in directory\n",
    "new_image.save(f'{dir_path}Resize/Tidak Cacad72_resize.jpg')"
   ]
  },
  {
   "cell_type": "code",
   "execution_count": 77,
   "metadata": {},
   "outputs": [],
   "source": [
    "image = Image.open(f'{dir_path}Image/Tidak Cacad73.jpg')\n",
    "# create new size of image (image resize process) 100 x 100 pixel\n",
    "new_image = image.resize((100, 100))\n",
    "#save resize output in directory\n",
    "new_image.save(f'{dir_path}Resize/Tidak Cacad73_resize.jpg')"
   ]
  },
  {
   "cell_type": "code",
   "execution_count": 78,
   "metadata": {},
   "outputs": [],
   "source": [
    "image = Image.open(f'{dir_path}Image/Tidak Cacad74.jpg')\n",
    "# create new size of image (image resize process) 100 x 100 pixel\n",
    "new_image = image.resize((100, 100))\n",
    "#save resize output in directory\n",
    "new_image.save(f'{dir_path}Resize/Tidak Cacad74_resize.jpg')"
   ]
  },
  {
   "cell_type": "code",
   "execution_count": 79,
   "metadata": {},
   "outputs": [],
   "source": [
    "image = Image.open(f'{dir_path}Image/Tidak Cacad75.jpg')\n",
    "# create new size of image (image resize process) 100 x 100 pixel\n",
    "new_image = image.resize((100, 100))\n",
    "#save resize output in directory\n",
    "new_image.save(f'{dir_path}Resize/Tidak Cacad75_resize.jpg')"
   ]
  },
  {
   "cell_type": "code",
   "execution_count": 80,
   "metadata": {},
   "outputs": [],
   "source": [
    "image = Image.open(f'{dir_path}Image/Tidak Cacad76.jpg')\n",
    "# create new size of image (image resize process) 100 x 100 pixel\n",
    "new_image = image.resize((100, 100))\n",
    "#save resize output in directory\n",
    "new_image.save(f'{dir_path}Resize/Tidak Cacad76_resize.jpg')"
   ]
  },
  {
   "cell_type": "code",
   "execution_count": 81,
   "metadata": {},
   "outputs": [],
   "source": [
    "image = Image.open(f'{dir_path}Image/Tidak Cacad77.jpg')\n",
    "# create new size of image (image resize process) 100 x 100 pixel\n",
    "new_image = image.resize((100, 100))\n",
    "#save resize output in directory\n",
    "new_image.save(f'{dir_path}Resize/Tidak Cacad77_resize.jpg')"
   ]
  },
  {
   "cell_type": "code",
   "execution_count": 82,
   "metadata": {},
   "outputs": [],
   "source": [
    "image = Image.open(f'{dir_path}Image/Tidak Cacad78.jpg')\n",
    "# create new size of image (image resize process) 100 x 100 pixel\n",
    "new_image = image.resize((100, 100))\n",
    "#save resize output in directory\n",
    "new_image.save(f'{dir_path}Resize/Tidak Cacad78_resize.jpg')"
   ]
  },
  {
   "cell_type": "code",
   "execution_count": 83,
   "metadata": {},
   "outputs": [],
   "source": [
    "image = Image.open(f'{dir_path}Image/Tidak Cacad79.jpg')\n",
    "# create new size of image (image resize process) 100 x 100 pixel\n",
    "new_image = image.resize((100, 100))\n",
    "#save resize output in directory\n",
    "new_image.save(f'{dir_path}Resize/Tidak Cacad79_resize.jpg')"
   ]
  },
  {
   "cell_type": "code",
   "execution_count": 84,
   "metadata": {},
   "outputs": [],
   "source": [
    "image = Image.open(f'{dir_path}Image/Tidak Cacad80.jpg')\n",
    "# create new size of image (image resize process) 100 x 100 pixel\n",
    "new_image = image.resize((100, 100))\n",
    "#save resize output in directory\n",
    "new_image.save(f'{dir_path}Resize/Tidak Cacad80_resize.jpg')"
   ]
  },
  {
   "cell_type": "code",
   "execution_count": 85,
   "metadata": {},
   "outputs": [],
   "source": [
    "image = Image.open(f'{dir_path}Image/Tidak Cacad81.jpg')\n",
    "# create new size of image (image resize process) 100 x 100 pixel\n",
    "new_image = image.resize((100, 100))\n",
    "#save resize output in directory\n",
    "new_image.save(f'{dir_path}Resize/Tidak Cacad81_resize.jpg')"
   ]
  },
  {
   "cell_type": "code",
   "execution_count": 86,
   "metadata": {},
   "outputs": [],
   "source": [
    "image = Image.open(f'{dir_path}Image/Tidak Cacad82.jpg')\n",
    "# create new size of image (image resize process) 100 x 100 pixel\n",
    "new_image = image.resize((100, 100))\n",
    "#save resize output in directory\n",
    "new_image.save(f'{dir_path}Resize/Tidak Cacad82_resize.jpg')"
   ]
  },
  {
   "cell_type": "code",
   "execution_count": 87,
   "metadata": {},
   "outputs": [],
   "source": [
    "image = Image.open(f'{dir_path}Image/Tidak Cacad83.jpg')\n",
    "# create new size of image (image resize process) 100 x 100 pixel\n",
    "new_image = image.resize((100, 100))\n",
    "#save resize output in directory\n",
    "new_image.save(f'{dir_path}Resize/Tidak Cacad83_resize.jpg')"
   ]
  },
  {
   "cell_type": "code",
   "execution_count": 88,
   "metadata": {},
   "outputs": [],
   "source": [
    "image = Image.open(f'{dir_path}Image/Tidak Cacad84.jpg')\n",
    "# create new size of image (image resize process) 100 x 100 pixel\n",
    "new_image = image.resize((100, 100))\n",
    "#save resize output in directory\n",
    "new_image.save(f'{dir_path}Resize/Tidak Cacad84_resize.jpg')"
   ]
  },
  {
   "cell_type": "code",
   "execution_count": 89,
   "metadata": {},
   "outputs": [],
   "source": [
    "image = Image.open(f'{dir_path}Image/Tidak Cacad85.jpg')\n",
    "# create new size of image (image resize process) 100 x 100 pixel\n",
    "new_image = image.resize((100, 100))\n",
    "#save resize output in directory\n",
    "new_image.save(f'{dir_path}Resize/Tidak Cacad85_resize.jpg')"
   ]
  },
  {
   "cell_type": "code",
   "execution_count": 90,
   "metadata": {},
   "outputs": [],
   "source": [
    "image = Image.open(f'{dir_path}Image/Tidak Cacad86.jpg')\n",
    "# create new size of image (image resize process) 100 x 100 pixel\n",
    "new_image = image.resize((100, 100))\n",
    "#save resize output in directory\n",
    "new_image.save(f'{dir_path}Resize/Tidak Cacad86_resize.jpg')"
   ]
  },
  {
   "cell_type": "code",
   "execution_count": 91,
   "metadata": {},
   "outputs": [],
   "source": [
    "image = Image.open(f'{dir_path}Image/Tidak Cacad87.jpg')\n",
    "# create new size of image (image resize process) 100 x 100 pixel\n",
    "new_image = image.resize((100, 100))\n",
    "#save resize output in directory\n",
    "new_image.save(f'{dir_path}Resize/Tidak Cacad87_resize.jpg')"
   ]
  },
  {
   "cell_type": "code",
   "execution_count": 92,
   "metadata": {},
   "outputs": [],
   "source": [
    "image = Image.open(f'{dir_path}Image/Tidak Cacad88.jpg')\n",
    "# create new size of image (image resize process) 100 x 100 pixel\n",
    "new_image = image.resize((100, 100))\n",
    "#save resize output in directory\n",
    "new_image.save(f'{dir_path}Resize/Tidak Cacad88_resize.jpg')"
   ]
  },
  {
   "cell_type": "code",
   "execution_count": 93,
   "metadata": {},
   "outputs": [],
   "source": [
    "image = Image.open(f'{dir_path}Image/Tidak Cacad89.jpg')\n",
    "# create new size of image (image resize process) 100 x 100 pixel\n",
    "new_image = image.resize((100, 100))\n",
    "#save resize output in directory\n",
    "new_image.save(f'{dir_path}Resize/Tidak Cacad89_resize.jpg')"
   ]
  },
  {
   "cell_type": "code",
   "execution_count": 94,
   "metadata": {},
   "outputs": [],
   "source": [
    "image = Image.open(f'{dir_path}Image/Tidak Cacad90.jpg')\n",
    "# create new size of image (image resize process) 100 x 100 pixel\n",
    "new_image = image.resize((100, 100))\n",
    "#save resize output in directory\n",
    "new_image.save(f'{dir_path}Resize/Tidak Cacad90_resize.jpg')"
   ]
  },
  {
   "cell_type": "code",
   "execution_count": 95,
   "metadata": {},
   "outputs": [],
   "source": [
    "image = Image.open(f'{dir_path}Image/Tidak Cacad91.jpg')\n",
    "# create new size of image (image resize process) 100 x 100 pixel\n",
    "new_image = image.resize((100, 100))\n",
    "#save resize output in directory\n",
    "new_image.save(f'{dir_path}Resize/Tidak Cacad91_resize.jpg')"
   ]
  },
  {
   "cell_type": "code",
   "execution_count": 96,
   "metadata": {},
   "outputs": [],
   "source": [
    "image = Image.open(f'{dir_path}Image/Tidak Cacad92.jpg')\n",
    "# create new size of image (image resize process) 100 x 100 pixel\n",
    "new_image = image.resize((100, 100))\n",
    "#save resize output in directory\n",
    "new_image.save(f'{dir_path}Resize/Tidak Cacad92_resize.jpg')"
   ]
  },
  {
   "cell_type": "code",
   "execution_count": 97,
   "metadata": {},
   "outputs": [],
   "source": [
    "image = Image.open(f'{dir_path}Image/Tidak Cacad93.jpg')\n",
    "# create new size of image (image resize process) 100 x 100 pixel\n",
    "new_image = image.resize((100, 100))\n",
    "#save resize output in directory\n",
    "new_image.save(f'{dir_path}Resize/Tidak Cacad93_resize.jpg')"
   ]
  },
  {
   "cell_type": "code",
   "execution_count": 98,
   "metadata": {},
   "outputs": [],
   "source": [
    "image = Image.open(f'{dir_path}Image/Tidak Cacad94.jpg')\n",
    "# create new size of image (image resize process) 100 x 100 pixel\n",
    "new_image = image.resize((100, 100))\n",
    "#save resize output in directory\n",
    "new_image.save(f'{dir_path}Resize/Tidak Cacad94_resize.jpg')"
   ]
  },
  {
   "cell_type": "code",
   "execution_count": 99,
   "metadata": {},
   "outputs": [],
   "source": [
    "image = Image.open(f'{dir_path}Image/Tidak Cacad95.jpg')\n",
    "# create new size of image (image resize process) 100 x 100 pixel\n",
    "new_image = image.resize((100, 100))\n",
    "#save resize output in directory\n",
    "new_image.save(f'{dir_path}Resize/Tidak Cacad95_resize.jpg')"
   ]
  },
  {
   "cell_type": "code",
   "execution_count": 100,
   "metadata": {},
   "outputs": [],
   "source": [
    "image = Image.open(f'{dir_path}Image/Tidak Cacad96.jpg')\n",
    "# create new size of image (image resize process) 100 x 100 pixel\n",
    "new_image = image.resize((100, 100))\n",
    "#save resize output in directory\n",
    "new_image.save(f'{dir_path}Resize/Tidak Cacad96_resize.jpg')"
   ]
  },
  {
   "cell_type": "code",
   "execution_count": 101,
   "metadata": {},
   "outputs": [],
   "source": [
    "image = Image.open(f'{dir_path}Image/Tidak Cacad97.jpg')\n",
    "# create new size of image (image resize process) 100 x 100 pixel\n",
    "new_image = image.resize((100, 100))\n",
    "#save resize output in directory\n",
    "new_image.save(f'{dir_path}Resize/Tidak Cacad97_resize.jpg')"
   ]
  },
  {
   "cell_type": "code",
   "execution_count": 102,
   "metadata": {},
   "outputs": [],
   "source": [
    "image = Image.open(f'{dir_path}Image/Tidak Cacad98.jpg')\n",
    "# create new size of image (image resize process) 100 x 100 pixel\n",
    "new_image = image.resize((100, 100))\n",
    "#save resize output in directory\n",
    "new_image.save(f'{dir_path}Resize/Tidak Cacad98_resize.jpg')"
   ]
  },
  {
   "cell_type": "code",
   "execution_count": 103,
   "metadata": {},
   "outputs": [],
   "source": [
    "image = Image.open(f'{dir_path}Image/Tidak Cacad99.jpg')\n",
    "# create new size of image (image resize process) 100 x 100 pixel\n",
    "new_image = image.resize((100, 100))\n",
    "#save resize output in directory\n",
    "new_image.save(f'{dir_path}Resize/Tidak Cacad99_resize.jpg')"
   ]
  },
  {
   "cell_type": "code",
   "execution_count": 104,
   "metadata": {},
   "outputs": [],
   "source": [
    "image = Image.open(f'{dir_path}Image/Tidak Cacad100.jpg')\n",
    "# create new size of image (image resize process) 100 x 100 pixel\n",
    "new_image = image.resize((100, 100))\n",
    "#save resize output in directory\n",
    "new_image.save(f'{dir_path}Resize/Tidak Cacad100_resize.jpg')"
   ]
  }
 ],
 "metadata": {
  "kernelspec": {
   "display_name": "Python 3.10.6 64-bit",
   "language": "python",
   "name": "python3"
  },
  "language_info": {
   "codemirror_mode": {
    "name": "ipython",
    "version": 3
   },
   "file_extension": ".py",
   "mimetype": "text/x-python",
   "name": "python",
   "nbconvert_exporter": "python",
   "pygments_lexer": "ipython3",
   "version": "3.10.6"
  },
  "vscode": {
   "interpreter": {
    "hash": "369f2c481f4da34e4445cda3fffd2e751bd1c4d706f27375911949ba6bb62e1c"
   }
  }
 },
 "nbformat": 4,
 "nbformat_minor": 4
}
