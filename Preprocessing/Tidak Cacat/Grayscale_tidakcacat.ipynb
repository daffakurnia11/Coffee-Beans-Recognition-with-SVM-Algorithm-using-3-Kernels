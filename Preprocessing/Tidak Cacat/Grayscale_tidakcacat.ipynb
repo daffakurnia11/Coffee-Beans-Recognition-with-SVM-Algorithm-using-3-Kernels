{
 "cells": [
  {
   "cell_type": "markdown",
   "metadata": {},
   "source": [
    "# importing required libraries"
   ]
  },
  {
   "cell_type": "code",
   "execution_count": 1,
   "metadata": {},
   "outputs": [],
   "source": [
    "import cv2\n",
    "import glob\n",
    "import matplotlib.pyplot as plt\n",
    "import os,glob\n",
    "import os\n",
    "from os import listdir,makedirs\n",
    "from os.path import isfile,join\n",
    "import skimage\n",
    "from skimage import data\n",
    "import numpy as np\n",
    "import matplotlib.pyplot as plt\n",
    "%matplotlib inline\n",
    "from PIL import Image\n",
    "\n",
    "dir_path = \"C:/Users/LnData User/Documents/SEMESTER 7/FP SIFON/Coffee Beans Classification/Dataset/Tidak Cacad/\""
   ]
  },
  {
   "cell_type": "markdown",
   "metadata": {},
   "source": [
    "# load and implement grayscale to all image"
   ]
  },
  {
   "cell_type": "code",
   "execution_count": 2,
   "metadata": {},
   "outputs": [],
   "source": [
    "# convert image into grayscale\n",
    "image = Image.open(f'{dir_path}Transparent/Tidak Cacad_transparent1.png')\n",
    "greyscale_image = image.convert('L')\n",
    "greyscale_image.save(f'{dir_path}Grayscale/Tidak Cacad1_grayscale.png')"
   ]
  },
  {
   "cell_type": "code",
   "execution_count": 3,
   "metadata": {},
   "outputs": [],
   "source": [
    "# convert image into grayscale\n",
    "image = Image.open(f'{dir_path}Transparent/Tidak Cacad_transparent2.png')\n",
    "greyscale_image = image.convert('L')\n",
    "greyscale_image.save(f'{dir_path}Grayscale/Tidak Cacad2_grayscale.png')"
   ]
  },
  {
   "cell_type": "code",
   "execution_count": 4,
   "metadata": {},
   "outputs": [],
   "source": [
    "# convert image into grayscale\n",
    "image = Image.open(f'{dir_path}Transparent/Tidak Cacad_transparent3.png')\n",
    "greyscale_image = image.convert('L')\n",
    "greyscale_image.save(f'{dir_path}Grayscale/Tidak Cacad3_grayscale.png')"
   ]
  },
  {
   "cell_type": "code",
   "execution_count": 5,
   "metadata": {},
   "outputs": [],
   "source": [
    "# convert image into grayscale\n",
    "image = Image.open(f'{dir_path}Transparent/Tidak Cacad_transparent4.png')\n",
    "greyscale_image = image.convert('L')\n",
    "greyscale_image.save(f'{dir_path}Grayscale/Tidak Cacad4_grayscale.png')"
   ]
  },
  {
   "cell_type": "code",
   "execution_count": 6,
   "metadata": {},
   "outputs": [],
   "source": [
    "# convert image into grayscale\n",
    "image = Image.open(f'{dir_path}Transparent/Tidak Cacad_transparent5.png')\n",
    "greyscale_image = image.convert('L')\n",
    "greyscale_image.save(f'{dir_path}Grayscale/Tidak Cacad5_grayscale.png')"
   ]
  },
  {
   "cell_type": "code",
   "execution_count": 7,
   "metadata": {},
   "outputs": [],
   "source": [
    "# convert image into grayscale\n",
    "image = Image.open(f'{dir_path}Transparent/Tidak Cacad_transparent6.png')\n",
    "greyscale_image = image.convert('L')\n",
    "greyscale_image.save(f'{dir_path}Grayscale/Tidak Cacad6_grayscale.png')"
   ]
  },
  {
   "cell_type": "code",
   "execution_count": 8,
   "metadata": {},
   "outputs": [],
   "source": [
    "# convert image into grayscale\n",
    "image = Image.open(f'{dir_path}Transparent/Tidak Cacad_transparent7.png')\n",
    "greyscale_image = image.convert('L')\n",
    "greyscale_image.save(f'{dir_path}Grayscale/Tidak Cacad7_grayscale.png')"
   ]
  },
  {
   "cell_type": "code",
   "execution_count": 9,
   "metadata": {},
   "outputs": [],
   "source": [
    "# convert image into grayscale\n",
    "image = Image.open(f'{dir_path}Transparent/Tidak Cacad_transparent8.png')\n",
    "greyscale_image = image.convert('L')\n",
    "greyscale_image.save(f'{dir_path}Grayscale/Tidak Cacad8_grayscale.png')"
   ]
  },
  {
   "cell_type": "code",
   "execution_count": 10,
   "metadata": {},
   "outputs": [],
   "source": [
    "# convert image into grayscale\n",
    "image = Image.open(f'{dir_path}Transparent/Tidak Cacad_transparent9.png')\n",
    "greyscale_image = image.convert('L')\n",
    "greyscale_image.save(f'{dir_path}Grayscale/Tidak Cacad9_grayscale.png')"
   ]
  },
  {
   "cell_type": "code",
   "execution_count": 11,
   "metadata": {},
   "outputs": [],
   "source": [
    "# convert image into grayscale\n",
    "image = Image.open(f'{dir_path}Transparent/Tidak Cacad_transparent10.png')\n",
    "greyscale_image = image.convert('L')\n",
    "greyscale_image.save(f'{dir_path}Grayscale/Tidak Cacad10_grayscale.png')"
   ]
  },
  {
   "cell_type": "code",
   "execution_count": 12,
   "metadata": {},
   "outputs": [],
   "source": [
    "# convert image into grayscale\n",
    "image = Image.open(f'{dir_path}Transparent/Tidak Cacad_transparent11.png')\n",
    "greyscale_image = image.convert('L')\n",
    "greyscale_image.save(f'{dir_path}Grayscale/Tidak Cacad11_grayscale.png')"
   ]
  },
  {
   "cell_type": "code",
   "execution_count": 13,
   "metadata": {},
   "outputs": [],
   "source": [
    "# convert image into grayscale\n",
    "image = Image.open(f'{dir_path}Transparent/Tidak Cacad_transparent12.png')\n",
    "greyscale_image = image.convert('L')\n",
    "greyscale_image.save(f'{dir_path}Grayscale/Tidak Cacad12_grayscale.png')"
   ]
  },
  {
   "cell_type": "code",
   "execution_count": 14,
   "metadata": {},
   "outputs": [],
   "source": [
    "# convert image into grayscale\n",
    "image = Image.open(f'{dir_path}Transparent/Tidak Cacad_transparent13.png')\n",
    "greyscale_image = image.convert('L')\n",
    "greyscale_image.save(f'{dir_path}Grayscale/Tidak Cacad13_grayscale.png')"
   ]
  },
  {
   "cell_type": "code",
   "execution_count": 15,
   "metadata": {},
   "outputs": [],
   "source": [
    "# convert image into grayscale\n",
    "image = Image.open(f'{dir_path}Transparent/Tidak Cacad_transparent14.png')\n",
    "greyscale_image = image.convert('L')\n",
    "greyscale_image.save(f'{dir_path}Grayscale/Tidak Cacad14_grayscale.png')"
   ]
  },
  {
   "cell_type": "code",
   "execution_count": 16,
   "metadata": {},
   "outputs": [],
   "source": [
    "# convert image into grayscale\n",
    "image = Image.open(f'{dir_path}Transparent/Tidak Cacad_transparent15.png')\n",
    "greyscale_image = image.convert('L')\n",
    "greyscale_image.save(f'{dir_path}Grayscale/Tidak Cacad15_grayscale.png')"
   ]
  },
  {
   "cell_type": "code",
   "execution_count": 17,
   "metadata": {},
   "outputs": [],
   "source": [
    "# convert image into grayscale\n",
    "image = Image.open(f'{dir_path}Transparent/Tidak Cacad_transparent16.png')\n",
    "greyscale_image = image.convert('L')\n",
    "greyscale_image.save(f'{dir_path}Grayscale/Tidak Cacad16_grayscale.png')"
   ]
  },
  {
   "cell_type": "code",
   "execution_count": 18,
   "metadata": {},
   "outputs": [],
   "source": [
    "# convert image into grayscale\n",
    "image = Image.open(f'{dir_path}Transparent/Tidak Cacad_transparent17.png')\n",
    "greyscale_image = image.convert('L')\n",
    "greyscale_image.save(f'{dir_path}Grayscale/Tidak Cacad17_grayscale.png')"
   ]
  },
  {
   "cell_type": "code",
   "execution_count": 19,
   "metadata": {},
   "outputs": [],
   "source": [
    "# convert image into grayscale\n",
    "image = Image.open(f'{dir_path}Transparent/Tidak Cacad_transparent18.png')\n",
    "greyscale_image = image.convert('L')\n",
    "greyscale_image.save(f'{dir_path}Grayscale/Tidak Cacad18_grayscale.png')"
   ]
  },
  {
   "cell_type": "code",
   "execution_count": 20,
   "metadata": {},
   "outputs": [],
   "source": [
    "# convert image into grayscale\n",
    "image = Image.open(f'{dir_path}Transparent/Tidak Cacad_transparent19.png')\n",
    "greyscale_image = image.convert('L')\n",
    "greyscale_image.save(f'{dir_path}Grayscale/Tidak Cacad19_grayscale.png')"
   ]
  },
  {
   "cell_type": "code",
   "execution_count": 21,
   "metadata": {},
   "outputs": [],
   "source": [
    "# convert image into grayscale\n",
    "image = Image.open(f'{dir_path}Transparent/Tidak Cacad_transparent20.png')\n",
    "greyscale_image = image.convert('L')\n",
    "greyscale_image.save(f'{dir_path}Grayscale/Tidak Cacad20_grayscale.png')"
   ]
  },
  {
   "cell_type": "code",
   "execution_count": 22,
   "metadata": {},
   "outputs": [],
   "source": [
    "# convert image into grayscale\n",
    "image = Image.open(f'{dir_path}Transparent/Tidak Cacad_transparent21.png')\n",
    "greyscale_image = image.convert('L')\n",
    "greyscale_image.save(f'{dir_path}Grayscale/Tidak Cacad21_grayscale.png')"
   ]
  },
  {
   "cell_type": "code",
   "execution_count": 23,
   "metadata": {},
   "outputs": [],
   "source": [
    "# convert image into grayscale\n",
    "image = Image.open(f'{dir_path}Transparent/Tidak Cacad_transparent22.png')\n",
    "greyscale_image = image.convert('L')\n",
    "greyscale_image.save(f'{dir_path}Grayscale/Tidak Cacad22_grayscale.png')"
   ]
  },
  {
   "cell_type": "code",
   "execution_count": 24,
   "metadata": {},
   "outputs": [],
   "source": [
    "# convert image into grayscale\n",
    "image = Image.open(f'{dir_path}Transparent/Tidak Cacad_transparent23.png')\n",
    "greyscale_image = image.convert('L')\n",
    "greyscale_image.save(f'{dir_path}Grayscale/Tidak Cacad23_grayscale.png')"
   ]
  },
  {
   "cell_type": "code",
   "execution_count": 25,
   "metadata": {},
   "outputs": [],
   "source": [
    "# convert image into grayscale\n",
    "image = Image.open(f'{dir_path}Transparent/Tidak Cacad_transparent24.png')\n",
    "greyscale_image = image.convert('L')\n",
    "greyscale_image.save(f'{dir_path}Grayscale/Tidak Cacad24_grayscale.png')"
   ]
  },
  {
   "cell_type": "code",
   "execution_count": 26,
   "metadata": {},
   "outputs": [],
   "source": [
    "# convert image into grayscale\n",
    "image = Image.open(f'{dir_path}Transparent/Tidak Cacad_transparent25.png')\n",
    "greyscale_image = image.convert('L')\n",
    "greyscale_image.save(f'{dir_path}Grayscale/Tidak Cacad25_grayscale.png')"
   ]
  },
  {
   "cell_type": "code",
   "execution_count": 27,
   "metadata": {},
   "outputs": [],
   "source": [
    "# convert image into grayscale\n",
    "image = Image.open(f'{dir_path}Transparent/Tidak Cacad_transparent26.png')\n",
    "greyscale_image = image.convert('L')\n",
    "greyscale_image.save(f'{dir_path}Grayscale/Tidak Cacad26_grayscale.png')"
   ]
  },
  {
   "cell_type": "code",
   "execution_count": 28,
   "metadata": {},
   "outputs": [],
   "source": [
    "# convert image into grayscale\n",
    "image = Image.open(f'{dir_path}Transparent/Tidak Cacad_transparent27.png')\n",
    "greyscale_image = image.convert('L')\n",
    "greyscale_image.save(f'{dir_path}Grayscale/Tidak Cacad27_grayscale.png')"
   ]
  },
  {
   "cell_type": "code",
   "execution_count": 29,
   "metadata": {},
   "outputs": [],
   "source": [
    "# convert image into grayscale\n",
    "image = Image.open(f'{dir_path}Transparent/Tidak Cacad_transparent28.png')\n",
    "greyscale_image = image.convert('L')\n",
    "greyscale_image.save(f'{dir_path}Grayscale/Tidak Cacad28_grayscale.png')"
   ]
  },
  {
   "cell_type": "code",
   "execution_count": 30,
   "metadata": {},
   "outputs": [],
   "source": [
    "# convert image into grayscale\n",
    "image = Image.open(f'{dir_path}Transparent/Tidak Cacad_transparent29.png')\n",
    "greyscale_image = image.convert('L')\n",
    "greyscale_image.save(f'{dir_path}Grayscale/Tidak Cacad29_grayscale.png')"
   ]
  },
  {
   "cell_type": "code",
   "execution_count": 31,
   "metadata": {},
   "outputs": [],
   "source": [
    "# convert image into grayscale\n",
    "image = Image.open(f'{dir_path}Transparent/Tidak Cacad_transparent30.png')\n",
    "greyscale_image = image.convert('L')\n",
    "greyscale_image.save(f'{dir_path}Grayscale/Tidak Cacad30_grayscale.png')"
   ]
  },
  {
   "cell_type": "code",
   "execution_count": 32,
   "metadata": {},
   "outputs": [],
   "source": [
    "# convert image into grayscale\n",
    "image = Image.open(f'{dir_path}Transparent/Tidak Cacad_transparent31.png')\n",
    "greyscale_image = image.convert('L')\n",
    "greyscale_image.save(f'{dir_path}Grayscale/Tidak Cacad31_grayscale.png')"
   ]
  },
  {
   "cell_type": "code",
   "execution_count": 33,
   "metadata": {},
   "outputs": [],
   "source": [
    "# convert image into grayscale\n",
    "image = Image.open(f'{dir_path}Transparent/Tidak Cacad_transparent32.png')\n",
    "greyscale_image = image.convert('L')\n",
    "greyscale_image.save(f'{dir_path}Grayscale/Tidak Cacad32_grayscale.png')"
   ]
  },
  {
   "cell_type": "code",
   "execution_count": 34,
   "metadata": {},
   "outputs": [],
   "source": [
    "# convert image into grayscale\n",
    "image = Image.open(f'{dir_path}Transparent/Tidak Cacad_transparent33.png')\n",
    "greyscale_image = image.convert('L')\n",
    "greyscale_image.save(f'{dir_path}Grayscale/Tidak Cacad33_grayscale.png')"
   ]
  },
  {
   "cell_type": "code",
   "execution_count": 35,
   "metadata": {},
   "outputs": [],
   "source": [
    "# convert image into grayscale\n",
    "image = Image.open(f'{dir_path}Transparent/Tidak Cacad_transparent34.png')\n",
    "greyscale_image = image.convert('L')\n",
    "greyscale_image.save(f'{dir_path}Grayscale/Tidak Cacad34_grayscale.png')"
   ]
  },
  {
   "cell_type": "code",
   "execution_count": 36,
   "metadata": {},
   "outputs": [],
   "source": [
    "# convert image into grayscale\n",
    "image = Image.open(f'{dir_path}Transparent/Tidak Cacad_transparent35.png')\n",
    "greyscale_image = image.convert('L')\n",
    "greyscale_image.save(f'{dir_path}Grayscale/Tidak Cacad35_grayscale.png')"
   ]
  },
  {
   "cell_type": "code",
   "execution_count": 37,
   "metadata": {},
   "outputs": [],
   "source": [
    "# convert image into grayscale\n",
    "image = Image.open(f'{dir_path}Transparent/Tidak Cacad_transparent36.png')\n",
    "greyscale_image = image.convert('L')\n",
    "greyscale_image.save(f'{dir_path}Grayscale/Tidak Cacad36_grayscale.png')"
   ]
  },
  {
   "cell_type": "code",
   "execution_count": 38,
   "metadata": {},
   "outputs": [],
   "source": [
    "# convert image into grayscale\n",
    "image = Image.open(f'{dir_path}Transparent/Tidak Cacad_transparent37.png')\n",
    "greyscale_image = image.convert('L')\n",
    "greyscale_image.save(f'{dir_path}Grayscale/Tidak Cacad37_grayscale.png')"
   ]
  },
  {
   "cell_type": "code",
   "execution_count": 39,
   "metadata": {},
   "outputs": [],
   "source": [
    "# convert image into grayscale\n",
    "image = Image.open(f'{dir_path}Transparent/Tidak Cacad_transparent38.png')\n",
    "greyscale_image = image.convert('L')\n",
    "greyscale_image.save(f'{dir_path}Grayscale/Tidak Cacad38_grayscale.png')"
   ]
  },
  {
   "cell_type": "code",
   "execution_count": 40,
   "metadata": {},
   "outputs": [],
   "source": [
    "# convert image into grayscale\n",
    "image = Image.open(f'{dir_path}Transparent/Tidak Cacad_transparent39.png')\n",
    "greyscale_image = image.convert('L')\n",
    "greyscale_image.save(f'{dir_path}Grayscale/Tidak Cacad39_grayscale.png')"
   ]
  },
  {
   "cell_type": "code",
   "execution_count": 41,
   "metadata": {},
   "outputs": [],
   "source": [
    "# convert image into grayscale\n",
    "image = Image.open(f'{dir_path}Transparent/Tidak Cacad_transparent40.png')\n",
    "greyscale_image = image.convert('L')\n",
    "greyscale_image.save(f'{dir_path}Grayscale/Tidak Cacad40_grayscale.png')"
   ]
  },
  {
   "cell_type": "code",
   "execution_count": 42,
   "metadata": {},
   "outputs": [],
   "source": [
    "# convert image into grayscale\n",
    "image = Image.open(f'{dir_path}Transparent/Tidak Cacad_transparent41.png')\n",
    "greyscale_image = image.convert('L')\n",
    "greyscale_image.save(f'{dir_path}Grayscale/Tidak Cacad41_grayscale.png')"
   ]
  },
  {
   "cell_type": "code",
   "execution_count": 43,
   "metadata": {},
   "outputs": [],
   "source": [
    "# convert image into grayscale\n",
    "image = Image.open(f'{dir_path}Transparent/Tidak Cacad_transparent42.png')\n",
    "greyscale_image = image.convert('L')\n",
    "greyscale_image.save(f'{dir_path}Grayscale/Tidak Cacad42_grayscale.png')"
   ]
  },
  {
   "cell_type": "code",
   "execution_count": 44,
   "metadata": {},
   "outputs": [],
   "source": [
    "# convert image into grayscale\n",
    "image = Image.open(f'{dir_path}Transparent/Tidak Cacad_transparent43.png')\n",
    "greyscale_image = image.convert('L')\n",
    "greyscale_image.save(f'{dir_path}Grayscale/Tidak Cacad43_grayscale.png')"
   ]
  },
  {
   "cell_type": "code",
   "execution_count": 45,
   "metadata": {},
   "outputs": [],
   "source": [
    "# convert image into grayscale\n",
    "image = Image.open(f'{dir_path}Transparent/Tidak Cacad_transparent44.png')\n",
    "greyscale_image = image.convert('L')\n",
    "greyscale_image.save(f'{dir_path}Grayscale/Tidak Cacad44_grayscale.png')"
   ]
  },
  {
   "cell_type": "code",
   "execution_count": 46,
   "metadata": {},
   "outputs": [],
   "source": [
    "# convert image into grayscale\n",
    "image = Image.open(f'{dir_path}Transparent/Tidak Cacad_transparent45.png')\n",
    "greyscale_image = image.convert('L')\n",
    "greyscale_image.save(f'{dir_path}Grayscale/Tidak Cacad45_grayscale.png')"
   ]
  },
  {
   "cell_type": "code",
   "execution_count": 47,
   "metadata": {},
   "outputs": [],
   "source": [
    "# convert image into grayscale\n",
    "image = Image.open(f'{dir_path}Transparent/Tidak Cacad_transparent46.png')\n",
    "greyscale_image = image.convert('L')\n",
    "greyscale_image.save(f'{dir_path}Grayscale/Tidak Cacad46_grayscale.png')"
   ]
  },
  {
   "cell_type": "code",
   "execution_count": 48,
   "metadata": {},
   "outputs": [],
   "source": [
    "# convert image into grayscale\n",
    "image = Image.open(f'{dir_path}Transparent/Tidak Cacad_transparent47.png')\n",
    "greyscale_image = image.convert('L')\n",
    "greyscale_image.save(f'{dir_path}Grayscale/Tidak Cacad47_grayscale.png')"
   ]
  },
  {
   "cell_type": "code",
   "execution_count": 49,
   "metadata": {},
   "outputs": [],
   "source": [
    "# convert image into grayscale\n",
    "image = Image.open(f'{dir_path}Transparent/Tidak Cacad_transparent48.png')\n",
    "greyscale_image = image.convert('L')\n",
    "greyscale_image.save(f'{dir_path}Grayscale/Tidak Cacad48_grayscale.png')"
   ]
  },
  {
   "cell_type": "code",
   "execution_count": 50,
   "metadata": {},
   "outputs": [],
   "source": [
    "# convert image into grayscale\n",
    "image = Image.open(f'{dir_path}Transparent/Tidak Cacad_transparent49.png')\n",
    "greyscale_image = image.convert('L')\n",
    "greyscale_image.save(f'{dir_path}Grayscale/Tidak Cacad49_grayscale.png')"
   ]
  },
  {
   "cell_type": "code",
   "execution_count": 51,
   "metadata": {},
   "outputs": [],
   "source": [
    "# convert image into grayscale\n",
    "image = Image.open(f'{dir_path}Transparent/Tidak Cacad_transparent50.png')\n",
    "greyscale_image = image.convert('L')\n",
    "greyscale_image.save(f'{dir_path}Grayscale/Tidak Cacad50_grayscale.png')"
   ]
  },
  {
   "cell_type": "code",
   "execution_count": 52,
   "metadata": {},
   "outputs": [],
   "source": [
    "# convert image into grayscale\n",
    "image = Image.open(f'{dir_path}Transparent/Tidak Cacad_transparent51.png')\n",
    "greyscale_image = image.convert('L')\n",
    "greyscale_image.save(f'{dir_path}Grayscale/Tidak Cacad51_grayscale.png')"
   ]
  },
  {
   "cell_type": "code",
   "execution_count": 53,
   "metadata": {},
   "outputs": [],
   "source": [
    "# convert image into grayscale\n",
    "image = Image.open(f'{dir_path}Transparent/Tidak Cacad_transparent52.png')\n",
    "greyscale_image = image.convert('L')\n",
    "greyscale_image.save(f'{dir_path}Grayscale/Tidak Cacad52_grayscale.png')"
   ]
  },
  {
   "cell_type": "code",
   "execution_count": 54,
   "metadata": {},
   "outputs": [],
   "source": [
    "# convert image into grayscale\n",
    "image = Image.open(f'{dir_path}Transparent/Tidak Cacad_transparent53.png')\n",
    "greyscale_image = image.convert('L')\n",
    "greyscale_image.save(f'{dir_path}Grayscale/Tidak Cacad53_grayscale.png')"
   ]
  },
  {
   "cell_type": "code",
   "execution_count": 55,
   "metadata": {},
   "outputs": [],
   "source": [
    "# convert image into grayscale\n",
    "image = Image.open(f'{dir_path}Transparent/Tidak Cacad_transparent54.png')\n",
    "greyscale_image = image.convert('L')\n",
    "greyscale_image.save(f'{dir_path}Grayscale/Tidak Cacad54_grayscale.png')"
   ]
  },
  {
   "cell_type": "code",
   "execution_count": 56,
   "metadata": {},
   "outputs": [],
   "source": [
    "# convert image into grayscale\n",
    "image = Image.open(f'{dir_path}Transparent/Tidak Cacad_transparent55.png')\n",
    "greyscale_image = image.convert('L')\n",
    "greyscale_image.save(f'{dir_path}Grayscale/Tidak Cacad55_grayscale.png')"
   ]
  },
  {
   "cell_type": "code",
   "execution_count": 57,
   "metadata": {},
   "outputs": [],
   "source": [
    "# convert image into grayscale\n",
    "image = Image.open(f'{dir_path}Transparent/Tidak Cacad_transparent56.png')\n",
    "greyscale_image = image.convert('L')\n",
    "greyscale_image.save(f'{dir_path}Grayscale/Tidak Cacad56_grayscale.png')"
   ]
  },
  {
   "cell_type": "code",
   "execution_count": 58,
   "metadata": {},
   "outputs": [],
   "source": [
    "# convert image into grayscale\n",
    "image = Image.open(f'{dir_path}Transparent/Tidak Cacad_transparent57.png')\n",
    "greyscale_image = image.convert('L')\n",
    "greyscale_image.save(f'{dir_path}Grayscale/Tidak Cacad57_grayscale.png')"
   ]
  },
  {
   "cell_type": "code",
   "execution_count": 59,
   "metadata": {},
   "outputs": [],
   "source": [
    "# convert image into grayscale\n",
    "image = Image.open(f'{dir_path}Transparent/Tidak Cacad_transparent58.png')\n",
    "greyscale_image = image.convert('L')\n",
    "greyscale_image.save(f'{dir_path}Grayscale/Tidak Cacad58_grayscale.png')"
   ]
  },
  {
   "cell_type": "code",
   "execution_count": 60,
   "metadata": {},
   "outputs": [],
   "source": [
    "# convert image into grayscale\n",
    "image = Image.open(f'{dir_path}Transparent/Tidak Cacad_transparent59.png')\n",
    "greyscale_image = image.convert('L')\n",
    "greyscale_image.save(f'{dir_path}Grayscale/Tidak Cacad59_grayscale.png')"
   ]
  },
  {
   "cell_type": "code",
   "execution_count": 61,
   "metadata": {},
   "outputs": [],
   "source": [
    "# convert image into grayscale\n",
    "image = Image.open(f'{dir_path}Transparent/Tidak Cacad_transparent60.png')\n",
    "greyscale_image = image.convert('L')\n",
    "greyscale_image.save(f'{dir_path}Grayscale/Tidak Cacad60_grayscale.png')"
   ]
  },
  {
   "cell_type": "code",
   "execution_count": 62,
   "metadata": {},
   "outputs": [],
   "source": [
    "# convert image into grayscale\n",
    "image = Image.open(f'{dir_path}Transparent/Tidak Cacad_transparent61.png')\n",
    "greyscale_image = image.convert('L')\n",
    "greyscale_image.save(f'{dir_path}Grayscale/Tidak Cacad61_grayscale.png')"
   ]
  },
  {
   "cell_type": "code",
   "execution_count": 63,
   "metadata": {},
   "outputs": [],
   "source": [
    "# convert image into grayscale\n",
    "image = Image.open(f'{dir_path}Transparent/Tidak Cacad_transparent62.png')\n",
    "greyscale_image = image.convert('L')\n",
    "greyscale_image.save(f'{dir_path}Grayscale/Tidak Cacad62_grayscale.png')"
   ]
  },
  {
   "cell_type": "code",
   "execution_count": 64,
   "metadata": {},
   "outputs": [],
   "source": [
    "# convert image into grayscale\n",
    "image = Image.open(f'{dir_path}Transparent/Tidak Cacad_transparent63.png')\n",
    "greyscale_image = image.convert('L')\n",
    "greyscale_image.save(f'{dir_path}Grayscale/Tidak Cacad63_grayscale.png')"
   ]
  },
  {
   "cell_type": "code",
   "execution_count": 65,
   "metadata": {},
   "outputs": [],
   "source": [
    "# convert image into grayscale\n",
    "image = Image.open(f'{dir_path}Transparent/Tidak Cacad_transparent64.png')\n",
    "greyscale_image = image.convert('L')\n",
    "greyscale_image.save(f'{dir_path}Grayscale/Tidak Cacad64_grayscale.png')"
   ]
  },
  {
   "cell_type": "code",
   "execution_count": 66,
   "metadata": {},
   "outputs": [],
   "source": [
    "# convert image into grayscale\n",
    "image = Image.open(f'{dir_path}Transparent/Tidak Cacad_transparent65.png')\n",
    "greyscale_image = image.convert('L')\n",
    "greyscale_image.save(f'{dir_path}Grayscale/Tidak Cacad65_grayscale.png')"
   ]
  },
  {
   "cell_type": "code",
   "execution_count": 67,
   "metadata": {},
   "outputs": [],
   "source": [
    "# convert image into grayscale\n",
    "image = Image.open(f'{dir_path}Transparent/Tidak Cacad_transparent66.png')\n",
    "greyscale_image = image.convert('L')\n",
    "greyscale_image.save(f'{dir_path}Grayscale/Tidak Cacad66_grayscale.png')"
   ]
  },
  {
   "cell_type": "code",
   "execution_count": 68,
   "metadata": {},
   "outputs": [],
   "source": [
    "# convert image into grayscale\n",
    "image = Image.open(f'{dir_path}Transparent/Tidak Cacad_transparent67.png')\n",
    "greyscale_image = image.convert('L')\n",
    "greyscale_image.save(f'{dir_path}Grayscale/Tidak Cacad67_grayscale.png')"
   ]
  },
  {
   "cell_type": "code",
   "execution_count": 69,
   "metadata": {},
   "outputs": [],
   "source": [
    "# convert image into grayscale\n",
    "image = Image.open(f'{dir_path}Transparent/Tidak Cacad_transparent68.png')\n",
    "greyscale_image = image.convert('L')\n",
    "greyscale_image.save(f'{dir_path}Grayscale/Tidak Cacad68_grayscale.png')"
   ]
  },
  {
   "cell_type": "code",
   "execution_count": 70,
   "metadata": {},
   "outputs": [],
   "source": [
    "# convert image into grayscale\n",
    "image = Image.open(f'{dir_path}Transparent/Tidak Cacad_transparent69.png')\n",
    "greyscale_image = image.convert('L')\n",
    "greyscale_image.save(f'{dir_path}Grayscale/Tidak Cacad69_grayscale.png')"
   ]
  },
  {
   "cell_type": "code",
   "execution_count": 71,
   "metadata": {},
   "outputs": [],
   "source": [
    "# convert image into grayscale\n",
    "image = Image.open(f'{dir_path}Transparent/Tidak Cacad_transparent70.png')\n",
    "greyscale_image = image.convert('L')\n",
    "greyscale_image.save(f'{dir_path}Grayscale/Tidak Cacad70_grayscale.png')"
   ]
  },
  {
   "cell_type": "code",
   "execution_count": 72,
   "metadata": {},
   "outputs": [],
   "source": [
    "# convert image into grayscale\n",
    "image = Image.open(f'{dir_path}Transparent/Tidak Cacad_transparent71.png')\n",
    "greyscale_image = image.convert('L')\n",
    "greyscale_image.save(f'{dir_path}Grayscale/Tidak Cacad71_grayscale.png')"
   ]
  },
  {
   "cell_type": "code",
   "execution_count": 73,
   "metadata": {},
   "outputs": [],
   "source": [
    "# convert image into grayscale\n",
    "image = Image.open(f'{dir_path}Transparent/Tidak Cacad_transparent72.png')\n",
    "greyscale_image = image.convert('L')\n",
    "greyscale_image.save(f'{dir_path}Grayscale/Tidak Cacad72_grayscale.png')"
   ]
  },
  {
   "cell_type": "code",
   "execution_count": 74,
   "metadata": {},
   "outputs": [],
   "source": [
    "# convert image into grayscale\n",
    "image = Image.open(f'{dir_path}Transparent/Tidak Cacad_transparent73.png')\n",
    "greyscale_image = image.convert('L')\n",
    "greyscale_image.save(f'{dir_path}Grayscale/Tidak Cacad73_grayscale.png')"
   ]
  },
  {
   "cell_type": "code",
   "execution_count": 75,
   "metadata": {},
   "outputs": [],
   "source": [
    "# convert image into grayscale\n",
    "image = Image.open(f'{dir_path}Transparent/Tidak Cacad_transparent74.png')\n",
    "greyscale_image = image.convert('L')\n",
    "greyscale_image.save(f'{dir_path}Grayscale/Tidak Cacad74_grayscale.png')"
   ]
  },
  {
   "cell_type": "code",
   "execution_count": 76,
   "metadata": {},
   "outputs": [],
   "source": [
    "# convert image into grayscale\n",
    "image = Image.open(f'{dir_path}Transparent/Tidak Cacad_transparent75.png')\n",
    "greyscale_image = image.convert('L')\n",
    "greyscale_image.save(f'{dir_path}Grayscale/Tidak Cacad75_grayscale.png')"
   ]
  },
  {
   "cell_type": "code",
   "execution_count": 77,
   "metadata": {},
   "outputs": [],
   "source": [
    "# convert image into grayscale\n",
    "image = Image.open(f'{dir_path}Transparent/Tidak Cacad_transparent76.png')\n",
    "greyscale_image = image.convert('L')\n",
    "greyscale_image.save(f'{dir_path}Grayscale/Tidak Cacad76_grayscale.png')"
   ]
  },
  {
   "cell_type": "code",
   "execution_count": 78,
   "metadata": {},
   "outputs": [],
   "source": [
    "# convert image into grayscale\n",
    "image = Image.open(f'{dir_path}Transparent/Tidak Cacad_transparent77.png')\n",
    "greyscale_image = image.convert('L')\n",
    "greyscale_image.save(f'{dir_path}Grayscale/Tidak Cacad77_grayscale.png')"
   ]
  },
  {
   "cell_type": "code",
   "execution_count": 79,
   "metadata": {},
   "outputs": [],
   "source": [
    "# convert image into grayscale\n",
    "image = Image.open(f'{dir_path}Transparent/Tidak Cacad_transparent78.png')\n",
    "greyscale_image = image.convert('L')\n",
    "greyscale_image.save(f'{dir_path}Grayscale/Tidak Cacad78_grayscale.png')"
   ]
  },
  {
   "cell_type": "code",
   "execution_count": 80,
   "metadata": {},
   "outputs": [],
   "source": [
    "# convert image into grayscale\n",
    "image = Image.open(f'{dir_path}Transparent/Tidak Cacad_transparent79.png')\n",
    "greyscale_image = image.convert('L')\n",
    "greyscale_image.save(f'{dir_path}Grayscale/Tidak Cacad79_grayscale.png')"
   ]
  },
  {
   "cell_type": "code",
   "execution_count": 81,
   "metadata": {},
   "outputs": [],
   "source": [
    "# convert image into grayscale\n",
    "image = Image.open(f'{dir_path}Transparent/Tidak Cacad_transparent80.png')\n",
    "greyscale_image = image.convert('L')\n",
    "greyscale_image.save(f'{dir_path}Grayscale/Tidak Cacad80_grayscale.png')"
   ]
  },
  {
   "cell_type": "code",
   "execution_count": 82,
   "metadata": {},
   "outputs": [],
   "source": [
    "# convert image into grayscale\n",
    "image = Image.open(f'{dir_path}Transparent/Tidak Cacad_transparent81.png')\n",
    "greyscale_image = image.convert('L')\n",
    "greyscale_image.save(f'{dir_path}Grayscale/Tidak Cacad81_grayscale.png')"
   ]
  },
  {
   "cell_type": "code",
   "execution_count": 83,
   "metadata": {},
   "outputs": [],
   "source": [
    "# convert image into grayscale\n",
    "image = Image.open(f'{dir_path}Transparent/Tidak Cacad_transparent82.png')\n",
    "greyscale_image = image.convert('L')\n",
    "greyscale_image.save(f'{dir_path}Grayscale/Tidak Cacad82_grayscale.png')"
   ]
  },
  {
   "cell_type": "code",
   "execution_count": 84,
   "metadata": {},
   "outputs": [],
   "source": [
    "# convert image into grayscale\n",
    "image = Image.open(f'{dir_path}Transparent/Tidak Cacad_transparent83.png')\n",
    "greyscale_image = image.convert('L')\n",
    "greyscale_image.save(f'{dir_path}Grayscale/Tidak Cacad83_grayscale.png')"
   ]
  },
  {
   "cell_type": "code",
   "execution_count": 85,
   "metadata": {},
   "outputs": [],
   "source": [
    "# convert image into grayscale\n",
    "image = Image.open(f'{dir_path}Transparent/Tidak Cacad_transparent84.png')\n",
    "greyscale_image = image.convert('L')\n",
    "greyscale_image.save(f'{dir_path}Grayscale/Tidak Cacad84_grayscale.png')"
   ]
  },
  {
   "cell_type": "code",
   "execution_count": 86,
   "metadata": {},
   "outputs": [],
   "source": [
    "# convert image into grayscale\n",
    "image = Image.open(f'{dir_path}Transparent/Tidak Cacad_transparent85.png')\n",
    "greyscale_image = image.convert('L')\n",
    "greyscale_image.save(f'{dir_path}Grayscale/Tidak Cacad85_grayscale.png')"
   ]
  },
  {
   "cell_type": "code",
   "execution_count": 87,
   "metadata": {},
   "outputs": [],
   "source": [
    "# convert image into grayscale\n",
    "image = Image.open(f'{dir_path}Transparent/Tidak Cacad_transparent86.png')\n",
    "greyscale_image = image.convert('L')\n",
    "greyscale_image.save(f'{dir_path}Grayscale/Tidak Cacad86_grayscale.png')"
   ]
  },
  {
   "cell_type": "code",
   "execution_count": 88,
   "metadata": {},
   "outputs": [],
   "source": [
    "# convert image into grayscale\n",
    "image = Image.open(f'{dir_path}Transparent/Tidak Cacad_transparent87.png')\n",
    "greyscale_image = image.convert('L')\n",
    "greyscale_image.save(f'{dir_path}Grayscale/Tidak Cacad87_grayscale.png')"
   ]
  },
  {
   "cell_type": "code",
   "execution_count": 89,
   "metadata": {},
   "outputs": [],
   "source": [
    "# convert image into grayscale\n",
    "image = Image.open(f'{dir_path}Transparent/Tidak Cacad_transparent88.png')\n",
    "greyscale_image = image.convert('L')\n",
    "greyscale_image.save(f'{dir_path}Grayscale/Tidak Cacad88_grayscale.png')"
   ]
  },
  {
   "cell_type": "code",
   "execution_count": 90,
   "metadata": {},
   "outputs": [],
   "source": [
    "# convert image into grayscale\n",
    "image = Image.open(f'{dir_path}Transparent/Tidak Cacad_transparent89.png')\n",
    "greyscale_image = image.convert('L')\n",
    "greyscale_image.save(f'{dir_path}Grayscale/Tidak Cacad89_grayscale.png')"
   ]
  },
  {
   "cell_type": "code",
   "execution_count": 91,
   "metadata": {},
   "outputs": [],
   "source": [
    "# convert image into grayscale\n",
    "image = Image.open(f'{dir_path}Transparent/Tidak Cacad_transparent90.png')\n",
    "greyscale_image = image.convert('L')\n",
    "greyscale_image.save(f'{dir_path}Grayscale/Tidak Cacad90_grayscale.png')"
   ]
  },
  {
   "cell_type": "code",
   "execution_count": 92,
   "metadata": {},
   "outputs": [],
   "source": [
    "# convert image into grayscale\n",
    "image = Image.open(f'{dir_path}Transparent/Tidak Cacad_transparent91.png')\n",
    "greyscale_image = image.convert('L')\n",
    "greyscale_image.save(f'{dir_path}Grayscale/Tidak Cacad91_grayscale.png')"
   ]
  },
  {
   "cell_type": "code",
   "execution_count": 93,
   "metadata": {},
   "outputs": [],
   "source": [
    "# convert image into grayscale\n",
    "image = Image.open(f'{dir_path}Transparent/Tidak Cacad_transparent92.png')\n",
    "greyscale_image = image.convert('L')\n",
    "greyscale_image.save(f'{dir_path}Grayscale/Tidak Cacad92_grayscale.png')"
   ]
  },
  {
   "cell_type": "code",
   "execution_count": 94,
   "metadata": {},
   "outputs": [],
   "source": [
    "# convert image into grayscale\n",
    "image = Image.open(f'{dir_path}Transparent/Tidak Cacad_transparent93.png')\n",
    "greyscale_image = image.convert('L')\n",
    "greyscale_image.save(f'{dir_path}Grayscale/Tidak Cacad93_grayscale.png')"
   ]
  },
  {
   "cell_type": "code",
   "execution_count": 95,
   "metadata": {},
   "outputs": [],
   "source": [
    "# convert image into grayscale\n",
    "image = Image.open(f'{dir_path}Transparent/Tidak Cacad_transparent94.png')\n",
    "greyscale_image = image.convert('L')\n",
    "greyscale_image.save(f'{dir_path}Grayscale/Tidak Cacad94_grayscale.png')"
   ]
  },
  {
   "cell_type": "code",
   "execution_count": 96,
   "metadata": {},
   "outputs": [],
   "source": [
    "# convert image into grayscale\n",
    "image = Image.open(f'{dir_path}Transparent/Tidak Cacad_transparent95.png')\n",
    "greyscale_image = image.convert('L')\n",
    "greyscale_image.save(f'{dir_path}Grayscale/Tidak Cacad95_grayscale.png')"
   ]
  },
  {
   "cell_type": "code",
   "execution_count": 97,
   "metadata": {},
   "outputs": [],
   "source": [
    "# convert image into grayscale\n",
    "image = Image.open(f'{dir_path}Transparent/Tidak Cacad_transparent96.png')\n",
    "greyscale_image = image.convert('L')\n",
    "greyscale_image.save(f'{dir_path}Grayscale/Tidak Cacad96_grayscale.png')"
   ]
  },
  {
   "cell_type": "code",
   "execution_count": 98,
   "metadata": {},
   "outputs": [],
   "source": [
    "# convert image into grayscale\n",
    "image = Image.open(f'{dir_path}Transparent/Tidak Cacad_transparent97.png')\n",
    "greyscale_image = image.convert('L')\n",
    "greyscale_image.save(f'{dir_path}Grayscale/Tidak Cacad97_grayscale.png')"
   ]
  },
  {
   "cell_type": "code",
   "execution_count": 99,
   "metadata": {},
   "outputs": [],
   "source": [
    "# convert image into grayscale\n",
    "image = Image.open(f'{dir_path}Transparent/Tidak Cacad_transparent98.png')\n",
    "greyscale_image = image.convert('L')\n",
    "greyscale_image.save(f'{dir_path}Grayscale/Tidak Cacad98_grayscale.png')"
   ]
  },
  {
   "cell_type": "code",
   "execution_count": 100,
   "metadata": {},
   "outputs": [],
   "source": [
    "# convert image into grayscale\n",
    "image = Image.open(f'{dir_path}Transparent/Tidak Cacad_transparent99.png')\n",
    "greyscale_image = image.convert('L')\n",
    "greyscale_image.save(f'{dir_path}Grayscale/Tidak Cacad99_grayscale.png')"
   ]
  },
  {
   "cell_type": "code",
   "execution_count": 101,
   "metadata": {},
   "outputs": [],
   "source": [
    "# convert image into grayscale\n",
    "image = Image.open(f'{dir_path}Transparent/Tidak Cacad_transparent100.png')\n",
    "greyscale_image = image.convert('L')\n",
    "greyscale_image.save(f'{dir_path}Grayscale/Tidak Cacad100_grayscale.png')"
   ]
  }
 ],
 "metadata": {
  "kernelspec": {
   "display_name": "Python 3.10.6 64-bit",
   "language": "python",
   "name": "python3"
  },
  "language_info": {
   "codemirror_mode": {
    "name": "ipython",
    "version": 3
   },
   "file_extension": ".py",
   "mimetype": "text/x-python",
   "name": "python",
   "nbconvert_exporter": "python",
   "pygments_lexer": "ipython3",
   "version": "3.10.6"
  },
  "vscode": {
   "interpreter": {
    "hash": "369f2c481f4da34e4445cda3fffd2e751bd1c4d706f27375911949ba6bb62e1c"
   }
  }
 },
 "nbformat": 4,
 "nbformat_minor": 4
}
