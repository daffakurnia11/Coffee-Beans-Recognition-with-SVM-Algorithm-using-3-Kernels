{
 "cells": [
  {
   "cell_type": "markdown",
   "metadata": {},
   "source": [
    "# importing required libraries"
   ]
  },
  {
   "cell_type": "code",
   "execution_count": 89,
   "metadata": {},
   "outputs": [],
   "source": [
    "import cv2\n",
    "import glob\n",
    "import matplotlib.pyplot as plt\n",
    "import os,glob\n",
    "import os\n",
    "from os import listdir,makedirs\n",
    "from os.path import isfile,join\n",
    "import skimage\n",
    "from skimage import data\n",
    "import numpy as np\n",
    "import matplotlib.pyplot as plt\n",
    "%matplotlib inline\n",
    "from PIL import Image\n",
    "\n",
    "dir_path = \"C:/Users/LnData User/Documents/SEMESTER 7/FP SIFON/Coffee Beans Classification/Dataset/Tidak Cacad/\""
   ]
  },
  {
   "cell_type": "markdown",
   "metadata": {},
   "source": [
    "# load and implement grayscale to all image"
   ]
  },
  {
   "cell_type": "code",
   "execution_count": 90,
   "metadata": {},
   "outputs": [],
   "source": [
    "# convert image into grayscale\n",
    "image = Image.open(f'{dir_path}Image/Tidak Cacad1.jpg')\n",
    "greyscale_image = image.convert('L')\n",
    "greyscale_image.save(f'{dir_path}Grayscale/Tidak Cacad1_grayscale.jpg')"
   ]
  },
  {
   "cell_type": "code",
   "execution_count": 91,
   "metadata": {},
   "outputs": [],
   "source": [
    "# convert image into grayscale\n",
    "image = Image.open(f'{dir_path}Image/Tidak Cacad2.jpg')\n",
    "greyscale_image = image.convert('L')\n",
    "greyscale_image.save(f'{dir_path}Grayscale/Tidak Cacad2_grayscale.jpg')"
   ]
  },
  {
   "cell_type": "code",
   "execution_count": 92,
   "metadata": {},
   "outputs": [],
   "source": [
    "# convert image into grayscale\n",
    "image = Image.open(f'{dir_path}Image/Tidak Cacad3.jpg')\n",
    "greyscale_image = image.convert('L')\n",
    "greyscale_image.save(f'{dir_path}Grayscale/Tidak Cacad3_grayscale.jpg')"
   ]
  },
  {
   "cell_type": "code",
   "execution_count": 93,
   "metadata": {},
   "outputs": [],
   "source": [
    "# convert image into grayscale\n",
    "image = Image.open(f'{dir_path}Image/Tidak Cacad4.jpg')\n",
    "greyscale_image = image.convert('L')\n",
    "greyscale_image.save(f'{dir_path}Grayscale/Tidak Cacad4_grayscale.jpg')"
   ]
  },
  {
   "cell_type": "code",
   "execution_count": 94,
   "metadata": {},
   "outputs": [],
   "source": [
    "# convert image into grayscale\n",
    "image = Image.open(f'{dir_path}Image/Tidak Cacad5.jpg')\n",
    "greyscale_image = image.convert('L')\n",
    "greyscale_image.save(f'{dir_path}Grayscale/Tidak Cacad5_grayscale.jpg')"
   ]
  },
  {
   "cell_type": "code",
   "execution_count": 95,
   "metadata": {},
   "outputs": [],
   "source": [
    "# convert image into grayscale\n",
    "image = Image.open(f'{dir_path}Image/Tidak Cacad6.jpg')\n",
    "greyscale_image = image.convert('L')\n",
    "greyscale_image.save(f'{dir_path}Grayscale/Tidak Cacad6_grayscale.jpg')"
   ]
  },
  {
   "cell_type": "code",
   "execution_count": 96,
   "metadata": {},
   "outputs": [],
   "source": [
    "# convert image into grayscale\n",
    "image = Image.open(f'{dir_path}Image/Tidak Cacad7.jpg')\n",
    "greyscale_image = image.convert('L')\n",
    "greyscale_image.save(f'{dir_path}Grayscale/Tidak Cacad7_grayscale.jpg')"
   ]
  },
  {
   "cell_type": "code",
   "execution_count": 97,
   "metadata": {},
   "outputs": [],
   "source": [
    "# convert image into grayscale\n",
    "image = Image.open(f'{dir_path}Image/Tidak Cacad8.jpg')\n",
    "greyscale_image = image.convert('L')\n",
    "greyscale_image.save(f'{dir_path}Grayscale/Tidak Cacad8_grayscale.jpg')"
   ]
  },
  {
   "cell_type": "code",
   "execution_count": 98,
   "metadata": {},
   "outputs": [],
   "source": [
    "# convert image into grayscale\n",
    "image = Image.open(f'{dir_path}Image/Tidak Cacad9.jpg')\n",
    "greyscale_image = image.convert('L')\n",
    "greyscale_image.save(f'{dir_path}Grayscale/Tidak Cacad9_grayscale.jpg')"
   ]
  },
  {
   "cell_type": "code",
   "execution_count": 99,
   "metadata": {},
   "outputs": [],
   "source": [
    "# convert image into grayscale\n",
    "image = Image.open(f'{dir_path}Image/Tidak Cacad10.jpg')\n",
    "greyscale_image = image.convert('L')\n",
    "greyscale_image.save(f'{dir_path}Grayscale/Tidak Cacad10_grayscale.jpg')"
   ]
  },
  {
   "cell_type": "code",
   "execution_count": 100,
   "metadata": {},
   "outputs": [],
   "source": [
    "# convert image into grayscale\n",
    "image = Image.open(f'{dir_path}Image/Tidak Cacad11.jpg')\n",
    "greyscale_image = image.convert('L')\n",
    "greyscale_image.save(f'{dir_path}Grayscale/Tidak Cacad11_grayscale.jpg')"
   ]
  },
  {
   "cell_type": "code",
   "execution_count": 101,
   "metadata": {},
   "outputs": [],
   "source": [
    "# convert image into grayscale\n",
    "image = Image.open(f'{dir_path}Image/Tidak Cacad12.jpg')\n",
    "greyscale_image = image.convert('L')\n",
    "greyscale_image.save(f'{dir_path}Grayscale/Tidak Cacad12_grayscale.jpg')"
   ]
  },
  {
   "cell_type": "code",
   "execution_count": 102,
   "metadata": {},
   "outputs": [],
   "source": [
    "# convert image into grayscale\n",
    "image = Image.open(f'{dir_path}Image/Tidak Cacad13.jpg')\n",
    "greyscale_image = image.convert('L')\n",
    "greyscale_image.save(f'{dir_path}Grayscale/Tidak Cacad13_grayscale.jpg')"
   ]
  },
  {
   "cell_type": "code",
   "execution_count": 103,
   "metadata": {},
   "outputs": [],
   "source": [
    "# convert image into grayscale\n",
    "image = Image.open(f'{dir_path}Image/Tidak Cacad14.jpg')\n",
    "greyscale_image = image.convert('L')\n",
    "greyscale_image.save(f'{dir_path}Grayscale/Tidak Cacad14_grayscale.jpg')"
   ]
  },
  {
   "cell_type": "code",
   "execution_count": 104,
   "metadata": {},
   "outputs": [],
   "source": [
    "# convert image into grayscale\n",
    "image = Image.open(f'{dir_path}Image/Tidak Cacad15.jpg')\n",
    "greyscale_image = image.convert('L')\n",
    "greyscale_image.save(f'{dir_path}Grayscale/Tidak Cacad15_grayscale.jpg')"
   ]
  },
  {
   "cell_type": "code",
   "execution_count": 105,
   "metadata": {},
   "outputs": [],
   "source": [
    "# convert image into grayscale\n",
    "image = Image.open(f'{dir_path}Image/Tidak Cacad16.jpg')\n",
    "greyscale_image = image.convert('L')\n",
    "greyscale_image.save(f'{dir_path}Grayscale/Tidak Cacad16_grayscale.jpg')"
   ]
  },
  {
   "cell_type": "code",
   "execution_count": 106,
   "metadata": {},
   "outputs": [],
   "source": [
    "# convert image into grayscale\n",
    "image = Image.open(f'{dir_path}Image/Tidak Cacad17.jpg')\n",
    "greyscale_image = image.convert('L')\n",
    "greyscale_image.save(f'{dir_path}Grayscale/Tidak Cacad17_grayscale.jpg')"
   ]
  },
  {
   "cell_type": "code",
   "execution_count": 107,
   "metadata": {},
   "outputs": [],
   "source": [
    "# convert image into grayscale\n",
    "image = Image.open(f'{dir_path}Image/Tidak Cacad18.jpg')\n",
    "greyscale_image = image.convert('L')\n",
    "greyscale_image.save(f'{dir_path}Grayscale/Tidak Cacad18_grayscale.jpg')"
   ]
  },
  {
   "cell_type": "code",
   "execution_count": 108,
   "metadata": {},
   "outputs": [],
   "source": [
    "# convert image into grayscale\n",
    "image = Image.open(f'{dir_path}Image/Tidak Cacad19.jpg')\n",
    "greyscale_image = image.convert('L')\n",
    "greyscale_image.save(f'{dir_path}Grayscale/Tidak Cacad19_grayscale.jpg')"
   ]
  },
  {
   "cell_type": "code",
   "execution_count": 109,
   "metadata": {},
   "outputs": [],
   "source": [
    "# convert image into grayscale\n",
    "image = Image.open(f'{dir_path}Image/Tidak Cacad20.jpg')\n",
    "greyscale_image = image.convert('L')\n",
    "greyscale_image.save(f'{dir_path}Grayscale/Tidak Cacad20_grayscale.jpg')"
   ]
  },
  {
   "cell_type": "code",
   "execution_count": 110,
   "metadata": {},
   "outputs": [],
   "source": [
    "# convert image into grayscale\n",
    "image = Image.open(f'{dir_path}Image/Tidak Cacad21.jpg')\n",
    "greyscale_image = image.convert('L')\n",
    "greyscale_image.save(f'{dir_path}Grayscale/Tidak Cacad21_grayscale.jpg')"
   ]
  },
  {
   "cell_type": "code",
   "execution_count": 111,
   "metadata": {},
   "outputs": [],
   "source": [
    "# convert image into grayscale\n",
    "image = Image.open(f'{dir_path}Image/Tidak Cacad22.jpg')\n",
    "greyscale_image = image.convert('L')\n",
    "greyscale_image.save(f'{dir_path}Grayscale/Tidak Cacad22_grayscale.jpg')"
   ]
  },
  {
   "cell_type": "code",
   "execution_count": 112,
   "metadata": {},
   "outputs": [],
   "source": [
    "# convert image into grayscale\n",
    "image = Image.open(f'{dir_path}Image/Tidak Cacad23.jpg')\n",
    "greyscale_image = image.convert('L')\n",
    "greyscale_image.save(f'{dir_path}Grayscale/Tidak Cacad23_grayscale.jpg')"
   ]
  },
  {
   "cell_type": "code",
   "execution_count": 113,
   "metadata": {},
   "outputs": [],
   "source": [
    "# convert image into grayscale\n",
    "image = Image.open(f'{dir_path}Image/Tidak Cacad24.jpg')\n",
    "greyscale_image = image.convert('L')\n",
    "greyscale_image.save(f'{dir_path}Grayscale/Tidak Cacad24_grayscale.jpg')"
   ]
  },
  {
   "cell_type": "code",
   "execution_count": 114,
   "metadata": {},
   "outputs": [],
   "source": [
    "# convert image into grayscale\n",
    "image = Image.open(f'{dir_path}Image/Tidak Cacad25.jpg')\n",
    "greyscale_image = image.convert('L')\n",
    "greyscale_image.save(f'{dir_path}Grayscale/Tidak Cacad25_grayscale.jpg')"
   ]
  },
  {
   "cell_type": "code",
   "execution_count": 115,
   "metadata": {},
   "outputs": [],
   "source": [
    "# convert image into grayscale\n",
    "image = Image.open(f'{dir_path}Image/Tidak Cacad26.jpg')\n",
    "greyscale_image = image.convert('L')\n",
    "greyscale_image.save(f'{dir_path}Grayscale/Tidak Cacad26_grayscale.jpg')"
   ]
  },
  {
   "cell_type": "code",
   "execution_count": 116,
   "metadata": {},
   "outputs": [],
   "source": [
    "# convert image into grayscale\n",
    "image = Image.open(f'{dir_path}Image/Tidak Cacad27.jpg')\n",
    "greyscale_image = image.convert('L')\n",
    "greyscale_image.save(f'{dir_path}Grayscale/Tidak Cacad27_grayscale.jpg')"
   ]
  },
  {
   "cell_type": "code",
   "execution_count": 117,
   "metadata": {},
   "outputs": [],
   "source": [
    "# convert image into grayscale\n",
    "image = Image.open(f'{dir_path}Image/Tidak Cacad28.jpg')\n",
    "greyscale_image = image.convert('L')\n",
    "greyscale_image.save(f'{dir_path}Grayscale/Tidak Cacad28_grayscale.jpg')"
   ]
  },
  {
   "cell_type": "code",
   "execution_count": null,
   "metadata": {},
   "outputs": [],
   "source": [
    "# convert image into grayscale\n",
    "image = Image.open(f'{dir_path}Image/Tidak Cacad29.jpg')\n",
    "greyscale_image = image.convert('L')\n",
    "greyscale_image.save(f'{dir_path}Grayscale/Tidak Cacad29_grayscale.jpg')"
   ]
  },
  {
   "cell_type": "code",
   "execution_count": null,
   "metadata": {},
   "outputs": [],
   "source": [
    "# convert image into grayscale\n",
    "image = Image.open(f'{dir_path}Image/Tidak Cacad30.jpg')\n",
    "greyscale_image = image.convert('L')\n",
    "greyscale_image.save(f'{dir_path}Grayscale/Tidak Cacad30_grayscale.jpg')"
   ]
  },
  {
   "cell_type": "code",
   "execution_count": null,
   "metadata": {},
   "outputs": [],
   "source": [
    "# convert image into grayscale\n",
    "image = Image.open(f'{dir_path}Image/Tidak Cacad31.jpg')\n",
    "greyscale_image = image.convert('L')\n",
    "greyscale_image.save(f'{dir_path}Grayscale/Tidak Cacad31_grayscale.jpg')"
   ]
  },
  {
   "cell_type": "code",
   "execution_count": null,
   "metadata": {},
   "outputs": [],
   "source": [
    "# convert image into grayscale\n",
    "image = Image.open(f'{dir_path}Image/Tidak Cacad32.jpg')\n",
    "greyscale_image = image.convert('L')\n",
    "greyscale_image.save(f'{dir_path}Grayscale/Tidak Cacad32_grayscale.jpg')"
   ]
  },
  {
   "cell_type": "code",
   "execution_count": null,
   "metadata": {},
   "outputs": [],
   "source": [
    "# convert image into grayscale\n",
    "image = Image.open(f'{dir_path}Image/Tidak Cacad33.jpg')\n",
    "greyscale_image = image.convert('L')\n",
    "greyscale_image.save(f'{dir_path}Grayscale/Tidak Cacad33_grayscale.jpg')"
   ]
  },
  {
   "cell_type": "code",
   "execution_count": null,
   "metadata": {},
   "outputs": [],
   "source": [
    "# convert image into grayscale\n",
    "image = Image.open(f'{dir_path}Image/Tidak Cacad34.jpg')\n",
    "greyscale_image = image.convert('L')\n",
    "greyscale_image.save(f'{dir_path}Grayscale/Tidak Cacad34_grayscale.jpg')"
   ]
  },
  {
   "cell_type": "code",
   "execution_count": null,
   "metadata": {},
   "outputs": [],
   "source": [
    "# convert image into grayscale\n",
    "image = Image.open(f'{dir_path}Image/Tidak Cacad35.jpg')\n",
    "greyscale_image = image.convert('L')\n",
    "greyscale_image.save(f'{dir_path}Grayscale/Tidak Cacad35_grayscale.jpg')"
   ]
  },
  {
   "cell_type": "code",
   "execution_count": null,
   "metadata": {},
   "outputs": [],
   "source": [
    "# convert image into grayscale\n",
    "image = Image.open(f'{dir_path}Image/Tidak Cacad36.jpg')\n",
    "greyscale_image = image.convert('L')\n",
    "greyscale_image.save(f'{dir_path}Grayscale/Tidak Cacad36_grayscale.jpg')"
   ]
  },
  {
   "cell_type": "code",
   "execution_count": null,
   "metadata": {},
   "outputs": [],
   "source": [
    "# convert image into grayscale\n",
    "image = Image.open(f'{dir_path}Image/Tidak Cacad37.jpg')\n",
    "greyscale_image = image.convert('L')\n",
    "greyscale_image.save(f'{dir_path}Grayscale/Tidak Cacad37_grayscale.jpg')"
   ]
  },
  {
   "cell_type": "code",
   "execution_count": null,
   "metadata": {},
   "outputs": [],
   "source": [
    "# convert image into grayscale\n",
    "image = Image.open(f'{dir_path}Image/Tidak Cacad38.jpg')\n",
    "greyscale_image = image.convert('L')\n",
    "greyscale_image.save(f'{dir_path}Grayscale/Tidak Cacad38_grayscale.jpg')"
   ]
  },
  {
   "cell_type": "code",
   "execution_count": null,
   "metadata": {},
   "outputs": [],
   "source": [
    "# convert image into grayscale\n",
    "image = Image.open(f'{dir_path}Image/Tidak Cacad39.jpg')\n",
    "greyscale_image = image.convert('L')\n",
    "greyscale_image.save(f'{dir_path}Grayscale/Tidak Cacad39_grayscale.jpg')"
   ]
  },
  {
   "cell_type": "code",
   "execution_count": null,
   "metadata": {},
   "outputs": [],
   "source": [
    "# convert image into grayscale\n",
    "image = Image.open(f'{dir_path}Image/Tidak Cacad40.jpg')\n",
    "greyscale_image = image.convert('L')\n",
    "greyscale_image.save(f'{dir_path}Grayscale/Tidak Cacad40_grayscale.jpg')"
   ]
  },
  {
   "cell_type": "code",
   "execution_count": null,
   "metadata": {},
   "outputs": [],
   "source": [
    "# convert image into grayscale\n",
    "image = Image.open(f'{dir_path}Image/Tidak Cacad41.jpg')\n",
    "greyscale_image = image.convert('L')\n",
    "greyscale_image.save(f'{dir_path}Grayscale/Tidak Cacad41_grayscale.jpg')"
   ]
  },
  {
   "cell_type": "code",
   "execution_count": null,
   "metadata": {},
   "outputs": [],
   "source": [
    "# convert image into grayscale\n",
    "image = Image.open(f'{dir_path}Image/Tidak Cacad42.jpg')\n",
    "greyscale_image = image.convert('L')\n",
    "greyscale_image.save(f'{dir_path}Grayscale/Tidak Cacad42_grayscale.jpg')"
   ]
  },
  {
   "cell_type": "code",
   "execution_count": null,
   "metadata": {},
   "outputs": [],
   "source": [
    "# convert image into grayscale\n",
    "image = Image.open(f'{dir_path}Image/Tidak Cacad43.jpg')\n",
    "greyscale_image = image.convert('L')\n",
    "greyscale_image.save(f'{dir_path}Grayscale/Tidak Cacad43_grayscale.jpg')"
   ]
  },
  {
   "cell_type": "code",
   "execution_count": null,
   "metadata": {},
   "outputs": [],
   "source": [
    "# convert image into grayscale\n",
    "image = Image.open(f'{dir_path}Image/Tidak Cacad44.jpg')\n",
    "greyscale_image = image.convert('L')\n",
    "greyscale_image.save(f'{dir_path}Grayscale/Tidak Cacad44_grayscale.jpg')"
   ]
  },
  {
   "cell_type": "code",
   "execution_count": null,
   "metadata": {},
   "outputs": [],
   "source": [
    "# convert image into grayscale\n",
    "image = Image.open(f'{dir_path}Image/Tidak Cacad45.jpg')\n",
    "greyscale_image = image.convert('L')\n",
    "greyscale_image.save(f'{dir_path}Grayscale/Tidak Cacad45_grayscale.jpg')"
   ]
  },
  {
   "cell_type": "code",
   "execution_count": null,
   "metadata": {},
   "outputs": [],
   "source": [
    "# convert image into grayscale\n",
    "image = Image.open(f'{dir_path}Image/Tidak Cacad46.jpg')\n",
    "greyscale_image = image.convert('L')\n",
    "greyscale_image.save(f'{dir_path}Grayscale/Tidak Cacad46_grayscale.jpg')"
   ]
  },
  {
   "cell_type": "code",
   "execution_count": null,
   "metadata": {},
   "outputs": [],
   "source": [
    "# convert image into grayscale\n",
    "image = Image.open(f'{dir_path}Image/Tidak Cacad47.jpg')\n",
    "greyscale_image = image.convert('L')\n",
    "greyscale_image.save(f'{dir_path}Grayscale/Tidak Cacad47_grayscale.jpg')"
   ]
  },
  {
   "cell_type": "code",
   "execution_count": null,
   "metadata": {},
   "outputs": [],
   "source": [
    "# convert image into grayscale\n",
    "image = Image.open(f'{dir_path}Image/Tidak Cacad48.jpg')\n",
    "greyscale_image = image.convert('L')\n",
    "greyscale_image.save(f'{dir_path}Grayscale/Tidak Cacad48_grayscale.jpg')"
   ]
  },
  {
   "cell_type": "code",
   "execution_count": null,
   "metadata": {},
   "outputs": [],
   "source": [
    "# convert image into grayscale\n",
    "image = Image.open(f'{dir_path}Image/Tidak Cacad49.jpg')\n",
    "greyscale_image = image.convert('L')\n",
    "greyscale_image.save(f'{dir_path}Grayscale/Tidak Cacad49_grayscale.jpg')"
   ]
  },
  {
   "cell_type": "code",
   "execution_count": null,
   "metadata": {},
   "outputs": [],
   "source": [
    "# convert image into grayscale\n",
    "image = Image.open(f'{dir_path}Image/Tidak Cacad50.jpg')\n",
    "greyscale_image = image.convert('L')\n",
    "greyscale_image.save(f'{dir_path}Grayscale/Tidak Cacad50_grayscale.jpg')"
   ]
  },
  {
   "cell_type": "code",
   "execution_count": null,
   "metadata": {},
   "outputs": [],
   "source": [
    "# convert image into grayscale\n",
    "image = Image.open(f'{dir_path}Image/Tidak Cacad51.jpg')\n",
    "greyscale_image = image.convert('L')\n",
    "greyscale_image.save(f'{dir_path}Grayscale/Tidak Cacad51_grayscale.jpg')"
   ]
  },
  {
   "cell_type": "code",
   "execution_count": null,
   "metadata": {},
   "outputs": [],
   "source": [
    "# convert image into grayscale\n",
    "image = Image.open(f'{dir_path}Image/Tidak Cacad52.jpg')\n",
    "greyscale_image = image.convert('L')\n",
    "greyscale_image.save(f'{dir_path}Grayscale/Tidak Cacad52_grayscale.jpg')"
   ]
  },
  {
   "cell_type": "code",
   "execution_count": null,
   "metadata": {},
   "outputs": [],
   "source": [
    "# convert image into grayscale\n",
    "image = Image.open(f'{dir_path}Image/Tidak Cacad53.jpg')\n",
    "greyscale_image = image.convert('L')\n",
    "greyscale_image.save(f'{dir_path}Grayscale/Tidak Cacad53_grayscale.jpg')"
   ]
  },
  {
   "cell_type": "code",
   "execution_count": null,
   "metadata": {},
   "outputs": [],
   "source": [
    "# convert image into grayscale\n",
    "image = Image.open(f'{dir_path}Image/Tidak Cacad54.jpg')\n",
    "greyscale_image = image.convert('L')\n",
    "greyscale_image.save(f'{dir_path}Grayscale/Tidak Cacad54_grayscale.jpg')"
   ]
  },
  {
   "cell_type": "code",
   "execution_count": null,
   "metadata": {},
   "outputs": [],
   "source": [
    "# convert image into grayscale\n",
    "image = Image.open(f'{dir_path}Image/Tidak Cacad55.jpg')\n",
    "greyscale_image = image.convert('L')\n",
    "greyscale_image.save(f'{dir_path}Grayscale/Tidak Cacad55_grayscale.jpg')"
   ]
  },
  {
   "cell_type": "code",
   "execution_count": null,
   "metadata": {},
   "outputs": [],
   "source": [
    "# convert image into grayscale\n",
    "image = Image.open(f'{dir_path}Image/Tidak Cacad56.jpg')\n",
    "greyscale_image = image.convert('L')\n",
    "greyscale_image.save(f'{dir_path}Grayscale/Tidak Cacad56_grayscale.jpg')"
   ]
  },
  {
   "cell_type": "code",
   "execution_count": null,
   "metadata": {},
   "outputs": [],
   "source": [
    "# convert image into grayscale\n",
    "image = Image.open(f'{dir_path}Image/Tidak Cacad57.jpg')\n",
    "greyscale_image = image.convert('L')\n",
    "greyscale_image.save(f'{dir_path}Grayscale/Tidak Cacad57_grayscale.jpg')"
   ]
  },
  {
   "cell_type": "code",
   "execution_count": null,
   "metadata": {},
   "outputs": [],
   "source": [
    "# convert image into grayscale\n",
    "image = Image.open(f'{dir_path}Image/Tidak Cacad58.jpg')\n",
    "greyscale_image = image.convert('L')\n",
    "greyscale_image.save(f'{dir_path}Grayscale/Tidak Cacad58_grayscale.jpg')"
   ]
  },
  {
   "cell_type": "code",
   "execution_count": null,
   "metadata": {},
   "outputs": [],
   "source": [
    "# convert image into grayscale\n",
    "image = Image.open(f'{dir_path}Image/Tidak Cacad59.jpg')\n",
    "greyscale_image = image.convert('L')\n",
    "greyscale_image.save(f'{dir_path}Grayscale/Tidak Cacad59_grayscale.jpg')"
   ]
  },
  {
   "cell_type": "code",
   "execution_count": null,
   "metadata": {},
   "outputs": [],
   "source": [
    "# convert image into grayscale\n",
    "image = Image.open(f'{dir_path}Image/Tidak Cacad60.jpg')\n",
    "greyscale_image = image.convert('L')\n",
    "greyscale_image.save(f'{dir_path}Grayscale/Tidak Cacad60_grayscale.jpg')"
   ]
  },
  {
   "cell_type": "code",
   "execution_count": null,
   "metadata": {},
   "outputs": [],
   "source": [
    "# convert image into grayscale\n",
    "image = Image.open(f'{dir_path}Image/Tidak Cacad61.jpg')\n",
    "greyscale_image = image.convert('L')\n",
    "greyscale_image.save(f'{dir_path}Grayscale/Tidak Cacad61_grayscale.jpg')"
   ]
  },
  {
   "cell_type": "code",
   "execution_count": null,
   "metadata": {},
   "outputs": [],
   "source": [
    "# convert image into grayscale\n",
    "image = Image.open(f'{dir_path}Image/Tidak Cacad62.jpg')\n",
    "greyscale_image = image.convert('L')\n",
    "greyscale_image.save(f'{dir_path}Grayscale/Tidak Cacad62_grayscale.jpg')"
   ]
  },
  {
   "cell_type": "code",
   "execution_count": null,
   "metadata": {},
   "outputs": [],
   "source": [
    "# convert image into grayscale\n",
    "image = Image.open(f'{dir_path}Image/Tidak Cacad63.jpg')\n",
    "greyscale_image = image.convert('L')\n",
    "greyscale_image.save(f'{dir_path}Grayscale/Tidak Cacad63_grayscale.jpg')"
   ]
  },
  {
   "cell_type": "code",
   "execution_count": null,
   "metadata": {},
   "outputs": [],
   "source": [
    "# convert image into grayscale\n",
    "image = Image.open(f'{dir_path}Image/Tidak Cacad64.jpg')\n",
    "greyscale_image = image.convert('L')\n",
    "greyscale_image.save(f'{dir_path}Grayscale/Tidak Cacad64_grayscale.jpg')"
   ]
  },
  {
   "cell_type": "code",
   "execution_count": null,
   "metadata": {},
   "outputs": [],
   "source": [
    "# convert image into grayscale\n",
    "image = Image.open(f'{dir_path}Image/Tidak Cacad65.jpg')\n",
    "greyscale_image = image.convert('L')\n",
    "greyscale_image.save(f'{dir_path}Grayscale/Tidak Cacad65_grayscale.jpg')"
   ]
  },
  {
   "cell_type": "code",
   "execution_count": null,
   "metadata": {},
   "outputs": [],
   "source": [
    "# convert image into grayscale\n",
    "image = Image.open(f'{dir_path}Image/Tidak Cacad66.jpg')\n",
    "greyscale_image = image.convert('L')\n",
    "greyscale_image.save(f'{dir_path}Grayscale/Tidak Cacad66_grayscale.jpg')"
   ]
  },
  {
   "cell_type": "code",
   "execution_count": null,
   "metadata": {},
   "outputs": [],
   "source": [
    "# convert image into grayscale\n",
    "image = Image.open(f'{dir_path}Image/Tidak Cacad67.jpg')\n",
    "greyscale_image = image.convert('L')\n",
    "greyscale_image.save(f'{dir_path}Grayscale/Tidak Cacad67_grayscale.jpg')"
   ]
  },
  {
   "cell_type": "code",
   "execution_count": null,
   "metadata": {},
   "outputs": [],
   "source": [
    "# convert image into grayscale\n",
    "image = Image.open(f'{dir_path}Image/Tidak Cacad68.jpg')\n",
    "greyscale_image = image.convert('L')\n",
    "greyscale_image.save(f'{dir_path}Grayscale/Tidak Cacad68_grayscale.jpg')"
   ]
  },
  {
   "cell_type": "code",
   "execution_count": null,
   "metadata": {},
   "outputs": [],
   "source": [
    "# convert image into grayscale\n",
    "image = Image.open(f'{dir_path}Image/Tidak Cacad69.jpg')\n",
    "greyscale_image = image.convert('L')\n",
    "greyscale_image.save(f'{dir_path}Grayscale/Tidak Cacad69_grayscale.jpg')"
   ]
  },
  {
   "cell_type": "code",
   "execution_count": null,
   "metadata": {},
   "outputs": [],
   "source": [
    "# convert image into grayscale\n",
    "image = Image.open(f'{dir_path}Image/Tidak Cacad70.jpg')\n",
    "greyscale_image = image.convert('L')\n",
    "greyscale_image.save(f'{dir_path}Grayscale/Tidak Cacad70_grayscale.jpg')"
   ]
  },
  {
   "cell_type": "code",
   "execution_count": null,
   "metadata": {},
   "outputs": [],
   "source": [
    "# convert image into grayscale\n",
    "image = Image.open(f'{dir_path}Image/Tidak Cacad71.jpg')\n",
    "greyscale_image = image.convert('L')\n",
    "greyscale_image.save(f'{dir_path}Grayscale/Tidak Cacad71_grayscale.jpg')"
   ]
  },
  {
   "cell_type": "code",
   "execution_count": null,
   "metadata": {},
   "outputs": [],
   "source": [
    "# convert image into grayscale\n",
    "image = Image.open(f'{dir_path}Image/Tidak Cacad72.jpg')\n",
    "greyscale_image = image.convert('L')\n",
    "greyscale_image.save(f'{dir_path}Grayscale/Tidak Cacad72_grayscale.jpg')"
   ]
  },
  {
   "cell_type": "code",
   "execution_count": null,
   "metadata": {},
   "outputs": [],
   "source": [
    "# convert image into grayscale\n",
    "image = Image.open(f'{dir_path}Image/Tidak Cacad73.jpg')\n",
    "greyscale_image = image.convert('L')\n",
    "greyscale_image.save(f'{dir_path}Grayscale/Tidak Cacad73_grayscale.jpg')"
   ]
  },
  {
   "cell_type": "code",
   "execution_count": null,
   "metadata": {},
   "outputs": [],
   "source": [
    "# convert image into grayscale\n",
    "image = Image.open(f'{dir_path}Image/Tidak Cacad74.jpg')\n",
    "greyscale_image = image.convert('L')\n",
    "greyscale_image.save(f'{dir_path}Grayscale/Tidak Cacad74_grayscale.jpg')"
   ]
  },
  {
   "cell_type": "code",
   "execution_count": null,
   "metadata": {},
   "outputs": [],
   "source": [
    "# convert image into grayscale\n",
    "image = Image.open(f'{dir_path}Image/Tidak Cacad75.jpg')\n",
    "greyscale_image = image.convert('L')\n",
    "greyscale_image.save(f'{dir_path}Grayscale/Tidak Cacad75_grayscale.jpg')"
   ]
  },
  {
   "cell_type": "code",
   "execution_count": null,
   "metadata": {},
   "outputs": [],
   "source": [
    "# convert image into grayscale\n",
    "image = Image.open(f'{dir_path}Image/Tidak Cacad76.jpg')\n",
    "greyscale_image = image.convert('L')\n",
    "greyscale_image.save(f'{dir_path}Grayscale/Tidak Cacad76_grayscale.jpg')"
   ]
  },
  {
   "cell_type": "code",
   "execution_count": null,
   "metadata": {},
   "outputs": [],
   "source": [
    "# convert image into grayscale\n",
    "image = Image.open(f'{dir_path}Image/Tidak Cacad77.jpg')\n",
    "greyscale_image = image.convert('L')\n",
    "greyscale_image.save(f'{dir_path}Grayscale/Tidak Cacad77_grayscale.jpg')"
   ]
  },
  {
   "cell_type": "code",
   "execution_count": null,
   "metadata": {},
   "outputs": [],
   "source": [
    "# convert image into grayscale\n",
    "image = Image.open(f'{dir_path}Image/Tidak Cacad78.jpg')\n",
    "greyscale_image = image.convert('L')\n",
    "greyscale_image.save(f'{dir_path}Grayscale/Tidak Cacad78_grayscale.jpg')"
   ]
  },
  {
   "cell_type": "code",
   "execution_count": null,
   "metadata": {},
   "outputs": [],
   "source": [
    "# convert image into grayscale\n",
    "image = Image.open(f'{dir_path}Image/Tidak Cacad79.jpg')\n",
    "greyscale_image = image.convert('L')\n",
    "greyscale_image.save(f'{dir_path}Grayscale/Tidak Cacad79_grayscale.jpg')"
   ]
  },
  {
   "cell_type": "code",
   "execution_count": null,
   "metadata": {},
   "outputs": [],
   "source": [
    "# convert image into grayscale\n",
    "image = Image.open(f'{dir_path}Image/Tidak Cacad80.jpg')\n",
    "greyscale_image = image.convert('L')\n",
    "greyscale_image.save(f'{dir_path}Grayscale/Tidak Cacad80_grayscale.jpg')"
   ]
  },
  {
   "cell_type": "code",
   "execution_count": null,
   "metadata": {},
   "outputs": [],
   "source": [
    "# convert image into grayscale\n",
    "image = Image.open(f'{dir_path}Image/Tidak Cacad81.jpg')\n",
    "greyscale_image = image.convert('L')\n",
    "greyscale_image.save(f'{dir_path}Grayscale/Tidak Cacad81_grayscale.jpg')"
   ]
  },
  {
   "cell_type": "code",
   "execution_count": null,
   "metadata": {},
   "outputs": [],
   "source": [
    "# convert image into grayscale\n",
    "image = Image.open(f'{dir_path}Image/Tidak Cacad82.jpg')\n",
    "greyscale_image = image.convert('L')\n",
    "greyscale_image.save(f'{dir_path}Grayscale/Tidak Cacad82_grayscale.jpg')"
   ]
  },
  {
   "cell_type": "code",
   "execution_count": null,
   "metadata": {},
   "outputs": [],
   "source": [
    "# convert image into grayscale\n",
    "image = Image.open(f'{dir_path}Image/Tidak Cacad83.jpg')\n",
    "greyscale_image = image.convert('L')\n",
    "greyscale_image.save(f'{dir_path}Grayscale/Tidak Cacad83_grayscale.jpg')"
   ]
  },
  {
   "cell_type": "code",
   "execution_count": null,
   "metadata": {},
   "outputs": [],
   "source": [
    "# convert image into grayscale\n",
    "image = Image.open(f'{dir_path}Image/Tidak Cacad84.jpg')\n",
    "greyscale_image = image.convert('L')\n",
    "greyscale_image.save(f'{dir_path}Grayscale/Tidak Cacad84_grayscale.jpg')"
   ]
  },
  {
   "cell_type": "code",
   "execution_count": null,
   "metadata": {},
   "outputs": [],
   "source": [
    "# convert image into grayscale\n",
    "image = Image.open(f'{dir_path}Image/Tidak Cacad85.jpg')\n",
    "greyscale_image = image.convert('L')\n",
    "greyscale_image.save(f'{dir_path}Grayscale/Tidak Cacad85_grayscale.jpg')"
   ]
  },
  {
   "cell_type": "code",
   "execution_count": null,
   "metadata": {},
   "outputs": [],
   "source": [
    "# convert image into grayscale\n",
    "image = Image.open(f'{dir_path}Image/Tidak Cacad86.jpg')\n",
    "greyscale_image = image.convert('L')\n",
    "greyscale_image.save(f'{dir_path}Grayscale/Tidak Cacad86_grayscale.jpg')"
   ]
  },
  {
   "cell_type": "code",
   "execution_count": null,
   "metadata": {},
   "outputs": [],
   "source": [
    "# convert image into grayscale\n",
    "image = Image.open(f'{dir_path}Image/Tidak Cacad87.jpg')\n",
    "greyscale_image = image.convert('L')\n",
    "greyscale_image.save(f'{dir_path}Grayscale/Tidak Cacad87_grayscale.jpg')"
   ]
  },
  {
   "cell_type": "code",
   "execution_count": null,
   "metadata": {},
   "outputs": [],
   "source": [
    "# convert image into grayscale\n",
    "image = Image.open(f'{dir_path}Image/Tidak Cacad88.jpg')\n",
    "greyscale_image = image.convert('L')\n",
    "greyscale_image.save(f'{dir_path}Grayscale/Tidak Cacad88_grayscale.jpg')"
   ]
  },
  {
   "cell_type": "code",
   "execution_count": null,
   "metadata": {},
   "outputs": [],
   "source": [
    "# convert image into grayscale\n",
    "image = Image.open(f'{dir_path}Image/Tidak Cacad89.jpg')\n",
    "greyscale_image = image.convert('L')\n",
    "greyscale_image.save(f'{dir_path}Grayscale/Tidak Cacad89_grayscale.jpg')"
   ]
  },
  {
   "cell_type": "code",
   "execution_count": null,
   "metadata": {},
   "outputs": [],
   "source": [
    "# convert image into grayscale\n",
    "image = Image.open(f'{dir_path}Image/Tidak Cacad90.jpg')\n",
    "greyscale_image = image.convert('L')\n",
    "greyscale_image.save(f'{dir_path}Grayscale/Tidak Cacad90_grayscale.jpg')"
   ]
  },
  {
   "cell_type": "code",
   "execution_count": null,
   "metadata": {},
   "outputs": [],
   "source": [
    "# convert image into grayscale\n",
    "image = Image.open(f'{dir_path}Image/Tidak Cacad91.jpg')\n",
    "greyscale_image = image.convert('L')\n",
    "greyscale_image.save(f'{dir_path}Grayscale/Tidak Cacad91_grayscale.jpg')"
   ]
  },
  {
   "cell_type": "code",
   "execution_count": null,
   "metadata": {},
   "outputs": [],
   "source": [
    "# convert image into grayscale\n",
    "image = Image.open(f'{dir_path}Image/Tidak Cacad92.jpg')\n",
    "greyscale_image = image.convert('L')\n",
    "greyscale_image.save(f'{dir_path}Grayscale/Tidak Cacad92_grayscale.jpg')"
   ]
  },
  {
   "cell_type": "code",
   "execution_count": null,
   "metadata": {},
   "outputs": [],
   "source": [
    "# convert image into grayscale\n",
    "image = Image.open(f'{dir_path}Image/Tidak Cacad93.jpg')\n",
    "greyscale_image = image.convert('L')\n",
    "greyscale_image.save(f'{dir_path}Grayscale/Tidak Cacad93_grayscale.jpg')"
   ]
  },
  {
   "cell_type": "code",
   "execution_count": null,
   "metadata": {},
   "outputs": [],
   "source": [
    "# convert image into grayscale\n",
    "image = Image.open(f'{dir_path}Image/Tidak Cacad94.jpg')\n",
    "greyscale_image = image.convert('L')\n",
    "greyscale_image.save(f'{dir_path}Grayscale/Tidak Cacad94_grayscale.jpg')"
   ]
  },
  {
   "cell_type": "code",
   "execution_count": null,
   "metadata": {},
   "outputs": [],
   "source": [
    "# convert image into grayscale\n",
    "image = Image.open(f'{dir_path}Image/Tidak Cacad95.jpg')\n",
    "greyscale_image = image.convert('L')\n",
    "greyscale_image.save(f'{dir_path}Grayscale/Tidak Cacad95_grayscale.jpg')"
   ]
  },
  {
   "cell_type": "code",
   "execution_count": null,
   "metadata": {},
   "outputs": [],
   "source": [
    "# convert image into grayscale\n",
    "image = Image.open(f'{dir_path}Image/Tidak Cacad96.jpg')\n",
    "greyscale_image = image.convert('L')\n",
    "greyscale_image.save(f'{dir_path}Grayscale/Tidak Cacad96_grayscale.jpg')"
   ]
  },
  {
   "cell_type": "code",
   "execution_count": null,
   "metadata": {},
   "outputs": [],
   "source": [
    "# convert image into grayscale\n",
    "image = Image.open(f'{dir_path}Image/Tidak Cacad97.jpg')\n",
    "greyscale_image = image.convert('L')\n",
    "greyscale_image.save(f'{dir_path}Grayscale/Tidak Cacad97_grayscale.jpg')"
   ]
  },
  {
   "cell_type": "code",
   "execution_count": null,
   "metadata": {},
   "outputs": [],
   "source": [
    "# convert image into grayscale\n",
    "image = Image.open(f'{dir_path}Image/Tidak Cacad98.jpg')\n",
    "greyscale_image = image.convert('L')\n",
    "greyscale_image.save(f'{dir_path}Grayscale/Tidak Cacad98_grayscale.jpg')"
   ]
  },
  {
   "cell_type": "code",
   "execution_count": null,
   "metadata": {},
   "outputs": [],
   "source": [
    "# convert image into grayscale\n",
    "image = Image.open(f'{dir_path}Image/Tidak Cacad99.jpg')\n",
    "greyscale_image = image.convert('L')\n",
    "greyscale_image.save(f'{dir_path}Grayscale/Tidak Cacad99_grayscale.jpg')"
   ]
  },
  {
   "cell_type": "code",
   "execution_count": null,
   "metadata": {},
   "outputs": [],
   "source": [
    "# convert image into grayscale\n",
    "image = Image.open(f'{dir_path}Image/Tidak Cacad100.jpg')\n",
    "greyscale_image = image.convert('L')\n",
    "greyscale_image.save(f'{dir_path}Grayscale/Tidak Cacad100_grayscale.jpg')"
   ]
  }
 ],
 "metadata": {
  "kernelspec": {
   "display_name": "Python 3.10.6 64-bit",
   "language": "python",
   "name": "python3"
  },
  "language_info": {
   "codemirror_mode": {
    "name": "ipython",
    "version": 3
   },
   "file_extension": ".py",
   "mimetype": "text/x-python",
   "name": "python",
   "nbconvert_exporter": "python",
   "pygments_lexer": "ipython3",
   "version": "3.10.6"
  },
  "vscode": {
   "interpreter": {
    "hash": "369f2c481f4da34e4445cda3fffd2e751bd1c4d706f27375911949ba6bb62e1c"
   }
  }
 },
 "nbformat": 4,
 "nbformat_minor": 4
}
